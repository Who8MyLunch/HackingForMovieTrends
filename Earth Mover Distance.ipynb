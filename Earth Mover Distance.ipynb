{
 "metadata": {
  "name": ""
 },
 "nbformat": 3,
 "nbformat_minor": 0,
 "worksheets": [
  {
   "cells": [
    {
     "cell_type": "code",
     "collapsed": false,
     "input": [
      "from __future__ import division, print_function, unicode_literals\n",
      "\n",
      "%matplotlib inline\n",
      "\n",
      "import IPython.display\n",
      "import numpy as np\n",
      "import matplotlib.pyplot as plt\n",
      "\n",
      "import data_io\n",
      "\n",
      "import editdist\n",
      "\n",
      "import arrow\n",
      "import twython\n",
      "import textblob\n",
      "import requests\n",
      "\n",
      "import utilities\n",
      "\n",
      "# Keyboard shortcuts: http://ipython.org/ipython-doc/stable/interactive/notebook.html#keyboard-shortcuts"
     ],
     "language": "python",
     "metadata": {},
     "outputs": [],
     "prompt_number": 6
    },
    {
     "cell_type": "markdown",
     "metadata": {},
     "source": [
      "## Quick Example with Earth-Mover Distance\n",
      "\n",
      "*Note*: I wrote this little section before I decided to do away with EMD.  Not really relevant anymore.  Get ride of it?  Stick it in another notebook?\n",
      "\n",
      "Compute histograms of occurance of each word as basis for [Bag-of-Words](http://en.wikipedia.org/wiki/Bag-of-words_model) style model for cross-comparing multiple sets of words.  Use EMD metric as basis for quantifying similarity of two histograms.  The idea here is to compute a cost metric between all pairs of words used in this analysis.  So let's says my complete list of words is this:\n"
     ]
    },
    {
     "cell_type": "code",
     "collapsed": false,
     "input": [
      "words = ['apple', 'pear', 'peach', 'banana', 'raspberry']"
     ],
     "language": "python",
     "metadata": {},
     "outputs": [],
     "prompt_number": 7
    },
    {
     "cell_type": "markdown",
     "metadata": {},
     "source": [
      "I can next compute the edit distance between all word pairs as:\n",
      "    "
     ]
    },
    {
     "cell_type": "code",
     "collapsed": false,
     "input": [
      "\n",
      "d1 = editdist.distance('abcd', 'abcd')\n",
      "d2 = editdist.distance('abcd', 'abcf')\n",
      "d3 = editdist.distance('abcd', 'ah!')\n",
      "d4 = editdist.distance('abcd', 'eh!')\n",
      "d5 = editdist.distance('abcd', 'trampoline')\n",
      "\n",
      "print(d1, d2, d3, d4, d5)"
     ],
     "language": "python",
     "metadata": {},
     "outputs": [
      {
       "output_type": "stream",
       "stream": "stdout",
       "text": [
        "0 1 3 4 9\n"
       ]
      }
     ],
     "prompt_number": 8
    },
    {
     "cell_type": "code",
     "collapsed": false,
     "input": [
      "N = len(words)\n",
      "cost = np.zeros((N, N))\n",
      "\n",
      "for i in range(N):\n",
      "    w_i = words[i]\n",
      "    for j in range(N):\n",
      "        w_j = words[j]\n",
      "        \n",
      "        dist_ij = editdist.distance(w_i, w_j)\n",
      "        cost[i, j] = dist_ij\n",
      "        \n",
      "print(cost)"
     ],
     "language": "python",
     "metadata": {},
     "outputs": [
      {
       "output_type": "stream",
       "stream": "stdout",
       "text": [
        "[[ 0.  4.  5.  5.  6.]\n",
        " [ 4.  0.  2.  5.  6.]\n",
        " [ 5.  2.  0.  5.  7.]\n",
        " [ 5.  5.  5.  0.  8.]\n",
        " [ 6.  6.  7.  8.  0.]]\n"
       ]
      }
     ],
     "prompt_number": 9
    },
    {
     "cell_type": "markdown",
     "metadata": {},
     "source": [
      "The symmetric array above shows the number of character edits it will take to make the $i^{th}$ word in my set look like the $j^{th}$ word. For example, it takes 4 edits to make the word \"raspberry\" ($i=4$) look like \"peach\" ($j=2$).\n",
      "\n",
      "### **I still have not shown use of EMD. This section is incomplete.**"
     ]
    },
    {
     "cell_type": "code",
     "collapsed": false,
     "input": [],
     "language": "python",
     "metadata": {},
     "outputs": []
    }
   ],
   "metadata": {}
  }
 ]
}