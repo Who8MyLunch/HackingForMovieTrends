{
 "metadata": {
  "name": ""
 },
 "nbformat": 3,
 "nbformat_minor": 0,
 "worksheets": [
  {
   "cells": [
    {
     "cell_type": "markdown",
     "metadata": {},
     "source": [
      "IPython keyboard shortcuts: http://ipython.org/ipython-doc/stable/interactive/notebook.html#keyboard-shortcuts\n"
     ]
    },
    {
     "cell_type": "code",
     "collapsed": false,
     "input": [
      "from __future__ import division, print_function, unicode_literals\n",
      "\n",
      "%matplotlib inline\n",
      "\n",
      "import os\n",
      "\n",
      "import IPython.display\n",
      "import numpy as np\n",
      "import matplotlib.pyplot as plt\n",
      "\n",
      "import json_io\n",
      "import yaml_io\n",
      "\n",
      "# import twitter_auth\n",
      "import utilities\n",
      "\n",
      "import requests\n",
      "import requests_oauthlib\n",
      "import oauthlib\n",
      "\n",
      "import arrow"
     ],
     "language": "python",
     "metadata": {},
     "outputs": [],
     "prompt_number": 1
    },
    {
     "cell_type": "markdown",
     "metadata": {},
     "source": [
      "# Twitter OAuth-2\n",
      "\n",
      "https://dev.twitter.com/docs/auth/application-only-auth\n",
      "\n",
      "https://dev.twitter.com/docs/api/1.1/post/oauth2/token\n",
      "\n",
      "http://requests-oauthlib.readthedocs.org/en/latest/oauth2_workflow.html?highlight=grant%20type\n",
      "\n"
     ]
    },
    {
     "cell_type": "code",
     "collapsed": false,
     "input": [
      "# Load application's Twitter API details.\n",
      "fname_twitter_api = 'twitter_api.yml'\n",
      "info_twitter = yaml_io.read(fname_twitter_api)\n",
      "\n",
      "client_id = info_twitter['consumer_key']\n",
      "client_secret = info_twitter['consumer_secret']\n",
      "access_token = info_twitter['access_token']\n",
      "\n",
      "# Twitter API urls.\n",
      "# url_api = 'https://api.twitter.com'\n",
      "# url_request_oauth1_token = url_api + '/oauth/request_token'\n",
      "# url_request_oauth2_token = url_api + '/oauth2/token'\n",
      "# url_authorize = url_api + '/oauth/authorize'\n",
      "# url_access_token = url_api + '/oauth/access_token'\n",
      "            \n",
      "# Backend client.\n",
      "client = oauthlib.oauth2.BackendApplicationClient(client_id)\n",
      "\n",
      "# Generate a requests.Session object authorized via OAuth-2.\n",
      "token = {'access_token': access_token, 'token_type': 'Bearer'}\n",
      "twitter = requests_oauthlib.OAuth2Session(client, token=token)\n"
     ],
     "language": "python",
     "metadata": {},
     "outputs": [],
     "prompt_number": 2
    },
    {
     "cell_type": "markdown",
     "metadata": {},
     "source": [
      "# Rate Limit Status\n",
      "\n",
      "https://dev.twitter.com/docs/api/1.1/get/application/rate_limit_status\n"
     ]
    },
    {
     "cell_type": "code",
     "collapsed": false,
     "input": [
      "# Setup.\n",
      "url_status = 'https://api.twitter.com/1.1/application/rate_limit_status.json'\n",
      "params = {'resources': 'search'}\n",
      "\n",
      "# Request information from Twitter.\n",
      "response = twitter.get(url_status, params=params)\n",
      "\n",
      "# Interpret the results.\n",
      "info_status = response.json()\n",
      "info_search = info_status['resources']['search']['/search/tweets']\n",
      "\n",
      "delta = arrow.get(info_search['reset']) - arrow.now()\n",
      "minutes = delta.total_seconds()/60.\n",
      "\n",
      "limit = info_search['limit']\n",
      "\n",
      "remaining = info_search['remaining']\n",
      "\n",
      "# Display.\n",
      "print('Rate Limit Status')\n",
      "print('Limit:  {:d}'.format(limit))\n",
      "print('Remain: {:d}'.format(remaining))\n",
      "print('Reset:   {:.1f} min'.format(minutes))"
     ],
     "language": "python",
     "metadata": {},
     "outputs": [
      {
       "output_type": "stream",
       "stream": "stdout",
       "text": [
        "Rate Limit Status\n",
        "Limit:  450\n",
        "Remain: 450\n",
        "Reset:   15.0 min\n"
       ]
      }
     ],
     "prompt_number": 3
    },
    {
     "cell_type": "markdown",
     "metadata": {},
     "source": [
      "# Twitter Search\n",
      "\n",
      "The following set of links to Twitter's documentation are those I found most useful:\n",
      "\n",
      "- [What is a Tweet](https://dev.twitter.com/docs/platform-objects/tweets)\n",
      "- [Search API: GET search/tweets](https://dev.twitter.com/docs/api/1.1/get/search/tweets)\n",
      "- [**Help with the Search API**](https://dev.twitter.com/docs/using-search)\n",
      "- [Working with Timelines](https://dev.twitter.com/docs/working-with-timelines)\n",
      " \n",
      "The page [Help with the Search API](https://dev.twitter.com/docs/using-search) has this helpful tidbit of information when you expect a large number of return tweets.  In this case it is important to pay attention to iterating through the results: \n",
      "\n",
      "> Iterating in a result set: parameters such count, until, since_id, max_id allow to control how we iterate through search results, since it could be a large set of tweets. The 'Working with Timelines' documentation is a very rich and illustrative tutorial to learn how to use these parameters to achieve the best efficiency and reliability when processing result sets.\n",
      "\n",
      "## Example Search"
     ]
    },
    {
     "cell_type": "code",
     "collapsed": false,
     "input": [
      "# Setup.\n",
      "query = 'grey hound dog'\n",
      "count = 25\n",
      "\n",
      "url_search = 'https://api.twitter.com/1.1/search/tweets.json'\n",
      "params = {'q': query, 'include_entities': True, 'count': count}\n",
      "\n",
      "# Request information from Twitter.\n",
      "response = twitter.get(url_search, params=params)\n",
      "\n",
      "# Interpret the results.\n",
      "info_search = response.json()\n",
      "\n",
      "search_meta = info_search['search_metadata']\n",
      "search_tweets = info_search['statuses']\n",
      "                            \n",
      "print('\\nSearch metadata')\n",
      "print('---------------')\n",
      "IPython.display.display(search_meta)\n",
      "\n",
      "print('\\n\\nFirst returned tweet')\n",
      "print('--------------------')\n",
      "IPython.display.display(search_tweets[0])\n"
     ],
     "language": "python",
     "metadata": {},
     "outputs": [
      {
       "output_type": "stream",
       "stream": "stdout",
       "text": [
        "\n",
        "Search metadata\n",
        "---------------\n"
       ]
      },
      {
       "metadata": {},
       "output_type": "display_data",
       "text": [
        "{u'completed_in': 0.065,\n",
        " u'count': 25,\n",
        " u'max_id': 417437066792685568,\n",
        " u'max_id_str': u'417437066792685568',\n",
        " u'query': u'grey+hound+dog',\n",
        " u'refresh_url': u'?since_id=417437066792685568&q=grey%20hound%20dog&include_entities=1',\n",
        " u'since_id': 0,\n",
        " u'since_id_str': u'0'}"
       ]
      },
      {
       "output_type": "stream",
       "stream": "stdout",
       "text": [
        "\n",
        "\n",
        "First returned tweet\n",
        "--------------------\n"
       ]
      },
      {
       "metadata": {},
       "output_type": "display_data",
       "text": [
        "{u'contributors': None,\n",
        " u'coordinates': None,\n",
        " u'created_at': u'Sun Dec 29 23:28:47 +0000 2013',\n",
        " u'entities': {u'hashtags': [],\n",
        "  u'symbols': [],\n",
        "  u'urls': [],\n",
        "  u'user_mentions': [{u'id': 172202455,\n",
        "    u'id_str': u'172202455',\n",
        "    u'indices': [3, 13],\n",
        "    u'name': u'angel',\n",
        "    u'screen_name': u'iSpankHim'}]},\n",
        " u'favorite_count': 0,\n",
        " u'favorited': False,\n",
        " u'geo': None,\n",
        " u'id': 417437066792685568,\n",
        " u'id_str': u'417437066792685568',\n",
        " u'in_reply_to_screen_name': None,\n",
        " u'in_reply_to_status_id': None,\n",
        " u'in_reply_to_status_id_str': None,\n",
        " u'in_reply_to_user_id': None,\n",
        " u'in_reply_to_user_id_str': None,\n",
        " u'lang': u'en',\n",
        " u'metadata': {u'iso_language_code': u'en', u'result_type': u'recent'},\n",
        " u'place': None,\n",
        " u'retweet_count': 1,\n",
        " u'retweeted': False,\n",
        " u'retweeted_status': {u'contributors': None,\n",
        "  u'coordinates': None,\n",
        "  u'created_at': u'Sun Dec 29 22:39:59 +0000 2013',\n",
        "  u'entities': {u'hashtags': [],\n",
        "   u'symbols': [],\n",
        "   u'urls': [],\n",
        "   u'user_mentions': []},\n",
        "  u'favorite_count': 0,\n",
        "  u'favorited': False,\n",
        "  u'geo': None,\n",
        "  u'id': 417424789511213056,\n",
        "  u'id_str': u'417424789511213056',\n",
        "  u'in_reply_to_screen_name': None,\n",
        "  u'in_reply_to_status_id': None,\n",
        "  u'in_reply_to_status_id_str': None,\n",
        "  u'in_reply_to_user_id': None,\n",
        "  u'in_reply_to_user_id_str': None,\n",
        "  u'lang': u'en',\n",
        "  u'metadata': {u'iso_language_code': u'en', u'result_type': u'recent'},\n",
        "  u'place': None,\n",
        "  u'retweet_count': 1,\n",
        "  u'retweeted': False,\n",
        "  u'source': u'<a href=\"http://twitter.com/download/iphone\" rel=\"nofollow\">Twitter for iPhone</a>',\n",
        "  u'text': u'Alex would be an Italian grey hound if he was a dog',\n",
        "  u'truncated': False,\n",
        "  u'user': {u'contributors_enabled': False,\n",
        "   u'created_at': u'Thu Jul 29 03:55:02 +0000 2010',\n",
        "   u'default_profile': False,\n",
        "   u'default_profile_image': False,\n",
        "   u'description': u\"@ispankher's master\",\n",
        "   u'entities': {u'description': {u'urls': []}},\n",
        "   u'favourites_count': 2776,\n",
        "   u'follow_request_sent': None,\n",
        "   u'followers_count': 383,\n",
        "   u'following': None,\n",
        "   u'friends_count': 326,\n",
        "   u'geo_enabled': True,\n",
        "   u'id': 172202455,\n",
        "   u'id_str': u'172202455',\n",
        "   u'is_translator': False,\n",
        "   u'lang': u'en',\n",
        "   u'listed_count': 0,\n",
        "   u'location': u'Wait, so like..',\n",
        "   u'name': u'angel',\n",
        "   u'notifications': None,\n",
        "   u'profile_background_color': u'EBEBEB',\n",
        "   u'profile_background_image_url': u'http://a0.twimg.com/profile_background_images/378800000076784743/f5e0b38bb54d9eeb565d9f0e759b3946.jpeg',\n",
        "   u'profile_background_image_url_https': u'https://si0.twimg.com/profile_background_images/378800000076784743/f5e0b38bb54d9eeb565d9f0e759b3946.jpeg',\n",
        "   u'profile_background_tile': True,\n",
        "   u'profile_banner_url': u'https://pbs.twimg.com/profile_banners/172202455/1388136317',\n",
        "   u'profile_image_url': u'http://pbs.twimg.com/profile_images/416883944898850816/uUUTLpUb_normal.jpeg',\n",
        "   u'profile_image_url_https': u'https://pbs.twimg.com/profile_images/416883944898850816/uUUTLpUb_normal.jpeg',\n",
        "   u'profile_link_color': u'990000',\n",
        "   u'profile_sidebar_border_color': u'FFFFFF',\n",
        "   u'profile_sidebar_fill_color': u'F3F3F3',\n",
        "   u'profile_text_color': u'333333',\n",
        "   u'profile_use_background_image': True,\n",
        "   u'protected': False,\n",
        "   u'screen_name': u'iSpankHim',\n",
        "   u'statuses_count': 13752,\n",
        "   u'time_zone': u'Pacific Time (US & Canada)',\n",
        "   u'url': None,\n",
        "   u'utc_offset': -28800,\n",
        "   u'verified': False}},\n",
        " u'source': u'<a href=\"https://twitter.com/download/android\" rel=\"nofollow\">Twitter for  Android</a>',\n",
        " u'text': u'RT @iSpankHim: Alex would be an Italian grey hound if he was a dog',\n",
        " u'truncated': False,\n",
        " u'user': {u'contributors_enabled': False,\n",
        "  u'created_at': u'Fri Jun 01 02:06:04 +0000 2012',\n",
        "  u'default_profile': False,\n",
        "  u'default_profile_image': False,\n",
        "  u'description': u'@ispankhim is a rapist',\n",
        "  u'entities': {u'description': {u'urls': []}},\n",
        "  u'favourites_count': 3926,\n",
        "  u'follow_request_sent': None,\n",
        "  u'followers_count': 599,\n",
        "  u'following': None,\n",
        "  u'friends_count': 336,\n",
        "  u'geo_enabled': True,\n",
        "  u'id': 596024162,\n",
        "  u'id_str': u'596024162',\n",
        "  u'is_translator': False,\n",
        "  u'lang': u'en',\n",
        "  u'listed_count': 0,\n",
        "  u'location': u'Trap  rap and rock music',\n",
        "  u'name': u'Jaguar Paw',\n",
        "  u'notifications': None,\n",
        "  u'profile_background_color': u'022330',\n",
        "  u'profile_background_image_url': u'http://a0.twimg.com/profile_background_images/378800000078893736/5de1872bb71b06e22a3584260f1af4a0.jpeg',\n",
        "  u'profile_background_image_url_https': u'https://si0.twimg.com/profile_background_images/378800000078893736/5de1872bb71b06e22a3584260f1af4a0.jpeg',\n",
        "  u'profile_background_tile': True,\n",
        "  u'profile_banner_url': u'https://pbs.twimg.com/profile_banners/596024162/1388346211',\n",
        "  u'profile_image_url': u'http://pbs.twimg.com/profile_images/411906249874100224/h8DcLVj5_normal.jpeg',\n",
        "  u'profile_image_url_https': u'https://pbs.twimg.com/profile_images/411906249874100224/h8DcLVj5_normal.jpeg',\n",
        "  u'profile_link_color': u'0084B4',\n",
        "  u'profile_sidebar_border_color': u'FFFFFF',\n",
        "  u'profile_sidebar_fill_color': u'C0DFEC',\n",
        "  u'profile_text_color': u'333333',\n",
        "  u'profile_use_background_image': True,\n",
        "  u'protected': False,\n",
        "  u'screen_name': u'ISpankHer',\n",
        "  u'statuses_count': 11243,\n",
        "  u'time_zone': u'Pacific Time (US & Canada)',\n",
        "  u'url': None,\n",
        "  u'utc_offset': -28800,\n",
        "  u'verified': False}}"
       ]
      }
     ],
     "prompt_number": 4
    },
    {
     "cell_type": "markdown",
     "metadata": {},
     "source": [
      "Rate limit information is also contained within response header."
     ]
    },
    {
     "cell_type": "code",
     "collapsed": false,
     "input": [
      "for k in ['x-rate-limit-remaining', 'x-rate-limit-limit', 'x-rate-limit-reset']:\n",
      "    v = response.headers[k]\n",
      "    print(k, v)"
     ],
     "language": "python",
     "metadata": {},
     "outputs": [
      {
       "output_type": "stream",
       "stream": "stdout",
       "text": [
        "x-rate-limit-remaining 449\n",
        "x-rate-limit-limit 450\n",
        "x-rate-limit-reset 1388426947\n"
       ]
      }
     ],
     "prompt_number": 18
    },
    {
     "cell_type": "code",
     "collapsed": false,
     "input": [],
     "language": "python",
     "metadata": {},
     "outputs": []
    }
   ],
   "metadata": {}
  }
 ]
}