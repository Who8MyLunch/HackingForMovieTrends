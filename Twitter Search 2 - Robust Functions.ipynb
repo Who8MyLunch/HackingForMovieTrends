{
 "metadata": {
  "name": ""
 },
 "nbformat": 3,
 "nbformat_minor": 0,
 "worksheets": [
  {
   "cells": [
    {
     "cell_type": "markdown",
     "metadata": {},
     "source": [
      "IPython keyboard shortcuts: http://ipython.org/ipython-doc/stable/interactive/notebook.html#keyboard-shortcuts\n"
     ]
    },
    {
     "cell_type": "code",
     "collapsed": false,
     "input": [
      "from __future__ import division, print_function, unicode_literals\n",
      "\n",
      "%matplotlib inline\n",
      "\n",
      "import os\n",
      "\n",
      "import IPython.display\n",
      "import numpy as np\n",
      "import matplotlib.pyplot as plt\n",
      "\n",
      "import requests\n",
      "import requests_oauthlib\n",
      "import oauthlib\n",
      "import arrow\n",
      "\n",
      "import json_io\n",
      "import yaml_io\n",
      "import twitter\n"
     ],
     "language": "python",
     "metadata": {},
     "outputs": [],
     "prompt_number": 1
    },
    {
     "cell_type": "markdown",
     "metadata": {},
     "source": [
      "# Twitter Search\n",
      "\n",
      "The following set of links to Twitter's documentation are those I found most useful:\n",
      "\n",
      "- [What is a Tweet](https://dev.twitter.com/docs/platform-objects/tweets)\n",
      "- [Search API: GET search/tweets](https://dev.twitter.com/docs/api/1.1/get/search/tweets)\n",
      "- [**Help with the Search API**](https://dev.twitter.com/docs/using-search)\n",
      "- [Working with Timelines](https://dev.twitter.com/docs/working-with-timelines)\n",
      " \n",
      "The page [Help with the Search API](https://dev.twitter.com/docs/using-search) has this helpful tidbit of information when you expect a large number of return tweets.  In this case it is important to pay attention to iterating through the results: \n",
      "\n",
      "> Iterating in a result set: parameters such count, until, since_id, max_id allow to control how we iterate through search results, since it could be a large set of tweets. The 'Working with Timelines' documentation is a very rich and illustrative tutorial to learn how to use these parameters to achieve the best efficiency and reliability when processing result sets.\n"
     ]
    },
    {
     "cell_type": "markdown",
     "metadata": {},
     "source": [
      "# Examples\n",
      "\n",
      "- Generate session\n",
      "- Get rate limit from API call\n",
      "- Search query"
     ]
    },
    {
     "cell_type": "code",
     "collapsed": false,
     "input": [
      "session = twitter.authenticate()\n",
      "\n",
      "print('\\nclient_id: {:s}'.format(session.client_id.client_id))\n",
      "\n",
      "info = twitter.rate_limit_from_api(session)\n",
      "\n",
      "print('\\nRate Status')\n",
      "print('-----------')\n",
      "print('Limit:     {:d}'.format(info['limit']))\n",
      "print('Remaining: {:d}'.format(info['remaining']))\n",
      "\n",
      "delta = info['reset'] - arrow.now()\n",
      "seconds = delta.total_seconds()\n",
      "minutes = seconds / 60.\n",
      "\n",
      "print('Reset:    {:02.0f}:{:4.1f}'.format(minutes, seconds-int(minutes)*60.))"
     ],
     "language": "python",
     "metadata": {},
     "outputs": [
      {
       "output_type": "stream",
       "stream": "stdout",
       "text": [
        "\n",
        "client_id: JxUV7dXAvXigyxyWafOGUA\n",
        "\n",
        "Rate Status"
       ]
      },
      {
       "output_type": "stream",
       "stream": "stdout",
       "text": [
        "\n",
        "-----------\n",
        "Limit:     450\n",
        "Remaining: 0\n",
        "Reset:    02:42.5\n"
       ]
      }
     ],
     "prompt_number": 259
    },
    {
     "cell_type": "code",
     "collapsed": false,
     "input": [],
     "language": "python",
     "metadata": {},
     "outputs": [],
     "prompt_number": 2
    },
    {
     "cell_type": "code",
     "collapsed": true,
     "input": [
      "# Practice search on a topic and extracting information from returned tweets. \n",
      "# The query \"grey hound dog\" only gets hits about once per day or so.  Good for testing.\n",
      "query = 'grey hound dog'\n",
      "\n",
      "searcher = twitter.Tweet_Search(session)\n",
      "gen = searcher.run(query)\n",
      "\n",
      "for k, tw in enumerate(gen):\n",
      "    print('k:{:3d},  id: {:d},  timestamp: {:s}'.format(k, tw.id, str(tw.timestamp)))\n",
      "    print(tw.text)\n",
      "    tw.to_file()\n",
      "    \n"
     ],
     "language": "python",
     "metadata": {},
     "outputs": [
      {
       "output_type": "stream",
       "stream": "stdout",
       "text": [
        "k:  0,  id: 417437066792685568,  timestamp: 2013-12-29T23:28:47+00:00\n",
        "RT @iSpankHim: Alex would be an Italian grey hound if he was a dog\n",
        "k:  1,  id: 417424789511213056,  timestamp: 2013-12-29T22:39:59+00:00\n",
        "Alex would be an Italian grey hound if he was a dog\n",
        "k:  2,  id: 417362362862034944,  timestamp: 2013-12-29T18:31:56+00:00\n",
        "I will have a weiner dog, a husky, and a grey hound when I get older. \ud83d\ude0d\ud83d\ude0d\ud83d\ude0d\n",
        "k:  3,  id: 417291156096307200,  timestamp: 2013-12-29T13:48:59+00:00\n",
        "Are back door was open and a stray dog just walked into are house he is a grey hound puppy:( collar  no address...RSPCA time :) #puppy#help\n",
        "k:  4,  id: 417207453017583616,  timestamp: 2013-12-29T08:16:22+00:00\n",
        "\"And over here is where you saw a grey hound dog\" \n",
        "#ghostadventures  @Zak_Bagans @agoodwincollect @NickGroff_\n",
        "k:  5,  id: 416904761775255552,  timestamp: 2013-12-28T12:13:35+00:00\n",
        "@2coolKittypurry the only big dog ive been bitten by is a grey hound\n",
        "k:  6,  id: 416783400435847168,  timestamp: 2013-12-28T04:11:20+00:00\n",
        "that blue grey coat on a dog like a pure grey hound has is a pretty coat, some terriers have it too\n",
        "k:  7,  id: 416707722974085121,  timestamp: 2013-12-27T23:10:37+00:00\n",
        "Im Threw Fuckin Wit T Not She Said The Girl Look Like A Grey Hound Dog!!\n",
        "k:  8,  id: 416222626923954176,  timestamp: 2013-12-26T15:03:01+00:00\n",
        "What is your favorite dog breed? \u2014 the italian grey hound.I fell in love when i first watched a documentary of t... \n",
        "k:  9,  id: 415303361420726273,  timestamp: 2013-12-24T02:10:11+00:00\n",
        "Shad &amp; I just plate this game called on the count of 3 say what kind of dog Christy would be I said golden retriever and he said grey hound\n"
       ]
      }
     ],
     "prompt_number": 3
    },
    {
     "cell_type": "markdown",
     "metadata": {},
     "source": [
      "# Large Volumes\n",
      "\n",
      "Practice with queries that are expected to return large number of hits.  e.g. a popular movie."
     ]
    },
    {
     "cell_type": "code",
     "collapsed": false,
     "input": [
      "query = 'hobbit desolation smaug'\n",
      "        \n",
      "search = twitter.Tweet_Search(session)\n",
      "gen = search.run(query)\n",
      "\n",
      "for k, tw in enumerate(gen):\n",
      "    print('k:{:3d},  id: {:d},  timestamp: {:s}'.format(k, tw.id_int, str(tw.timestamp)))\n",
      "#     print(tw.text)\n",
      "#     tw.to_file()\n",
      "    \n",
      "\n",
      "    if k > 250:\n",
      "        raise StopIteration\n",
      "        "
     ],
     "language": "python",
     "metadata": {},
     "outputs": [
      {
       "output_type": "stream",
       "stream": "stdout",
       "text": [
        "k:  0,  id: 417773326216749057,  timestamp: 2013-12-30T21:44:57+00:00\n",
        "k:  1,  id: 417773299712925696,  timestamp: 2013-12-30T21:44:51+00:00\n",
        "k:  2,  id: 417773263742193664,  timestamp: 2013-12-30T21:44:42+00:00\n",
        "k:  3,  id: 417773247095386112,  timestamp: 2013-12-30T21:44:38+00:00\n",
        "k:  4,  id: 417773125045354496,  timestamp: 2013-12-30T21:44:09+00:00\n",
        "k:  5,  id: 417773094775054336,  timestamp: 2013-12-30T21:44:02+00:00\n",
        "k:  6,  id: 417773082535677952,  timestamp: 2013-12-30T21:43:59+00:00\n",
        "k:  7,  id: 417773078110670848,  timestamp: 2013-12-30T21:43:58+00:00\n",
        "k:  8,  id: 417773007990312960,  timestamp: 2013-12-30T21:43:41+00:00\n",
        "k:  9,  id: 417772987765366784,  timestamp: 2013-12-30T21:43:36+00:00\n",
        "k: 10,  id: 417772901991849984,  timestamp: 2013-12-30T21:43:16+00:00\n",
        "k: 11,  id: 417772870337826816,  timestamp: 2013-12-30T21:43:08+00:00\n",
        "k: 12,  id: 417772797860270080,  timestamp: 2013-12-30T21:42:51+00:00\n",
        "k: 13,  id: 417772602879672320,  timestamp: 2013-12-30T21:42:05+00:00\n",
        "k: 14,  id: 417772538190905344,  timestamp: 2013-12-30T21:41:49+00:00\n",
        "k: 15,  id: 417772488148283392,  timestamp: 2013-12-30T21:41:37+00:00\n",
        "k: 16,  id: 417772401725014017,  timestamp: 2013-12-30T21:41:17+00:00\n",
        "k: 17,  id: 417772381865013248,  timestamp: 2013-12-30T21:41:12+00:00\n",
        "k: 18,  id: 417772378651758592,  timestamp: 2013-12-30T21:41:11+00:00\n",
        "k: 19,  id: 417772377620361216,  timestamp: 2013-12-30T21:41:11+00:00\n",
        "k: 20,  id: 417772353205325825,  timestamp: 2013-12-30T21:41:05+00:00\n",
        "k: 21,  id: 417772339456004096,  timestamp: 2013-12-30T21:41:02+00:00\n",
        "k: 22,  id: 417772285412405248,  timestamp: 2013-12-30T21:40:49+00:00\n",
        "k: 23,  id: 417772230286643200,  timestamp: 2013-12-30T21:40:36+00:00\n",
        "k: 24,  id: 417772227829170176,  timestamp: 2013-12-30T21:40:35+00:00\n",
        "k: 25,  id: 417772158249893888,  timestamp: 2013-12-30T21:40:19+00:00\n",
        "k: 26,  id: 417772156211458049,  timestamp: 2013-12-30T21:40:18+00:00\n",
        "k: 27,  id: 417772111948963840,  timestamp: 2013-12-30T21:40:07+00:00\n",
        "k: 28,  id: 417772021934587904,  timestamp: 2013-12-30T21:39:46+00:00\n",
        "k: 29,  id: 417771881111232512,  timestamp: 2013-12-30T21:39:12+00:00\n",
        "k: 30,  id: 417771876916551680,  timestamp: 2013-12-30T21:39:11+00:00\n",
        "k: 31,  id: 417771753864450049,  timestamp: 2013-12-30T21:38:42+00:00\n",
        "k: 32,  id: 417771752631316480,  timestamp: 2013-12-30T21:38:42+00:00\n",
        "k: 33,  id: 417771694506270721,  timestamp: 2013-12-30T21:38:28+00:00\n",
        "k: 34,  id: 417771671345709056,  timestamp: 2013-12-30T21:38:22+00:00\n",
        "k: 35,  id: 417771645374566401,  timestamp: 2013-12-30T21:38:16+00:00\n",
        "k: 36,  id: 417771607424122881,  timestamp: 2013-12-30T21:38:07+00:00\n",
        "k: 37,  id: 417771589762314240,  timestamp: 2013-12-30T21:38:03+00:00\n",
        "k: 38,  id: 417771533868621824,  timestamp: 2013-12-30T21:37:50+00:00\n",
        "k: 39,  id: 417771505616191488,  timestamp: 2013-12-30T21:37:43+00:00\n",
        "k: 40,  id: 417771493955616768,  timestamp: 2013-12-30T21:37:40+00:00\n",
        "k: 41,  id: 417771450607476736,  timestamp: 2013-12-30T21:37:30+00:00\n",
        "k: 42,  id: 417771388443705344,  timestamp: 2013-12-30T21:37:15+00:00\n",
        "k: 43,  id: 417771281631559681,  timestamp: 2013-12-30T21:36:50+00:00\n",
        "k: 44,  id: 417771168633200640,  timestamp: 2013-12-30T21:36:23+00:00\n",
        "k: 45,  id: 417771160521035776,  timestamp: 2013-12-30T21:36:21+00:00\n",
        "k: 46,  id: 417771131568148480,  timestamp: 2013-12-30T21:36:14+00:00\n",
        "k: 47,  id: 417771093747716097,  timestamp: 2013-12-30T21:36:05+00:00\n",
        "k: 48,  id: 417771074026483713,  timestamp: 2013-12-30T21:36:00+00:00\n",
        "k: 49,  id: 417770979834605568,  timestamp: 2013-12-30T21:35:38+00:00\n",
        "k: 50,  id: 417770867108884480,  timestamp: 2013-12-30T21:35:11+00:00\n",
        "k: 51,  id: 417770801317023745,  timestamp: 2013-12-30T21:34:55+00:00\n",
        "k: 52,  id: 417770770576977920,  timestamp: 2013-12-30T21:34:48+00:00\n",
        "k: 53,  id: 417770721821986816,  timestamp: 2013-12-30T21:34:36+00:00\n",
        "k: 54,  id: 417770665400627200,  timestamp: 2013-12-30T21:34:23+00:00\n",
        "k: 55,  id: 417770607229829120,  timestamp: 2013-12-30T21:34:09+00:00\n",
        "k: 56,  id: 417770596538126337,  timestamp: 2013-12-30T21:34:06+00:00\n",
        "k: 57,  id: 417770567157030912,  timestamp: 2013-12-30T21:33:59+00:00\n",
        "k: 58,  id: 417770549453275136,  timestamp: 2013-12-30T21:33:55+00:00\n",
        "k: 59,  id: 417770500425674752,  timestamp: 2013-12-30T21:33:43+00:00\n",
        "k: 60,  id: 417770455143960576,  timestamp: 2013-12-30T21:33:32+00:00\n",
        "k: 61,  id: 417770404808097792,  timestamp: 2013-12-30T21:33:20+00:00\n",
        "k: 62,  id: 417770312315703296,  timestamp: 2013-12-30T21:32:58+00:00\n",
        "k: 63,  id: 417770282255138816,  timestamp: 2013-12-30T21:32:51+00:00\n",
        "k: 64,  id: 417770215339212800,  timestamp: 2013-12-30T21:32:35+00:00\n",
        "k: 65,  id: 417770203117010944,  timestamp: 2013-12-30T21:32:32+00:00\n",
        "k: 66,  id: 417770176978124800,  timestamp: 2013-12-30T21:32:26+00:00\n",
        "k: 67,  id: 417770101321261057,  timestamp: 2013-12-30T21:32:08+00:00\n",
        "k: 68,  id: 417770082127724544,  timestamp: 2013-12-30T21:32:04+00:00\n",
        "k: 69,  id: 417770032278413312,  timestamp: 2013-12-30T21:31:52+00:00\n",
        "k: 70,  id: 417770030731132928,  timestamp: 2013-12-30T21:31:51+00:00\n",
        "k: 71,  id: 417770014247100416,  timestamp: 2013-12-30T21:31:47+00:00\n",
        "k: 72,  id: 417769951332925440,  timestamp: 2013-12-30T21:31:32+00:00\n",
        "k: 73,  id: 417769943275696128,  timestamp: 2013-12-30T21:31:30+00:00\n",
        "k: 74,  id: 417769891219771393,  timestamp: 2013-12-30T21:31:18+00:00\n",
        "k: 75,  id: 417769842767196161,  timestamp: 2013-12-30T21:31:06+00:00\n",
        "k: 76,  id: 417769801369804800,  timestamp: 2013-12-30T21:30:57+00:00\n",
        "k: 77,  id: 417769712374657024,  timestamp: 2013-12-30T21:30:35+00:00\n",
        "k: 78,  id: 417769699712438272,  timestamp: 2013-12-30T21:30:32+00:00\n",
        "k: 79,  id: 417769680623779840,  timestamp: 2013-12-30T21:30:28+00:00\n",
        "k: 80,  id: 417769653868707840,  timestamp: 2013-12-30T21:30:21+00:00\n",
        "k: 81,  id: 417769646713237504,  timestamp: 2013-12-30T21:30:20+00:00\n",
        "k: 82,  id: 417769581194006529,  timestamp: 2013-12-30T21:30:04+00:00\n",
        "k: 83,  id: 417769574163968000,  timestamp: 2013-12-30T21:30:02+00:00\n",
        "k: 84,  id: 417769559954063360,  timestamp: 2013-12-30T21:29:59+00:00\n",
        "k: 85,  id: 417769550269407232,  timestamp: 2013-12-30T21:29:57+00:00\n",
        "k: 86,  id: 417769540345270272,  timestamp: 2013-12-30T21:29:54+00:00\n",
        "k: 87,  id: 417769519013040128,  timestamp: 2013-12-30T21:29:49+00:00\n",
        "k: 88,  id: 417769501066031104,  timestamp: 2013-12-30T21:29:45+00:00\n",
        "k: 89,  id: 417769499664719872,  timestamp: 2013-12-30T21:29:45+00:00\n",
        "k: 90,  id: 417769487820419072,  timestamp: 2013-12-30T21:29:42+00:00\n",
        "k: 91,  id: 417769446737195009,  timestamp: 2013-12-30T21:29:32+00:00\n",
        "k: 92,  id: 417769435852980224,  timestamp: 2013-12-30T21:29:29+00:00\n",
        "k: 93,  id: 417769382513623040,  timestamp: 2013-12-30T21:29:17+00:00\n",
        "k: 94,  id: 417769353400942592,  timestamp: 2013-12-30T21:29:10+00:00\n",
        "k: 95,  id: 417769351454785536,  timestamp: 2013-12-30T21:29:09+00:00\n",
        "k: 96,  id: 417769303824674816,  timestamp: 2013-12-30T21:28:58+00:00\n",
        "k: 97,  id: 417769187709177857,  timestamp: 2013-12-30T21:28:30+00:00\n",
        "k: 98,  id: 417769064237662208,  timestamp: 2013-12-30T21:28:01+00:00\n",
        "k: 99,  id: 417769063931461632,  timestamp: 2013-12-30T21:28:01+00:00\n",
        "k:100,  id: 417768897195307008,  timestamp: 2013-12-30T21:27:21+00:00"
       ]
      },
      {
       "output_type": "stream",
       "stream": "stdout",
       "text": [
        "\n",
        "k:101,  id: 417768882707783680,  timestamp: 2013-12-30T21:27:18+00:00\n",
        "k:102,  id: 417768827934371840,  timestamp: 2013-12-30T21:27:05+00:00\n",
        "k:103,  id: 417768632056176640,  timestamp: 2013-12-30T21:26:18+00:00\n",
        "k:104,  id: 417768612074881024,  timestamp: 2013-12-30T21:26:13+00:00\n",
        "k:105,  id: 417768569342935040,  timestamp: 2013-12-30T21:26:03+00:00\n",
        "k:106,  id: 417768490695921664,  timestamp: 2013-12-30T21:25:44+00:00\n",
        "k:107,  id: 417768423360593920,  timestamp: 2013-12-30T21:25:28+00:00\n",
        "k:108,  id: 417768363621122048,  timestamp: 2013-12-30T21:25:14+00:00\n",
        "k:109,  id: 417768251272482816,  timestamp: 2013-12-30T21:24:47+00:00\n",
        "k:110,  id: 417768209094545410,  timestamp: 2013-12-30T21:24:37+00:00\n",
        "k:111,  id: 417767971290091520,  timestamp: 2013-12-30T21:23:40+00:00\n",
        "k:112,  id: 417767892508487680,  timestamp: 2013-12-30T21:23:21+00:00\n",
        "k:113,  id: 417767848409571328,  timestamp: 2013-12-30T21:23:11+00:00\n",
        "k:114,  id: 417767739512459264,  timestamp: 2013-12-30T21:22:45+00:00\n",
        "k:115,  id: 417767656251748352,  timestamp: 2013-12-30T21:22:25+00:00\n",
        "k:116,  id: 417767627633606657,  timestamp: 2013-12-30T21:22:18+00:00\n",
        "k:117,  id: 417767362012532738,  timestamp: 2013-12-30T21:21:15+00:00\n",
        "k:118,  id: 417766765578682368,  timestamp: 2013-12-30T21:18:53+00:00\n",
        "k:119,  id: 417766676252594176,  timestamp: 2013-12-30T21:18:32+00:00\n",
        "k:120,  id: 417766668740202497,  timestamp: 2013-12-30T21:18:30+00:00\n",
        "k:121,  id: 417766481498484736,  timestamp: 2013-12-30T21:17:45+00:00\n",
        "k:122,  id: 417766286031323136,  timestamp: 2013-12-30T21:16:58+00:00\n",
        "k:123,  id: 417766271514460160,  timestamp: 2013-12-30T21:16:55+00:00\n",
        "k:124,  id: 417766267194716160,  timestamp: 2013-12-30T21:16:54+00:00\n",
        "k:125,  id: 417766247049084928,  timestamp: 2013-12-30T21:16:49+00:00\n",
        "k:126,  id: 417766085161934849,  timestamp: 2013-12-30T21:16:11+00:00\n",
        "k:127,  id: 417766028966653953,  timestamp: 2013-12-30T21:15:57+00:00\n",
        "k:128,  id: 417765973392130048,  timestamp: 2013-12-30T21:15:44+00:00\n",
        "k:129,  id: 417765958376112129,  timestamp: 2013-12-30T21:15:40+00:00\n",
        "k:130,  id: 417765934929944576,  timestamp: 2013-12-30T21:15:35+00:00\n",
        "k:131,  id: 417765694957031424,  timestamp: 2013-12-30T21:14:38+00:00\n",
        "k:132,  id: 417765688296501248,  timestamp: 2013-12-30T21:14:36+00:00\n",
        "k:133,  id: 417765545447260160,  timestamp: 2013-12-30T21:14:02+00:00\n",
        "k:134,  id: 417765384885137408,  timestamp: 2013-12-30T21:13:24+00:00\n",
        "k:135,  id: 417765335064776704,  timestamp: 2013-12-30T21:13:12+00:00\n",
        "k:136,  id: 417765071159578624,  timestamp: 2013-12-30T21:12:09+00:00\n",
        "k:137,  id: 417765053169815552,  timestamp: 2013-12-30T21:12:05+00:00\n",
        "k:138,  id: 417764913470128128,  timestamp: 2013-12-30T21:11:31+00:00\n",
        "k:139,  id: 417764779604713472,  timestamp: 2013-12-30T21:10:59+00:00\n",
        "k:140,  id: 417764628710821889,  timestamp: 2013-12-30T21:10:23+00:00\n",
        "k:141,  id: 417764462418870272,  timestamp: 2013-12-30T21:09:44+00:00\n",
        "k:142,  id: 417764439312445441,  timestamp: 2013-12-30T21:09:38+00:00\n",
        "k:143,  id: 417764418118619136,  timestamp: 2013-12-30T21:09:33+00:00\n",
        "k:144,  id: 417764270797889536,  timestamp: 2013-12-30T21:08:58+00:00\n",
        "k:145,  id: 417764240137936896,  timestamp: 2013-12-30T21:08:51+00:00\n",
        "k:146,  id: 417764162916601856,  timestamp: 2013-12-30T21:08:32+00:00\n",
        "k:147,  id: 417764069995581441,  timestamp: 2013-12-30T21:08:10+00:00\n",
        "k:148,  id: 417763798229848064,  timestamp: 2013-12-30T21:07:05+00:00\n",
        "k:149,  id: 417763764403200000,  timestamp: 2013-12-30T21:06:57+00:00\n",
        "k:150,  id: 417763673764270080,  timestamp: 2013-12-30T21:06:36+00:00\n",
        "k:151,  id: 417763549747093505,  timestamp: 2013-12-30T21:06:06+00:00\n",
        "k:152,  id: 417763289012383744,  timestamp: 2013-12-30T21:05:04+00:00\n",
        "k:153,  id: 417763240181891072,  timestamp: 2013-12-30T21:04:52+00:00\n",
        "k:154,  id: 417763203276619777,  timestamp: 2013-12-30T21:04:43+00:00\n",
        "k:155,  id: 417763154542985216,  timestamp: 2013-12-30T21:04:32+00:00\n",
        "k:156,  id: 417763025907896320,  timestamp: 2013-12-30T21:04:01+00:00\n",
        "k:157,  id: 417762854427574272,  timestamp: 2013-12-30T21:03:20+00:00\n",
        "k:158,  id: 417762802304946176,  timestamp: 2013-12-30T21:03:08+00:00\n",
        "k:159,  id: 417762522364518400,  timestamp: 2013-12-30T21:02:01+00:00\n",
        "k:160,  id: 417762518828736512,  timestamp: 2013-12-30T21:02:00+00:00\n",
        "k:161,  id: 417762491918475265,  timestamp: 2013-12-30T21:01:54+00:00\n",
        "k:162,  id: 417762414424109056,  timestamp: 2013-12-30T21:01:35+00:00\n",
        "k:163,  id: 417762403284041728,  timestamp: 2013-12-30T21:01:33+00:00\n",
        "k:164,  id: 417762290919038977,  timestamp: 2013-12-30T21:01:06+00:00\n",
        "k:165,  id: 417762199562895360,  timestamp: 2013-12-30T21:00:44+00:00\n",
        "k:166,  id: 417762187374231552,  timestamp: 2013-12-30T21:00:41+00:00\n",
        "k:167,  id: 417762168285577216,  timestamp: 2013-12-30T21:00:37+00:00\n",
        "k:168,  id: 417762143858348032,  timestamp: 2013-12-30T21:00:31+00:00\n",
        "k:169,  id: 417762139768504320,  timestamp: 2013-12-30T21:00:30+00:00\n",
        "k:170,  id: 417762133057613824,  timestamp: 2013-12-30T21:00:28+00:00\n",
        "k:171,  id: 417762101172514816,  timestamp: 2013-12-30T21:00:21+00:00\n",
        "k:172,  id: 417762096181682176,  timestamp: 2013-12-30T21:00:20+00:00\n",
        "k:173,  id: 417762062564360193,  timestamp: 2013-12-30T21:00:12+00:00\n",
        "k:174,  id: 417761762910273536,  timestamp: 2013-12-30T20:59:00+00:00\n",
        "k:175,  id: 417761669201559552,  timestamp: 2013-12-30T20:58:38+00:00\n",
        "k:176,  id: 417761662876127232,  timestamp: 2013-12-30T20:58:36+00:00\n",
        "k:177,  id: 417761640873197568,  timestamp: 2013-12-30T20:58:31+00:00\n",
        "k:178,  id: 417761639149350913,  timestamp: 2013-12-30T20:58:31+00:00\n",
        "k:179,  id: 417761591112007680,  timestamp: 2013-12-30T20:58:19+00:00\n",
        "k:180,  id: 417761571436122112,  timestamp: 2013-12-30T20:58:14+00:00\n",
        "k:181,  id: 417761540545081344,  timestamp: 2013-12-30T20:58:07+00:00\n",
        "k:182,  id: 417761336203161600,  timestamp: 2013-12-30T20:57:18+00:00\n",
        "k:183,  id: 417761189775810560,  timestamp: 2013-12-30T20:56:43+00:00\n",
        "k:184,  id: 417760928244183040,  timestamp: 2013-12-30T20:55:41+00:00\n",
        "k:185,  id: 417760922644803584,  timestamp: 2013-12-30T20:55:40+00:00\n",
        "k:186,  id: 417760862678425600,  timestamp: 2013-12-30T20:55:25+00:00\n",
        "k:187,  id: 417760853652697088,  timestamp: 2013-12-30T20:55:23+00:00\n",
        "k:188,  id: 417760832538157057,  timestamp: 2013-12-30T20:55:18+00:00\n",
        "k:189,  id: 417760675268530177,  timestamp: 2013-12-30T20:54:41+00:00\n",
        "k:190,  id: 417760583643959296,  timestamp: 2013-12-30T20:54:19+00:00\n",
        "k:191,  id: 417760533266575360,  timestamp: 2013-12-30T20:54:07+00:00\n",
        "k:192,  id: 417760427385556992,  timestamp: 2013-12-30T20:53:42+00:00\n",
        "k:193,  id: 417760424424402944,  timestamp: 2013-12-30T20:53:41+00:00\n",
        "k:194,  id: 417760379234951168,  timestamp: 2013-12-30T20:53:30+00:00\n",
        "k:195,  id: 417760298649387008,  timestamp: 2013-12-30T20:53:11+00:00\n",
        "k:196,  id: 417760186946695168,  timestamp: 2013-12-30T20:52:44+00:00\n",
        "k:197,  id: 417760179275726849,  timestamp: 2013-12-30T20:52:43+00:00\n",
        "k:198,  id: 417760162749759488,  timestamp: 2013-12-30T20:52:39+00:00\n",
        "k:199,  id: 417760015005401088,  timestamp: 2013-12-30T20:52:03+00:00\n",
        "k:200,  id: 417759984437723136,  timestamp: 2013-12-30T20:51:56+00:00"
       ]
      },
      {
       "ename": "StopIteration",
       "evalue": "",
       "output_type": "pyerr",
       "traceback": [
        "\u001b[1;31m---------------------------------------------------------------------------\u001b[0m\n\u001b[1;31mStopIteration\u001b[0m                             Traceback (most recent call last)",
        "\u001b[1;32m<ipython-input-18-f6d256a604cf>\u001b[0m in \u001b[0;36m<module>\u001b[1;34m()\u001b[0m\n\u001b[0;32m     11\u001b[0m \u001b[1;33m\u001b[0m\u001b[0m\n\u001b[0;32m     12\u001b[0m     \u001b[1;32mif\u001b[0m \u001b[0mk\u001b[0m \u001b[1;33m>\u001b[0m \u001b[1;36m250\u001b[0m\u001b[1;33m:\u001b[0m\u001b[1;33m\u001b[0m\u001b[0m\n\u001b[1;32m---> 13\u001b[1;33m         \u001b[1;32mraise\u001b[0m \u001b[0mStopIteration\u001b[0m\u001b[1;33m\u001b[0m\u001b[0m\n\u001b[0m\u001b[0;32m     14\u001b[0m \u001b[1;33m\u001b[0m\u001b[0m\n",
        "\u001b[1;31mStopIteration\u001b[0m: "
       ]
      },
      {
       "output_type": "stream",
       "stream": "stdout",
       "text": [
        "\n",
        "k:201,  id: 417759817013686273,  timestamp: 2013-12-30T20:51:16+00:00\n",
        "k:202,  id: 417759774394949632,  timestamp: 2013-12-30T20:51:06+00:00\n",
        "k:203,  id: 417759764022427649,  timestamp: 2013-12-30T20:51:04+00:00\n",
        "k:204,  id: 417759700772327425,  timestamp: 2013-12-30T20:50:48+00:00\n",
        "k:205,  id: 417759530554892288,  timestamp: 2013-12-30T20:50:08+00:00\n",
        "k:206,  id: 417759134810120192,  timestamp: 2013-12-30T20:48:33+00:00\n",
        "k:207,  id: 417759070485876736,  timestamp: 2013-12-30T20:48:18+00:00\n",
        "k:208,  id: 417759039691296768,  timestamp: 2013-12-30T20:48:11+00:00\n",
        "k:209,  id: 417758962575224832,  timestamp: 2013-12-30T20:47:52+00:00\n",
        "k:210,  id: 417758937182912512,  timestamp: 2013-12-30T20:47:46+00:00\n",
        "k:211,  id: 417758669120761857,  timestamp: 2013-12-30T20:46:42+00:00\n",
        "k:212,  id: 417758453684514816,  timestamp: 2013-12-30T20:45:51+00:00\n",
        "k:213,  id: 417758261715021824,  timestamp: 2013-12-30T20:45:05+00:00\n",
        "k:214,  id: 417758053992501248,  timestamp: 2013-12-30T20:44:16+00:00\n",
        "k:215,  id: 417758018609369088,  timestamp: 2013-12-30T20:44:07+00:00\n",
        "k:216,  id: 417757914473172992,  timestamp: 2013-12-30T20:43:43+00:00\n",
        "k:217,  id: 417757808914735104,  timestamp: 2013-12-30T20:43:17+00:00\n",
        "k:218,  id: 417757790888013825,  timestamp: 2013-12-30T20:43:13+00:00\n",
        "k:219,  id: 417757751654117376,  timestamp: 2013-12-30T20:43:04+00:00\n",
        "k:220,  id: 417757664945664000,  timestamp: 2013-12-30T20:42:43+00:00\n",
        "k:221,  id: 417757613267623936,  timestamp: 2013-12-30T20:42:31+00:00\n",
        "k:222,  id: 417757298803871745,  timestamp: 2013-12-30T20:41:16+00:00\n",
        "k:223,  id: 417757298170544129,  timestamp: 2013-12-30T20:41:16+00:00\n",
        "k:224,  id: 417757190850899969,  timestamp: 2013-12-30T20:40:50+00:00\n",
        "k:225,  id: 417757110663794688,  timestamp: 2013-12-30T20:40:31+00:00\n",
        "k:226,  id: 417757087750684672,  timestamp: 2013-12-30T20:40:25+00:00\n",
        "k:227,  id: 417757070423629824,  timestamp: 2013-12-30T20:40:21+00:00\n",
        "k:228,  id: 417757042351562752,  timestamp: 2013-12-30T20:40:15+00:00\n",
        "k:229,  id: 417757038731489280,  timestamp: 2013-12-30T20:40:14+00:00\n",
        "k:230,  id: 417757013725437953,  timestamp: 2013-12-30T20:40:08+00:00\n",
        "k:231,  id: 417756994356125696,  timestamp: 2013-12-30T20:40:03+00:00\n",
        "k:232,  id: 417756904819933185,  timestamp: 2013-12-30T20:39:42+00:00\n",
        "k:233,  id: 417756818576658432,  timestamp: 2013-12-30T20:39:21+00:00\n",
        "k:234,  id: 417756754525421568,  timestamp: 2013-12-30T20:39:06+00:00\n",
        "k:235,  id: 417756498287415296,  timestamp: 2013-12-30T20:38:05+00:00\n",
        "k:236,  id: 417756295320854528,  timestamp: 2013-12-30T20:37:17+00:00\n",
        "k:237,  id: 417756059915526144,  timestamp: 2013-12-30T20:36:20+00:00\n",
        "k:238,  id: 417755717504733184,  timestamp: 2013-12-30T20:34:59+00:00\n",
        "k:239,  id: 417755674664501248,  timestamp: 2013-12-30T20:34:49+00:00\n",
        "k:240,  id: 417755575431475200,  timestamp: 2013-12-30T20:34:25+00:00\n",
        "k:241,  id: 417755468942278656,  timestamp: 2013-12-30T20:33:59+00:00\n",
        "k:242,  id: 417755403691511808,  timestamp: 2013-12-30T20:33:44+00:00\n",
        "k:243,  id: 417755333927636992,  timestamp: 2013-12-30T20:33:27+00:00\n",
        "k:244,  id: 417755299911860224,  timestamp: 2013-12-30T20:33:19+00:00\n",
        "k:245,  id: 417755017601634304,  timestamp: 2013-12-30T20:32:12+00:00\n",
        "k:246,  id: 417754920214093824,  timestamp: 2013-12-30T20:31:49+00:00\n",
        "k:247,  id: 417754891223060481,  timestamp: 2013-12-30T20:31:42+00:00\n",
        "k:248,  id: 417754836386734080,  timestamp: 2013-12-30T20:31:29+00:00\n",
        "k:249,  id: 417754792015175680,  timestamp: 2013-12-30T20:31:18+00:00\n",
        "k:250,  id: 417754729914331136,  timestamp: 2013-12-30T20:31:03+00:00\n",
        "k:251,  id: 417754686654271488,  timestamp: 2013-12-30T20:30:53+00:00\n"
       ]
      }
     ],
     "prompt_number": 18
    },
    {
     "cell_type": "markdown",
     "metadata": {},
     "source": [
      "# Search Manager\n",
      "Now its clear that I'll need a somewhat more effective way to handle the large number of tweets returned by these kinds of search queries.  So far I have an easy way to save each Tweet to a .json file.  But I may need to restart a search that was interrupted, e.g. hit the rate limit.  I may also need to refresh a search a few days in the future.\n",
      "\n",
      " - Continue interrupted search\n",
      " - Refresh/update prior search"
     ]
    },
    {
     "cell_type": "code",
     "collapsed": false,
     "input": [
      "# query = 'grey hound dog'\n",
      "query = 'happy dog'\n",
      "# query = 'hobbit desolation smaug'\n",
      "manager = twitter.Search_Manager(session, query)\n",
      "\n",
      "print(manager.num_tweets)\n",
      "print(manager.min_timestamp)\n",
      "print(manager.max_timestamp)\n",
      "print(manager.remaining)"
     ],
     "language": "python",
     "metadata": {},
     "outputs": [
      {
       "output_type": "stream",
       "stream": "stdout",
       "text": [
        "14514\n",
        "2013-12-26T00:32:06+00:00"
       ]
      },
      {
       "output_type": "stream",
       "stream": "stdout",
       "text": [
        "\n",
        "2013-12-31T03:35:09+00:00"
       ]
      },
      {
       "output_type": "stream",
       "stream": "stdout",
       "text": [
        "\n",
        "0\n"
       ]
      }
     ],
     "prompt_number": 257
    },
    {
     "cell_type": "code",
     "collapsed": false,
     "input": [
      "manager.search()\n",
      "\n",
      "print(manager.num_tweets)\n",
      "print(manager.min_timestamp)\n",
      "print(manager.max_timestamp)\n",
      "print(manager.remaining)"
     ],
     "language": "python",
     "metadata": {},
     "outputs": [
      {
       "ename": "ValueError",
       "evalue": "Rate limit exceeded",
       "output_type": "pyerr",
       "traceback": [
        "\u001b[1;31m---------------------------------------------------------------------------\u001b[0m\n\u001b[1;31mValueError\u001b[0m                                Traceback (most recent call last)",
        "\u001b[1;32m<ipython-input-258-cddfa654df0b>\u001b[0m in \u001b[0;36m<module>\u001b[1;34m()\u001b[0m\n\u001b[1;32m----> 1\u001b[1;33m \u001b[0mmanager\u001b[0m\u001b[1;33m.\u001b[0m\u001b[0msearch\u001b[0m\u001b[1;33m(\u001b[0m\u001b[1;33m)\u001b[0m\u001b[1;33m\u001b[0m\u001b[0m\n\u001b[0m\u001b[0;32m      2\u001b[0m \u001b[1;33m\u001b[0m\u001b[0m\n\u001b[0;32m      3\u001b[0m \u001b[1;32mprint\u001b[0m\u001b[1;33m(\u001b[0m\u001b[0mmanager\u001b[0m\u001b[1;33m.\u001b[0m\u001b[0mnum_tweets\u001b[0m\u001b[1;33m)\u001b[0m\u001b[1;33m\u001b[0m\u001b[0m\n\u001b[0;32m      4\u001b[0m \u001b[1;32mprint\u001b[0m\u001b[1;33m(\u001b[0m\u001b[0mmanager\u001b[0m\u001b[1;33m.\u001b[0m\u001b[0mmin_timestamp\u001b[0m\u001b[1;33m)\u001b[0m\u001b[1;33m\u001b[0m\u001b[0m\n\u001b[0;32m      5\u001b[0m \u001b[1;32mprint\u001b[0m\u001b[1;33m(\u001b[0m\u001b[0mmanager\u001b[0m\u001b[1;33m.\u001b[0m\u001b[0mmax_timestamp\u001b[0m\u001b[1;33m)\u001b[0m\u001b[1;33m\u001b[0m\u001b[0m\n",
        "\u001b[1;32m/home/pierre/Projects/HackingForMovieTrends/twitter.py\u001b[0m in \u001b[0;36msearch\u001b[1;34m(self)\u001b[0m\n\u001b[0;32m    169\u001b[0m         \u001b[0mresult_type\u001b[0m \u001b[1;33m=\u001b[0m \u001b[1;34m'recent'\u001b[0m  \u001b[1;31m# 'recent' 'mixed'\u001b[0m\u001b[1;33m\u001b[0m\u001b[0m\n\u001b[0;32m    170\u001b[0m         \u001b[0mgen\u001b[0m \u001b[1;33m=\u001b[0m \u001b[0mself\u001b[0m\u001b[1;33m.\u001b[0m\u001b[0m_searcher\u001b[0m\u001b[1;33m.\u001b[0m\u001b[0mrun\u001b[0m\u001b[1;33m(\u001b[0m\u001b[0mself\u001b[0m\u001b[1;33m.\u001b[0m\u001b[0mquery\u001b[0m\u001b[1;33m,\u001b[0m \u001b[0mmax_id\u001b[0m\u001b[1;33m=\u001b[0m\u001b[0mself\u001b[0m\u001b[1;33m.\u001b[0m\u001b[0mmin_id\u001b[0m \u001b[1;33m-\u001b[0m \u001b[1;36m1\u001b[0m\u001b[1;33m,\u001b[0m \u001b[0mresult_type\u001b[0m\u001b[1;33m=\u001b[0m\u001b[0mresult_type\u001b[0m\u001b[1;33m)\u001b[0m\u001b[1;33m\u001b[0m\u001b[0m\n\u001b[1;32m--> 171\u001b[1;33m         \u001b[1;32mfor\u001b[0m \u001b[0mtw\u001b[0m \u001b[1;32min\u001b[0m \u001b[0mgen\u001b[0m\u001b[1;33m:\u001b[0m\u001b[1;33m\u001b[0m\u001b[0m\n\u001b[0m\u001b[0;32m    172\u001b[0m             \u001b[1;32mif\u001b[0m \u001b[1;32mnot\u001b[0m \u001b[0mtw\u001b[0m\u001b[1;33m.\u001b[0m\u001b[0mhas_url\u001b[0m\u001b[1;33m:\u001b[0m\u001b[1;33m\u001b[0m\u001b[0m\n\u001b[0;32m    173\u001b[0m                 \u001b[0mtw\u001b[0m\u001b[1;33m.\u001b[0m\u001b[0mto_file\u001b[0m\u001b[1;33m(\u001b[0m\u001b[0mpath\u001b[0m\u001b[1;33m=\u001b[0m\u001b[0mself\u001b[0m\u001b[1;33m.\u001b[0m\u001b[0mpath_tweets\u001b[0m\u001b[1;33m)\u001b[0m\u001b[1;33m\u001b[0m\u001b[0m\n",
        "\u001b[1;32m/home/pierre/Projects/HackingForMovieTrends/twitter.py\u001b[0m in \u001b[0;36mrun\u001b[1;34m(self, query, since_id, max_id, result_type, lang)\u001b[0m\n\u001b[0;32m    304\u001b[0m                 \u001b[0mtweets\u001b[0m \u001b[1;33m=\u001b[0m \u001b[0minfo_search\u001b[0m\u001b[1;33m[\u001b[0m\u001b[1;34m'statuses'\u001b[0m\u001b[1;33m]\u001b[0m\u001b[1;33m\u001b[0m\u001b[0m\n\u001b[0;32m    305\u001b[0m             \u001b[1;32mexcept\u001b[0m \u001b[0mKeyError\u001b[0m\u001b[1;33m:\u001b[0m\u001b[1;33m\u001b[0m\u001b[0m\n\u001b[1;32m--> 306\u001b[1;33m                 \u001b[1;32mraise\u001b[0m \u001b[0mValueError\u001b[0m\u001b[1;33m(\u001b[0m\u001b[0minfo_search\u001b[0m\u001b[1;33m[\u001b[0m\u001b[1;34m'errors'\u001b[0m\u001b[1;33m]\u001b[0m\u001b[1;33m[\u001b[0m\u001b[1;36m0\u001b[0m\u001b[1;33m]\u001b[0m\u001b[1;33m[\u001b[0m\u001b[1;34m'message'\u001b[0m\u001b[1;33m]\u001b[0m\u001b[1;33m)\u001b[0m\u001b[1;33m\u001b[0m\u001b[0m\n\u001b[0m\u001b[0;32m    307\u001b[0m \u001b[1;33m\u001b[0m\u001b[0m\n\u001b[0;32m    308\u001b[0m             \u001b[1;32mif\u001b[0m \u001b[0mlen\u001b[0m\u001b[1;33m(\u001b[0m\u001b[0mtweets\u001b[0m\u001b[1;33m)\u001b[0m \u001b[1;33m==\u001b[0m \u001b[1;36m0\u001b[0m\u001b[1;33m:\u001b[0m\u001b[1;33m\u001b[0m\u001b[0m\n",
        "\u001b[1;31mValueError\u001b[0m: Rate limit exceeded"
       ]
      }
     ],
     "prompt_number": 258
    },
    {
     "cell_type": "code",
     "collapsed": false,
     "input": [
      "manager.update()\n",
      "\n",
      "print(manager.num_tweets)\n",
      "print(manager.min_timestamp)\n",
      "print(manager.max_timestamp)\n",
      "print(manager.remaining)"
     ],
     "language": "python",
     "metadata": {},
     "outputs": [
      {
       "output_type": "stream",
       "stream": "stdout",
       "text": [
        "26373\n",
        "2013-12-23T14:07:57+00:00"
       ]
      },
      {
       "output_type": "stream",
       "stream": "stdout",
       "text": [
        "\n",
        "2013-12-31T03:18:20+00:00"
       ]
      },
      {
       "output_type": "stream",
       "stream": "stdout",
       "text": [
        "\n",
        "170\n"
       ]
      }
     ],
     "prompt_number": 240
    },
    {
     "cell_type": "code",
     "collapsed": false,
     "input": [
      "a=['a', 'b', 'b', 'c']"
     ],
     "language": "python",
     "metadata": {},
     "outputs": [],
     "prompt_number": 207
    },
    {
     "cell_type": "code",
     "collapsed": false,
     "input": [
      "b=set(a)"
     ],
     "language": "python",
     "metadata": {},
     "outputs": [],
     "prompt_number": 210
    },
    {
     "cell_type": "code",
     "collapsed": false,
     "input": [
      "c=list(b)"
     ],
     "language": "python",
     "metadata": {},
     "outputs": [],
     "prompt_number": 211
    },
    {
     "cell_type": "code",
     "collapsed": false,
     "input": [
      "b"
     ],
     "language": "python",
     "metadata": {},
     "outputs": [
      {
       "metadata": {},
       "output_type": "pyout",
       "prompt_number": 216,
       "text": [
        "{u'a', u'b', u'c'}"
       ]
      }
     ],
     "prompt_number": 216
    },
    {
     "cell_type": "code",
     "collapsed": false,
     "input": [
      "np.min(b)"
     ],
     "language": "python",
     "metadata": {},
     "outputs": [
      {
       "metadata": {},
       "output_type": "pyout",
       "prompt_number": 217,
       "text": [
        "{u'a', u'b', u'c'}"
       ]
      }
     ],
     "prompt_number": 217
    },
    {
     "cell_type": "code",
     "collapsed": false,
     "input": [
      "a=[1,2,3,4,4,4,5,6,7]\n",
      "b=set(a)"
     ],
     "language": "python",
     "metadata": {},
     "outputs": [],
     "prompt_number": 218
    },
    {
     "cell_type": "code",
     "collapsed": false,
     "input": [
      "b"
     ],
     "language": "python",
     "metadata": {},
     "outputs": [
      {
       "metadata": {},
       "output_type": "pyout",
       "prompt_number": 219,
       "text": [
        "{1, 2, 3, 4, 5, 6, 7}"
       ]
      }
     ],
     "prompt_number": 219
    },
    {
     "cell_type": "code",
     "collapsed": false,
     "input": [
      "len(b)"
     ],
     "language": "python",
     "metadata": {},
     "outputs": [
      {
       "metadata": {},
       "output_type": "pyout",
       "prompt_number": 220,
       "text": [
        "7"
       ]
      }
     ],
     "prompt_number": 220
    },
    {
     "cell_type": "code",
     "collapsed": false,
     "input": [
      "np.min(b[:])"
     ],
     "language": "python",
     "metadata": {},
     "outputs": [
      {
       "ename": "TypeError",
       "evalue": "'set' object has no attribute '__getitem__'",
       "output_type": "pyerr",
       "traceback": [
        "\u001b[1;31m---------------------------------------------------------------------------\u001b[0m\n\u001b[1;31mTypeError\u001b[0m                                 Traceback (most recent call last)",
        "\u001b[1;32m<ipython-input-223-596b80aeb909>\u001b[0m in \u001b[0;36m<module>\u001b[1;34m()\u001b[0m\n\u001b[1;32m----> 1\u001b[1;33m \u001b[0mnp\u001b[0m\u001b[1;33m.\u001b[0m\u001b[0mmin\u001b[0m\u001b[1;33m(\u001b[0m\u001b[0mb\u001b[0m\u001b[1;33m[\u001b[0m\u001b[1;33m:\u001b[0m\u001b[1;33m]\u001b[0m\u001b[1;33m)\u001b[0m\u001b[1;33m\u001b[0m\u001b[0m\n\u001b[0m",
        "\u001b[1;31mTypeError\u001b[0m: 'set' object has no attribute '__getitem__'"
       ]
      }
     ],
     "prompt_number": 223
    },
    {
     "cell_type": "code",
     "collapsed": false,
     "input": [
      "1 in b"
     ],
     "language": "python",
     "metadata": {},
     "outputs": [
      {
       "metadata": {},
       "output_type": "pyout",
       "prompt_number": 226,
       "text": [
        "True"
       ]
      }
     ],
     "prompt_number": 226
    },
    {
     "cell_type": "code",
     "collapsed": false,
     "input": [],
     "language": "python",
     "metadata": {},
     "outputs": []
    }
   ],
   "metadata": {}
  }
 ]
}