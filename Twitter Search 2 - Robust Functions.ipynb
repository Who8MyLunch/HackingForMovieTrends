{
 "metadata": {
  "name": ""
 },
 "nbformat": 3,
 "nbformat_minor": 0,
 "worksheets": [
  {
   "cells": [
    {
     "cell_type": "markdown",
     "metadata": {},
     "source": [
      "IPython keyboard shortcuts: http://ipython.org/ipython-doc/stable/interactive/notebook.html#keyboard-shortcuts\n"
     ]
    },
    {
     "cell_type": "code",
     "collapsed": false,
     "input": [
      "from __future__ import division, print_function, unicode_literals\n",
      "\n",
      "%matplotlib inline\n",
      "\n",
      "import os\n",
      "\n",
      "import IPython.display\n",
      "import numpy as np\n",
      "import requests\n",
      "import requests_oauthlib\n",
      "import oauthlib\n",
      "import arrow\n",
      "import BeautifulSoup\n",
      "\n",
      "import json_io\n",
      "import yaml_io\n",
      "import utilities\n",
      "\n",
      "import twitter"
     ],
     "language": "python",
     "metadata": {},
     "outputs": [],
     "prompt_number": 1
    },
    {
     "cell_type": "markdown",
     "metadata": {},
     "source": [
      "# Twitter Search\n",
      "\n",
      "The following set of links to Twitter's documentation are those I found most useful:\n",
      "\n",
      "- [What is a Tweet](https://dev.twitter.com/docs/platform-objects/tweets)\n",
      "- [Search API: GET search/tweets](https://dev.twitter.com/docs/api/1.1/get/search/tweets)\n",
      "- [**Help with the Search API**](https://dev.twitter.com/docs/using-search)\n",
      "- [Working with Timelines](https://dev.twitter.com/docs/working-with-timelines)\n",
      " \n",
      "The page [Help with the Search API](https://dev.twitter.com/docs/using-search) has this helpful tidbit of information when you expect a large number of return tweets.  In this case it is important to pay attention to iterating through the results: \n",
      "\n",
      "> Iterating in a result set: parameters such count, until, since_id, max_id allow to control how we iterate through search results, since it could be a large set of tweets. The 'Working with Timelines' documentation is a very rich and illustrative tutorial to learn how to use these parameters to achieve the best efficiency and reliability when processing result sets.\n"
     ]
    },
    {
     "cell_type": "markdown",
     "metadata": {},
     "source": [
      "# API Status\n",
      "\n",
      "I have written a module named `twitter.py` which contains useful functions and classes based on what I learned with the previous notebook.  One of the first capabilities I added was a function to generate a `session` object from the `requests` package, authorized via OAuth-2.\n",
      "\n",
      "The cell below demonstrates querying the Twitter API for information on my account's current rate limit status."
     ]
    },
    {
     "cell_type": "code",
     "collapsed": false,
     "input": [
      "session = utilities.authenticate()\n",
      "\n",
      "print('\\nclient_id: {:s}'.format(session.client_id.client_id))\n",
      "\n",
      "info = utilities.rate_limit_from_api(session)\n",
      "\n",
      "print('\\nRate Status')\n",
      "print('-----------')\n",
      "print('Limit:     {:d}'.format(info['limit']))\n",
      "print('Remaining: {:d}'.format(info['remaining']))\n",
      "\n",
      "delta = arrow.get(info['reset']) - arrow.now()\n",
      "seconds = delta.total_seconds()\n",
      "minutes = seconds / 60.\n",
      "\n",
      "print('Reset:    {:02.0f}:{:4.1f}'.format(minutes, seconds-int(minutes)*60.))"
     ],
     "language": "python",
     "metadata": {},
     "outputs": [
      {
       "output_type": "stream",
       "stream": "stdout",
       "text": [
        "\n",
        "client_id: JxUV7dXAvXigyxyWafOGUA\n",
        "\n",
        "Rate Status"
       ]
      },
      {
       "output_type": "stream",
       "stream": "stdout",
       "text": [
        "\n",
        "-----------\n",
        "Limit:     450\n",
        "Remaining: 450\n",
        "Reset:    15:59.7\n"
       ]
      }
     ],
     "prompt_number": 2
    },
    {
     "cell_type": "markdown",
     "metadata": {},
     "source": [
      "# Practice Search\n",
      "\n",
      "Another important capabiity in `twitter.py` is the ability to search for Tweets matching a specified text pattern.  The primary interface to search is though the class `Tweet_Search`.  Calling the method `run()` on an instance returns a generator allowing for efficient retrieval of matching tweets.\n",
      "\n",
      "The cell below shows a simple example.  The query \"grey hound dog\" gets relatively few hits, about once per day or so.  This is nice for testing as it.  If I comment out this query and try again with something like the title of a current popular movie, I will receive many tens of thousands of tweets.  This is when it became clear to me that I need another layer to manage larger volumes of tweets.  "
     ]
    },
    {
     "cell_type": "code",
     "collapsed": true,
     "input": [
      "query = 'grey hound dog'\n",
      "# query = 'hobbit desolation smaug'\n",
      "\n",
      "# Output folder.  Will be created if it oes not already exist.\n",
      "path_example = os.path.join(os.path.curdir, 'tweets_testing_one')\n",
      "    \n",
      "# Build a search object that knows how to talk to Twitter's API.\n",
      "searcher = twitter.Search(session)\n",
      "\n",
      "# Run a search for a specific query string, operates as a generator.\n",
      "gen = searcher.run(query)\n",
      "\n",
      "# Loop over returned results.\n",
      "for k, tw in enumerate(gen):\n",
      "    print('\\n{:3d} | {:s} | {:s}'.format(k, str(tw.timestamp), tw.text))\n",
      "\n",
      "    # Save Tweet to file.\n",
      "    tw.serialize(path_example)\n",
      "\n",
      "    # Stop the search if it goes on for too long.\n",
      "    if k > 250:\n",
      "        raise StopIteration\n",
      "        "
     ],
     "language": "python",
     "metadata": {},
     "outputs": [
      {
       "output_type": "stream",
       "stream": "stdout",
       "text": [
        "\n",
        "  0 | 2014-01-01T19:54:30+00:00 | Saw the best thing ever this year, this morning! \n",
        "\n",
        "Out with Charlie dog, we met this couple who had a grey hound... \n",
        "\n",
        "  1 | 2014-01-01T12:32:57+00:00 | when is a black dog not a black dog? when it's a grey--hound!\n",
        "\n",
        "  2 | 2014-01-01T08:54:37+00:00 | caravan hound into grey hound puppies available: Hi this is hunain i have caravan hound into gr... \n",
        "\n",
        "  3 | 2014-01-01T06:56:51+00:00 | Dog owners: My 13 yr old german shep/grey hound is limping all of a sudden and welped in pain just laying there. Can we give her anything?\n",
        "\n",
        "  4 | 2013-12-31T07:00:30+00:00 | RT @LarryHoover__: Kamal look like a grey hound dog\n",
        "\n",
        "  5 | 2013-12-31T06:57:43+00:00 | Kamal look like a grey hound dog\n",
        "\n",
        "  6 | 2013-12-29T23:28:47+00:00 | RT @iSpankHim: Alex would be an Italian grey hound if he was a dog\n",
        "\n",
        "  7 | 2013-12-29T22:39:59+00:00 | Alex would be an Italian grey hound if he was a dog\n",
        "\n",
        "  8 | 2013-12-29T18:31:56+00:00 | I will have a weiner dog, a husky, and a grey hound when I get older. \ud83d\ude0d\ud83d\ude0d\ud83d\ude0d\n",
        "\n",
        "  9 | 2013-12-29T13:48:59+00:00 | Are back door was open and a stray dog just walked into are house he is a grey hound puppy:( collar  no address...RSPCA time :) #puppy#help\n",
        "\n",
        " 10 | 2013-12-29T08:16:22+00:00 | \"And over here is where you saw a grey hound dog\" \n",
        "#ghostadventures  @Zak_Bagans @agoodwincollect @NickGroff_\n",
        "\n",
        " 11 | 2013-12-28T12:13:35+00:00 | @2coolKittypurry the only big dog ive been bitten by is a grey hound\n",
        "\n",
        " 12 | 2013-12-28T04:11:20+00:00 | that blue grey coat on a dog like a pure grey hound has is a pretty coat, some terriers have it too\n",
        "\n",
        " 13 | 2013-12-27T23:10:37+00:00 | Im Threw Fuckin Wit T Not She Said The Girl Look Like A Grey Hound Dog!!\n",
        "\n",
        " 14 | 2013-12-26T15:03:01+00:00 | What is your favorite dog breed? \u2014 the italian grey hound.I fell in love when i first watched a documentary of t... \n"
       ]
      }
     ],
     "prompt_number": 3
    },
    {
     "cell_type": "markdown",
     "metadata": {},
     "source": [
      "### Pretty\n",
      "The `Tweet` class will also produce nicely-formatted text from the internal JSON data."
     ]
    },
    {
     "cell_type": "code",
     "collapsed": false,
     "input": [
      "print(tw)"
     ],
     "language": "python",
     "metadata": {},
     "outputs": [
      {
       "output_type": "stream",
       "stream": "stdout",
       "text": [
        "Tweet Object:\n",
        "{\n",
        "    \"contributors\": null,\n",
        "    \"coordinates\": null,\n",
        "    \"created_at\": \"Thu Dec 26 15:03:01 +0000 2013\",\n",
        "    \"entities\": {\n",
        "        \"hashtags\": [],\n",
        "        \"symbols\": [],\n",
        "        \"urls\": [\n",
        "            {\n",
        "                \"display_url\": \"ask.fm/a/a5biabm9\",\n",
        "                \"expanded_url\": \"http://ask.fm/a/a5biabm9\",\n",
        "                \"indices\": [\n",
        "                    116,\n",
        "                    138\n",
        "                ],\n",
        "                \"url\": \"http://t.co/N1CLq7YESK\"\n",
        "            }\n",
        "        ],\n",
        "        \"user_mentions\": []\n",
        "    },\n",
        "    \"favorite_count\": 0,\n",
        "    \"favorited\": false,\n",
        "    \"geo\": null,\n",
        "    \"id\": 416222626923954176,\n",
        "    \"id_str\": \"416222626923954176\",\n",
        "    \"in_reply_to_screen_name\": null,\n",
        "    \"in_reply_to_status_id\": null,\n",
        "    \"in_reply_to_status_id_str\": null,\n",
        "    \"in_reply_to_user_id\": null,\n",
        "    \"in_reply_to_user_id_str\": null,\n",
        "    \"lang\": \"en\",\n",
        "    \"metadata\": {\n",
        "        \"iso_language_code\": \"en\",\n",
        "        \"result_type\": \"recent\"\n",
        "    },\n",
        "    \"place\": null,\n",
        "    \"possibly_sensitive\": false,\n",
        "    \"retweet_count\": 0,\n",
        "    \"retweeted\": false,\n",
        "    \"source\": \"<a href=\\\"http://ask.fm/\\\" rel=\\\"nofollow\\\">Ask.fm</a>\",\n",
        "    \"text\": \"What is your favorite dog breed? \\u2014 the italian grey hound.I fell in love when i first watched a documentary of t... http://t.co/N1CLq7YESK\",\n",
        "    \"truncated\": false,\n",
        "    \"user\": {\n",
        "        \"contributors_enabled\": false,\n",
        "        \"created_at\": \"Thu Dec 03 11:03:54 +0000 2009\",\n",
        "        \"default_profile\": false,\n",
        "        \"default_profile_image\": false,\n",
        "        \"description\": \"Just so you know : I love happy endings.\\r\\nIsaiah 55:8-11\",\n",
        "        \"entities\": {\n",
        "            \"description\": {\n",
        "                \"urls\": []\n",
        "            }\n",
        "        },\n",
        "        \"favourites_count\": 349,\n",
        "        \"follow_request_sent\": null,\n",
        "        \"followers_count\": 149,\n",
        "        \"following\": null,\n",
        "        \"friends_count\": 278,\n",
        "        \"geo_enabled\": false,\n",
        "        \"id\": 94306100,\n",
        "        \"id_str\": \"94306100\",\n",
        "        \"is_translator\": false,\n",
        "        \"lang\": \"en\",\n",
        "        \"listed_count\": 0,\n",
        "        \"location\": \"Malaysia\",\n",
        "        \"name\": \"chloe cheong jo anne\",\n",
        "        \"notifications\": null,\n",
        "        \"profile_background_color\": \"ACDED6\",\n",
        "        \"profile_background_image_url\": \"http://a0.twimg.com/profile_background_images/378800000155200473/FNPqfPba.jpeg\",\n",
        "        \"profile_background_image_url_https\": \"https://si0.twimg.com/profile_background_images/378800000155200473/FNPqfPba.jpeg\",\n",
        "        \"profile_background_tile\": false,\n",
        "        \"profile_banner_url\": \"https://pbs.twimg.com/profile_banners/94306100/1388041696\",\n",
        "        \"profile_image_url\": \"http://pbs.twimg.com/profile_images/413839833308471296/3jDWV9vr_normal.jpeg\",\n",
        "        \"profile_image_url_https\": \"https://pbs.twimg.com/profile_images/413839833308471296/3jDWV9vr_normal.jpeg\",\n",
        "        \"profile_link_color\": \"038543\",\n",
        "        \"profile_sidebar_border_color\": \"000000\",\n",
        "        \"profile_sidebar_fill_color\": \"F6F6F6\",\n",
        "        \"profile_text_color\": \"333333\",\n",
        "        \"profile_use_background_image\": true,\n",
        "        \"protected\": false,\n",
        "        \"screen_name\": \"ChloeCheong13\",\n",
        "        \"statuses_count\": 1719,\n",
        "        \"time_zone\": \"Pacific Time (US & Canada)\",\n",
        "        \"url\": null,\n",
        "        \"utc_offset\": -28800,\n",
        "        \"verified\": false\n",
        "    }\n",
        "}\n"
       ]
      }
     ],
     "prompt_number": 4
    },
    {
     "cell_type": "markdown",
     "metadata": {},
     "source": [
      "# Tweet Manager\n",
      "\n",
      "A class to manage a large collection of Tweets.  Make a new manager for the Tweets I just created in the cell above."
     ]
    },
    {
     "cell_type": "code",
     "collapsed": false,
     "input": [
      "mgr_tweets = twitter.Tweet_Manager(path_example)\n",
      "\n",
      "print(mgr_tweets.count)\n",
      "\n",
      "print(mgr_tweets.min_id)\n",
      "print(mgr_tweets.max_id)\n",
      "\n",
      "print(mgr_tweets.min_timestamp)\n",
      "print(mgr_tweets.max_timestamp)"
     ],
     "language": "python",
     "metadata": {},
     "outputs": [
      {
       "output_type": "stream",
       "stream": "stdout",
       "text": [
        "15\n",
        "416222626923954176\n",
        "418470305263542272\n",
        "2013-12-26T15:03:01+00:00\n",
        "2014-01-01T19:54:30+00:00\n"
       ]
      }
     ],
     "prompt_number": 5
    },
    {
     "cell_type": "markdown",
     "metadata": {},
     "source": [
      "# Combined Forces\n",
      "\n",
      "The previous search can be simplified using a `Tweet_Manager` to help with paths and file names."
     ]
    },
    {
     "cell_type": "code",
     "collapsed": false,
     "input": [
      "# Output folder.\n",
      "path_example = os.path.join(os.path.curdir, 'tweets_testing_two')\n",
      "    \n",
      "searcher = twitter.Search(session)\n",
      "\n",
      "mgr_tweets = twitter.Tweet_Manager(path_example)\n",
      "\n",
      "# Run a search for a specific query string, operates as a generator.\n",
      "gen = searcher.run(query)\n",
      "\n",
      "# Loop over returned results.\n",
      "for k, tw in enumerate(gen):\n",
      "    print('\\n{:3d} | {:s} | {:s}'.format(k, str(tw.timestamp), tw.text))\n",
      "\n",
      "    mgr_tweets.add_tweet_obj(tw)\n",
      "\n",
      "    # Stop the search if it goes on for too long.\n",
      "    if k > 250:\n",
      "        raise StopIteration\n",
      "        \n",
      "        \n",
      "print()\n",
      "print(mgr_tweets.count)\n",
      "\n",
      "print(mgr_tweets.min_id)\n",
      "print(mgr_tweets.max_id)\n",
      "\n",
      "print(mgr_tweets.min_timestamp)\n",
      "print(mgr_tweets.max_timestamp)"
     ],
     "language": "python",
     "metadata": {},
     "outputs": [
      {
       "output_type": "stream",
       "stream": "stdout",
       "text": [
        "\n",
        "  0 | 2014-01-01T19:54:30+00:00 | Saw the best thing ever this year, this morning! \n",
        "\n",
        "Out with Charlie dog, we met this couple who had a grey hound... \n",
        "\n",
        "  1 | 2014-01-01T12:32:57+00:00 | when is a black dog not a black dog? when it's a grey--hound!\n",
        "\n",
        "  2 | 2014-01-01T08:54:37+00:00 | caravan hound into grey hound puppies available: Hi this is hunain i have caravan hound into gr... \n",
        "\n",
        "  3 | 2014-01-01T06:56:51+00:00 | Dog owners: My 13 yr old german shep/grey hound is limping all of a sudden and welped in pain just laying there. Can we give her anything?\n",
        "\n",
        "  4 | 2013-12-31T07:00:30+00:00 | RT @LarryHoover__: Kamal look like a grey hound dog\n",
        "\n",
        "  5 | 2013-12-31T06:57:43+00:00 | Kamal look like a grey hound dog\n",
        "\n",
        "  6 | 2013-12-29T23:28:47+00:00 | RT @iSpankHim: Alex would be an Italian grey hound if he was a dog\n",
        "\n",
        "  7 | 2013-12-29T22:39:59+00:00 | Alex would be an Italian grey hound if he was a dog\n",
        "\n",
        "  8 | 2013-12-29T18:31:56+00:00 | I will have a weiner dog, a husky, and a grey hound when I get older. \ud83d\ude0d\ud83d\ude0d\ud83d\ude0d\n",
        "\n",
        "  9 | 2013-12-29T13:48:59+00:00 | Are back door was open and a stray dog just walked into are house he is a grey hound puppy:( collar  no address...RSPCA time :) #puppy#help\n",
        "\n",
        " 10 | 2013-12-29T08:16:22+00:00 | \"And over here is where you saw a grey hound dog\" \n",
        "#ghostadventures  @Zak_Bagans @agoodwincollect @NickGroff_\n",
        "\n",
        " 11 | 2013-12-28T12:13:35+00:00 | @2coolKittypurry the only big dog ive been bitten by is a grey hound\n",
        "\n",
        " 12 | 2013-12-28T04:11:20+00:00 | that blue grey coat on a dog like a pure grey hound has is a pretty coat, some terriers have it too\n",
        "\n",
        " 13 | 2013-12-27T23:10:37+00:00 | Im Threw Fuckin Wit T Not She Said The Girl Look Like A Grey Hound Dog!!\n",
        "\n",
        " 14 | 2013-12-26T15:03:01+00:00 | What is your favorite dog breed? \u2014 the italian grey hound.I fell in love when i first watched a documentary of t... \n",
        "\n"
       ]
      },
      {
       "output_type": "stream",
       "stream": "stdout",
       "text": [
        "15\n",
        "416222626923954176\n",
        "418470305263542272\n",
        "2013-12-26T15:03:01+00:00\n",
        "2014-01-01T19:54:30+00:00\n"
       ]
      }
     ],
     "prompt_number": 6
    },
    {
     "cell_type": "markdown",
     "metadata": {},
     "source": [
      "##Iterate over Tweets\n",
      "\n",
      "Iterate over all example Tweets via generator and print out some interesting details.\n",
      "\n",
      "**Warning:** don't run the next few cells if the example search above returned a really large number of Tweets..."
     ]
    },
    {
     "cell_type": "code",
     "collapsed": false,
     "input": [
      "\n",
      "for tw in mgr_tweets.tweets:\n",
      "    print('{:d} | {:<10s} | {:s}'.format(tw.id_int, tw.source, tw.source_full))\n",
      "#     print('{:d} | filter: {:5s}'.format(tw.id_int, str(twitter.filter(tw))))\n",
      "#     print('{:d} --> {:s}'.format(tw.id_int, tw.text))\n",
      "#     print('{:d} | {:s} | {:5s} | {:2d}'.format(tw.id_int, str(tw.timestamp), str(tw.retweet), tw.retweet_count))"
     ],
     "language": "python",
     "metadata": {},
     "outputs": [
      {
       "output_type": "stream",
       "stream": "stdout",
       "text": [
        "416222626923954176 | unknown    | <a href=\"http://ask.fm/\" rel=\"nofollow\">Ask.fm</a>\n",
        "416707722974085121 | txt        | <a href=\"http://twitter.com/devices\" rel=\"nofollow\">txt</a>\n",
        "416783400435847168 | web        | web\n",
        "416904761775255552 | iphone     | <a href=\"http://twitter.com/download/iphone\" rel=\"nofollow\">Twitter for iPhone</a>\n",
        "417207453017583616 | android    | <a href=\"http://twitter.com/download/android\" rel=\"nofollow\">Twitter for Android</a>\n",
        "417291156096307200 | blackberry | <a href=\"http://blackberry.com/twitter\" rel=\"nofollow\">Twitter for BlackBerry\u00ae</a>\n",
        "417362362862034944 | iphone     | <a href=\"http://twitter.com/download/iphone\" rel=\"nofollow\">Twitter for iPhone</a>\n",
        "417424789511213056 | iphone     | <a href=\"http://twitter.com/download/iphone\" rel=\"nofollow\">Twitter for iPhone</a>\n",
        "417437066792685568 | android    | <a href=\"https://twitter.com/download/android\" rel=\"nofollow\">Twitter for  Android</a>\n",
        "417912432867422209 | iphone     | <a href=\"http://twitter.com/download/iphone\" rel=\"nofollow\">Twitter for iPhone</a>\n",
        "417913133689102336 | iphone     | <a href=\"http://twitter.com/download/iphone\" rel=\"nofollow\">Twitter for iPhone</a>\n",
        "418274603287334912 | android    | <a href=\"http://twitter.com/download/android\" rel=\"nofollow\">Twitter for Android</a>\n",
        "418304240847568896 | unknown    | <a href=\"http://twitterfeed.com\" rel=\"nofollow\">twitterfeed</a>\n",
        "418359188163538944 | web        | web\n",
        "418470305263542272 | unknown    | <a href=\"http://www.facebook.com/twitter\" rel=\"nofollow\">Facebook</a>\n"
       ]
      }
     ],
     "prompt_number": 7
    },
    {
     "cell_type": "markdown",
     "metadata": {},
     "source": [
      "# Search Manager\n",
      "\n",
      "Next up is a `Search_Manager` to help search for new Tweets to add to a new or existing collection desribed by a `Tweet_Manager`.  So far I have an easy way to serialize a Tweet to a .json file.  But I may need to restart a search that was interrupted or if I hit the rate limit.  I will also want to refresh a given search sometime in the future.  `Search_Manager` is implemented as a subclass of `Tweet_Manager` and makes direct use of the `Tweet_Search` class.\n",
      "\n"
     ]
    },
    {
     "cell_type": "code",
     "collapsed": false,
     "input": [
      "path_example = os.path.join(os.path.curdir, 'tweets_testing_three')\n",
      "\n",
      "query = 'grey hound dog'\n",
      "# query = 'happy dog'\n",
      "# query = 'hobbit desolation smaug'\n",
      "\n",
      "manager = twitter.Search_Manager(session, query, path_example)\n",
      "\n",
      "manager.search()\n",
      "\n",
      "print(manager.count)\n",
      "print(manager.min_timestamp)\n",
      "print(manager.max_timestamp)\n",
      "print(manager.api_remaining)\n"
     ],
     "language": "python",
     "metadata": {},
     "outputs": [
      {
       "output_type": "stream",
       "stream": "stdout",
       "text": [
        "15\n",
        "2013-12-26T15:03:01+00:00\n",
        "2014-01-01T19:54:30+00:00\n",
        "444\n"
       ]
      }
     ],
     "prompt_number": 8
    },
    {
     "cell_type": "code",
     "collapsed": false,
     "input": [
      "path_query = os.path.join(os.path.curdir, 'tweets')\n",
      "\n",
      "# query = 'hobbit desolation smaug'\n",
      "# query = 'Anchorman 2 The Legend Continues'\n",
      "query = 'Anchorman'\n",
      "\n",
      "manager = twitter.Search_Manager(session, query, path_query)\n",
      "\n",
      "manager.search_continuous()\n",
      "\n",
      "print(manager.api_remaining)\n"
     ],
     "language": "python",
     "metadata": {},
     "outputs": []
    },
    {
     "cell_type": "code",
     "collapsed": false,
     "input": [],
     "language": "python",
     "metadata": {},
     "outputs": [],
     "prompt_number": 54
    },
    {
     "cell_type": "code",
     "collapsed": false,
     "input": [],
     "language": "python",
     "metadata": {},
     "outputs": [],
     "prompt_number": 54
    },
    {
     "cell_type": "code",
     "collapsed": false,
     "input": [],
     "language": "python",
     "metadata": {},
     "outputs": []
    },
    {
     "cell_type": "code",
     "collapsed": false,
     "input": [],
     "language": "python",
     "metadata": {},
     "outputs": []
    },
    {
     "cell_type": "code",
     "collapsed": false,
     "input": [
      "a = 1\n",
      "b = 2\n",
      "c = 4\n",
      "\n",
      "d = a | c"
     ],
     "language": "python",
     "metadata": {},
     "outputs": [],
     "prompt_number": 40
    },
    {
     "cell_type": "code",
     "collapsed": false,
     "input": [
      "d"
     ],
     "language": "python",
     "metadata": {},
     "outputs": [
      {
       "metadata": {},
       "output_type": "pyout",
       "prompt_number": 41,
       "text": [
        "5"
       ]
      }
     ],
     "prompt_number": 41
    },
    {
     "cell_type": "code",
     "collapsed": false,
     "input": [
      "if d & a:\n",
      "    print(10)"
     ],
     "language": "python",
     "metadata": {},
     "outputs": [
      {
       "output_type": "stream",
       "stream": "stdout",
       "text": [
        "10\n"
       ]
      }
     ],
     "prompt_number": 51
    },
    {
     "cell_type": "code",
     "collapsed": false,
     "input": [
      "if d & b:\n",
      "    print(10)"
     ],
     "language": "python",
     "metadata": {},
     "outputs": [],
     "prompt_number": 52
    },
    {
     "cell_type": "code",
     "collapsed": false,
     "input": [
      "if d & c:\n",
      "    print(10)"
     ],
     "language": "python",
     "metadata": {},
     "outputs": [
      {
       "output_type": "stream",
       "stream": "stdout",
       "text": [
        "10\n"
       ]
      }
     ],
     "prompt_number": 53
    },
    {
     "cell_type": "code",
     "collapsed": false,
     "input": [],
     "language": "python",
     "metadata": {},
     "outputs": []
    }
   ],
   "metadata": {}
  }
 ]
}