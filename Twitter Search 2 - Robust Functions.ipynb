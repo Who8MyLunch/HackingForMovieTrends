{
 "metadata": {
  "name": ""
 },
 "nbformat": 3,
 "nbformat_minor": 0,
 "worksheets": [
  {
   "cells": [
    {
     "cell_type": "markdown",
     "metadata": {},
     "source": [
      "IPython keyboard shortcuts: http://ipython.org/ipython-doc/stable/interactive/notebook.html#keyboard-shortcuts\n"
     ]
    },
    {
     "cell_type": "code",
     "collapsed": false,
     "input": [
      "from __future__ import division, print_function, unicode_literals\n",
      "\n",
      "%matplotlib inline\n",
      "\n",
      "import os\n",
      "\n",
      "import IPython.display\n",
      "import numpy as np\n",
      "import matplotlib.pyplot as plt\n",
      "\n",
      "import requests\n",
      "import requests_oauthlib\n",
      "import oauthlib\n",
      "import arrow\n",
      "\n",
      "import json_io\n",
      "import yaml_io\n",
      "import twitter"
     ],
     "language": "python",
     "metadata": {},
     "outputs": [],
     "prompt_number": 1
    },
    {
     "cell_type": "markdown",
     "metadata": {},
     "source": [
      "# Twitter Search\n",
      "\n",
      "The following set of links to Twitter's documentation are those I found most useful:\n",
      "\n",
      "- [What is a Tweet](https://dev.twitter.com/docs/platform-objects/tweets)\n",
      "- [Search API: GET search/tweets](https://dev.twitter.com/docs/api/1.1/get/search/tweets)\n",
      "- [**Help with the Search API**](https://dev.twitter.com/docs/using-search)\n",
      "- [Working with Timelines](https://dev.twitter.com/docs/working-with-timelines)\n",
      " \n",
      "The page [Help with the Search API](https://dev.twitter.com/docs/using-search) has this helpful tidbit of information when you expect a large number of return tweets.  In this case it is important to pay attention to iterating through the results: \n",
      "\n",
      "> Iterating in a result set: parameters such count, until, since_id, max_id allow to control how we iterate through search results, since it could be a large set of tweets. The 'Working with Timelines' documentation is a very rich and illustrative tutorial to learn how to use these parameters to achieve the best efficiency and reliability when processing result sets.\n"
     ]
    },
    {
     "cell_type": "markdown",
     "metadata": {},
     "source": [
      "# API Status\n",
      "\n",
      "I have written a module named `twitter.py` which contains useful functions and classes based on what I learned with the previous notebook.  One of the first capabilities I added was a function to generate a `session` object from the `requests` package, authorized via OAuth-2.\n",
      "\n",
      "The cell below demonstrates querying the Twitter API for information on my account's current rate limit status."
     ]
    },
    {
     "cell_type": "code",
     "collapsed": false,
     "input": [
      "session = twitter.authenticate()\n",
      "\n",
      "print('\\nclient_id: {:s}'.format(session.client_id.client_id))\n",
      "\n",
      "info = twitter.rate_limit_from_api(session)\n",
      "\n",
      "print('\\nRate Status')\n",
      "print('-----------')\n",
      "print('Limit:     {:d}'.format(info['limit']))\n",
      "print('Remaining: {:d}'.format(info['remaining']))\n",
      "\n",
      "delta = info['reset'] - arrow.now()\n",
      "seconds = delta.total_seconds()\n",
      "minutes = seconds / 60.\n",
      "\n",
      "print('Reset:    {:02.0f}:{:4.1f}'.format(minutes, seconds-int(minutes)*60.))"
     ],
     "language": "python",
     "metadata": {},
     "outputs": [
      {
       "output_type": "stream",
       "stream": "stdout",
       "text": [
        "\n",
        "client_id: JxUV7dXAvXigyxyWafOGUA\n",
        "\n",
        "Rate Status"
       ]
      },
      {
       "output_type": "stream",
       "stream": "stdout",
       "text": [
        "\n",
        "-----------\n",
        "Limit:     450\n",
        "Remaining: 448\n",
        "Reset:    11:50.8\n"
       ]
      }
     ],
     "prompt_number": 2
    },
    {
     "cell_type": "markdown",
     "metadata": {},
     "source": [
      "# Practice Search\n",
      "\n",
      "Another important capabiity in `twitter.py` is the ability to search for Tweets matching a specified text pattern.  The primary interface to search is though the class `Tweet_Search`.  Calling the method `run()` on an instance returns a generator allowing for efficient retrieval of matching tweets.\n",
      "\n",
      "The cell below shows a simple example.  The query \"grey hound dog\" gets relatively few hits, about once per day or so.  This is nice for testing as it.  If I comment out this query and try again with something like the title of a current popular movie, I will receive many tens of thousands of tweets.  This is when it became clear to me that I need another layer to manage larger volumes of tweets.  \n",
      "\n",
      "\n"
     ]
    },
    {
     "cell_type": "code",
     "collapsed": true,
     "input": [
      "query = 'grey hound dog'\n",
      "# query = 'hobbit desolation smaug'\n",
      "\n",
      "# Build a search object that knows how to talk to Twitter's API.\n",
      "searcher = twitter.Tweet_Search(session)\n",
      "\n",
      "# Run a search for a specific query string, operates as a generator.\n",
      "gen = searcher.run(query)\n",
      "\n",
      "# Loop over returned results.\n",
      "for k, tw in enumerate(gen):\n",
      "    print('\\n{:3d} | {:s} | {:s}'.format(k, str(tw.timestamp), tw.text))\n",
      "\n",
      "    # Save Tweet to file.\n",
      "    tw.serialize()\n",
      "\n",
      "    # Stop the search if it goes on for too long.\n",
      "    if k > 250:\n",
      "        raise StopIteration\n",
      "        "
     ],
     "language": "python",
     "metadata": {},
     "outputs": [
      {
       "output_type": "stream",
       "stream": "stdout",
       "text": [
        "\n",
        "  0 | 2013-12-31T07:00:30+00:00 | RT @LarryHoover__: Kamal look like a grey hound dog\n",
        "\n",
        "  1 | 2013-12-31T06:59:00+00:00 | RT @LarryHoover__: Kamal look like a grey hound dog\n",
        "\n",
        "  2 | 2013-12-31T06:57:43+00:00 | Kamal look like a grey hound dog\n",
        "\n",
        "  3 | 2013-12-29T23:28:47+00:00 | RT @iSpankHim: Alex would be an Italian grey hound if he was a dog\n",
        "\n",
        "  4 | 2013-12-29T22:39:59+00:00 | Alex would be an Italian grey hound if he was a dog\n",
        "\n",
        "  5 | 2013-12-29T18:31:56+00:00 | I will have a weiner dog, a husky, and a grey hound when I get older. \ud83d\ude0d\ud83d\ude0d\ud83d\ude0d\n",
        "\n",
        "  6 | 2013-12-29T13:48:59+00:00 | Are back door was open and a stray dog just walked into are house he is a grey hound puppy:( collar  no address...RSPCA time :) #puppy#help\n",
        "\n",
        "  7 | 2013-12-29T08:16:22+00:00 | \"And over here is where you saw a grey hound dog\" \n",
        "#ghostadventures  @Zak_Bagans @agoodwincollect @NickGroff_\n",
        "\n",
        "  8 | 2013-12-28T12:13:35+00:00 | @2coolKittypurry the only big dog ive been bitten by is a grey hound\n",
        "\n",
        "  9 | 2013-12-28T04:11:20+00:00 | that blue grey coat on a dog like a pure grey hound has is a pretty coat, some terriers have it too\n",
        "\n",
        " 10 | 2013-12-27T23:10:37+00:00 | Im Threw Fuckin Wit T Not She Said The Girl Look Like A Grey Hound Dog!!\n",
        "\n",
        " 11 | 2013-12-26T15:03:01+00:00 | What is your favorite dog breed? \u2014 the italian grey hound.I fell in love when i first watched a documentary of t... \n"
       ]
      }
     ],
     "prompt_number": 3
    },
    {
     "cell_type": "markdown",
     "metadata": {},
     "source": [
      "# Search Manager\n",
      "\n",
      "Now its clear that I need a more effective way to handle the large number of tweets returned by these kinds of search queries.  So far I have an easy way to serialize a Tweet to a .json file.  But I may need to restart a search that was interrupted, e.g. hit the rate limit.  I will also want to refresh a search sometime in the future.\n",
      "\n",
      "The `Search_Manager` class handles most of these details, including the ability to stop if I am getting close to hitting the API rate limit.  The manager also performs a basic test to filter out undesireable tweets.  Some things to check include:\n",
      "\n",
      " - Contains a URL?\n",
      " - Message source: web, some known client, API??\n",
      " - Direct Message?\n",
      " - Retweet?\n",
      " - Following disproportionate, compared to number following them."
     ]
    },
    {
     "cell_type": "code",
     "collapsed": false,
     "input": [
      "# query = 'grey hound dog'\n",
      "query = 'happy dog'\n",
      "# query = 'hobbit desolation smaug'\n",
      "manager = twitter.Search_Manager(session, query)\n",
      "\n",
      "print(manager.count)\n",
      "print(manager.min_timestamp)\n",
      "print(manager.max_timestamp)\n",
      "print(manager.remaining)"
     ],
     "language": "python",
     "metadata": {},
     "outputs": [
      {
       "output_type": "stream",
       "stream": "stdout",
       "text": [
        "14514\n",
        "2013-12-26T00:32:06+00:00"
       ]
      },
      {
       "output_type": "stream",
       "stream": "stdout",
       "text": [
        "\n",
        "2013-12-31T03:35:09+00:00"
       ]
      },
      {
       "output_type": "stream",
       "stream": "stdout",
       "text": [
        "\n",
        "446\n"
       ]
      }
     ],
     "prompt_number": 5
    },
    {
     "cell_type": "code",
     "collapsed": false,
     "input": [
      "manager.search()\n",
      "\n",
      "print(manager.num_tweets)\n",
      "print(manager.min_timestamp)\n",
      "print(manager.max_timestamp)\n",
      "print(manager.remaining)"
     ],
     "language": "python",
     "metadata": {},
     "outputs": [
      {
       "ename": "ValueError",
       "evalue": "Rate limit exceeded",
       "output_type": "pyerr",
       "traceback": [
        "\u001b[1;31m---------------------------------------------------------------------------\u001b[0m\n\u001b[1;31mValueError\u001b[0m                                Traceback (most recent call last)",
        "\u001b[1;32m<ipython-input-258-cddfa654df0b>\u001b[0m in \u001b[0;36m<module>\u001b[1;34m()\u001b[0m\n\u001b[1;32m----> 1\u001b[1;33m \u001b[0mmanager\u001b[0m\u001b[1;33m.\u001b[0m\u001b[0msearch\u001b[0m\u001b[1;33m(\u001b[0m\u001b[1;33m)\u001b[0m\u001b[1;33m\u001b[0m\u001b[0m\n\u001b[0m\u001b[0;32m      2\u001b[0m \u001b[1;33m\u001b[0m\u001b[0m\n\u001b[0;32m      3\u001b[0m \u001b[1;32mprint\u001b[0m\u001b[1;33m(\u001b[0m\u001b[0mmanager\u001b[0m\u001b[1;33m.\u001b[0m\u001b[0mnum_tweets\u001b[0m\u001b[1;33m)\u001b[0m\u001b[1;33m\u001b[0m\u001b[0m\n\u001b[0;32m      4\u001b[0m \u001b[1;32mprint\u001b[0m\u001b[1;33m(\u001b[0m\u001b[0mmanager\u001b[0m\u001b[1;33m.\u001b[0m\u001b[0mmin_timestamp\u001b[0m\u001b[1;33m)\u001b[0m\u001b[1;33m\u001b[0m\u001b[0m\n\u001b[0;32m      5\u001b[0m \u001b[1;32mprint\u001b[0m\u001b[1;33m(\u001b[0m\u001b[0mmanager\u001b[0m\u001b[1;33m.\u001b[0m\u001b[0mmax_timestamp\u001b[0m\u001b[1;33m)\u001b[0m\u001b[1;33m\u001b[0m\u001b[0m\n",
        "\u001b[1;32m/home/pierre/Projects/HackingForMovieTrends/twitter.py\u001b[0m in \u001b[0;36msearch\u001b[1;34m(self)\u001b[0m\n\u001b[0;32m    169\u001b[0m         \u001b[0mresult_type\u001b[0m \u001b[1;33m=\u001b[0m \u001b[1;34m'recent'\u001b[0m  \u001b[1;31m# 'recent' 'mixed'\u001b[0m\u001b[1;33m\u001b[0m\u001b[0m\n\u001b[0;32m    170\u001b[0m         \u001b[0mgen\u001b[0m \u001b[1;33m=\u001b[0m \u001b[0mself\u001b[0m\u001b[1;33m.\u001b[0m\u001b[0m_searcher\u001b[0m\u001b[1;33m.\u001b[0m\u001b[0mrun\u001b[0m\u001b[1;33m(\u001b[0m\u001b[0mself\u001b[0m\u001b[1;33m.\u001b[0m\u001b[0mquery\u001b[0m\u001b[1;33m,\u001b[0m \u001b[0mmax_id\u001b[0m\u001b[1;33m=\u001b[0m\u001b[0mself\u001b[0m\u001b[1;33m.\u001b[0m\u001b[0mmin_id\u001b[0m \u001b[1;33m-\u001b[0m \u001b[1;36m1\u001b[0m\u001b[1;33m,\u001b[0m \u001b[0mresult_type\u001b[0m\u001b[1;33m=\u001b[0m\u001b[0mresult_type\u001b[0m\u001b[1;33m)\u001b[0m\u001b[1;33m\u001b[0m\u001b[0m\n\u001b[1;32m--> 171\u001b[1;33m         \u001b[1;32mfor\u001b[0m \u001b[0mtw\u001b[0m \u001b[1;32min\u001b[0m \u001b[0mgen\u001b[0m\u001b[1;33m:\u001b[0m\u001b[1;33m\u001b[0m\u001b[0m\n\u001b[0m\u001b[0;32m    172\u001b[0m             \u001b[1;32mif\u001b[0m \u001b[1;32mnot\u001b[0m \u001b[0mtw\u001b[0m\u001b[1;33m.\u001b[0m\u001b[0mhas_url\u001b[0m\u001b[1;33m:\u001b[0m\u001b[1;33m\u001b[0m\u001b[0m\n\u001b[0;32m    173\u001b[0m                 \u001b[0mtw\u001b[0m\u001b[1;33m.\u001b[0m\u001b[0mto_file\u001b[0m\u001b[1;33m(\u001b[0m\u001b[0mpath\u001b[0m\u001b[1;33m=\u001b[0m\u001b[0mself\u001b[0m\u001b[1;33m.\u001b[0m\u001b[0mpath_tweets\u001b[0m\u001b[1;33m)\u001b[0m\u001b[1;33m\u001b[0m\u001b[0m\n",
        "\u001b[1;32m/home/pierre/Projects/HackingForMovieTrends/twitter.py\u001b[0m in \u001b[0;36mrun\u001b[1;34m(self, query, since_id, max_id, result_type, lang)\u001b[0m\n\u001b[0;32m    304\u001b[0m                 \u001b[0mtweets\u001b[0m \u001b[1;33m=\u001b[0m \u001b[0minfo_search\u001b[0m\u001b[1;33m[\u001b[0m\u001b[1;34m'statuses'\u001b[0m\u001b[1;33m]\u001b[0m\u001b[1;33m\u001b[0m\u001b[0m\n\u001b[0;32m    305\u001b[0m             \u001b[1;32mexcept\u001b[0m \u001b[0mKeyError\u001b[0m\u001b[1;33m:\u001b[0m\u001b[1;33m\u001b[0m\u001b[0m\n\u001b[1;32m--> 306\u001b[1;33m                 \u001b[1;32mraise\u001b[0m \u001b[0mValueError\u001b[0m\u001b[1;33m(\u001b[0m\u001b[0minfo_search\u001b[0m\u001b[1;33m[\u001b[0m\u001b[1;34m'errors'\u001b[0m\u001b[1;33m]\u001b[0m\u001b[1;33m[\u001b[0m\u001b[1;36m0\u001b[0m\u001b[1;33m]\u001b[0m\u001b[1;33m[\u001b[0m\u001b[1;34m'message'\u001b[0m\u001b[1;33m]\u001b[0m\u001b[1;33m)\u001b[0m\u001b[1;33m\u001b[0m\u001b[0m\n\u001b[0m\u001b[0;32m    307\u001b[0m \u001b[1;33m\u001b[0m\u001b[0m\n\u001b[0;32m    308\u001b[0m             \u001b[1;32mif\u001b[0m \u001b[0mlen\u001b[0m\u001b[1;33m(\u001b[0m\u001b[0mtweets\u001b[0m\u001b[1;33m)\u001b[0m \u001b[1;33m==\u001b[0m \u001b[1;36m0\u001b[0m\u001b[1;33m:\u001b[0m\u001b[1;33m\u001b[0m\u001b[0m\n",
        "\u001b[1;31mValueError\u001b[0m: Rate limit exceeded"
       ]
      }
     ],
     "prompt_number": 258
    },
    {
     "cell_type": "code",
     "collapsed": false,
     "input": [
      "manager.update()\n",
      "\n",
      "print(manager.num_tweets)\n",
      "print(manager.min_timestamp)\n",
      "print(manager.max_timestamp)\n",
      "print(manager.remaining)"
     ],
     "language": "python",
     "metadata": {},
     "outputs": [
      {
       "output_type": "stream",
       "stream": "stdout",
       "text": [
        "26373\n",
        "2013-12-23T14:07:57+00:00"
       ]
      },
      {
       "output_type": "stream",
       "stream": "stdout",
       "text": [
        "\n",
        "2013-12-31T03:18:20+00:00"
       ]
      },
      {
       "output_type": "stream",
       "stream": "stdout",
       "text": [
        "\n",
        "170\n"
       ]
      }
     ],
     "prompt_number": 240
    },
    {
     "cell_type": "code",
     "collapsed": false,
     "input": [
      "a=['a', 'b', 'b', 'c']"
     ],
     "language": "python",
     "metadata": {},
     "outputs": [],
     "prompt_number": 207
    },
    {
     "cell_type": "code",
     "collapsed": false,
     "input": [
      "b=set(a)"
     ],
     "language": "python",
     "metadata": {},
     "outputs": [],
     "prompt_number": 210
    },
    {
     "cell_type": "code",
     "collapsed": false,
     "input": [
      "c=list(b)"
     ],
     "language": "python",
     "metadata": {},
     "outputs": [],
     "prompt_number": 211
    },
    {
     "cell_type": "code",
     "collapsed": false,
     "input": [
      "b"
     ],
     "language": "python",
     "metadata": {},
     "outputs": [
      {
       "metadata": {},
       "output_type": "pyout",
       "prompt_number": 216,
       "text": [
        "{u'a', u'b', u'c'}"
       ]
      }
     ],
     "prompt_number": 216
    },
    {
     "cell_type": "code",
     "collapsed": false,
     "input": [
      "np.min(b)"
     ],
     "language": "python",
     "metadata": {},
     "outputs": [
      {
       "metadata": {},
       "output_type": "pyout",
       "prompt_number": 217,
       "text": [
        "{u'a', u'b', u'c'}"
       ]
      }
     ],
     "prompt_number": 217
    },
    {
     "cell_type": "code",
     "collapsed": false,
     "input": [
      "a=[1,2,3,4,4,4,5,6,7]\n",
      "b=set(a)"
     ],
     "language": "python",
     "metadata": {},
     "outputs": [],
     "prompt_number": 218
    },
    {
     "cell_type": "code",
     "collapsed": false,
     "input": [
      "b"
     ],
     "language": "python",
     "metadata": {},
     "outputs": [
      {
       "metadata": {},
       "output_type": "pyout",
       "prompt_number": 219,
       "text": [
        "{1, 2, 3, 4, 5, 6, 7}"
       ]
      }
     ],
     "prompt_number": 219
    },
    {
     "cell_type": "code",
     "collapsed": false,
     "input": [
      "len(b)"
     ],
     "language": "python",
     "metadata": {},
     "outputs": [
      {
       "metadata": {},
       "output_type": "pyout",
       "prompt_number": 220,
       "text": [
        "7"
       ]
      }
     ],
     "prompt_number": 220
    },
    {
     "cell_type": "code",
     "collapsed": false,
     "input": [
      "np.min(b[:])"
     ],
     "language": "python",
     "metadata": {},
     "outputs": [
      {
       "ename": "TypeError",
       "evalue": "'set' object has no attribute '__getitem__'",
       "output_type": "pyerr",
       "traceback": [
        "\u001b[1;31m---------------------------------------------------------------------------\u001b[0m\n\u001b[1;31mTypeError\u001b[0m                                 Traceback (most recent call last)",
        "\u001b[1;32m<ipython-input-223-596b80aeb909>\u001b[0m in \u001b[0;36m<module>\u001b[1;34m()\u001b[0m\n\u001b[1;32m----> 1\u001b[1;33m \u001b[0mnp\u001b[0m\u001b[1;33m.\u001b[0m\u001b[0mmin\u001b[0m\u001b[1;33m(\u001b[0m\u001b[0mb\u001b[0m\u001b[1;33m[\u001b[0m\u001b[1;33m:\u001b[0m\u001b[1;33m]\u001b[0m\u001b[1;33m)\u001b[0m\u001b[1;33m\u001b[0m\u001b[0m\n\u001b[0m",
        "\u001b[1;31mTypeError\u001b[0m: 'set' object has no attribute '__getitem__'"
       ]
      }
     ],
     "prompt_number": 223
    },
    {
     "cell_type": "code",
     "collapsed": false,
     "input": [
      "1 in b"
     ],
     "language": "python",
     "metadata": {},
     "outputs": [
      {
       "metadata": {},
       "output_type": "pyout",
       "prompt_number": 226,
       "text": [
        "True"
       ]
      }
     ],
     "prompt_number": 226
    },
    {
     "cell_type": "code",
     "collapsed": false,
     "input": [],
     "language": "python",
     "metadata": {},
     "outputs": []
    }
   ],
   "metadata": {}
  }
 ]
}