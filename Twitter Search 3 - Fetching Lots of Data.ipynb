{
 "metadata": {
  "name": ""
 },
 "nbformat": 3,
 "nbformat_minor": 0,
 "worksheets": [
  {
   "cells": [
    {
     "cell_type": "markdown",
     "metadata": {},
     "source": [
      "IPython keyboard shortcuts: http://ipython.org/ipython-doc/stable/interactive/notebook.html#keyboard-shortcuts\n"
     ]
    },
    {
     "cell_type": "code",
     "collapsed": false,
     "input": [
      "from __future__ import division, print_function, unicode_literals\n",
      "\n",
      "%matplotlib inline\n",
      "\n",
      "import os\n",
      "\n",
      "import IPython.display\n",
      "import numpy as np\n",
      "import utilities\n",
      "import arrow\n",
      "\n",
      "import twitter"
     ],
     "language": "python",
     "metadata": {},
     "outputs": [],
     "prompt_number": 1
    },
    {
     "cell_type": "code",
     "collapsed": false,
     "input": [
      "session = utilities.authenticate()\n",
      "\n",
      "path_query = os.path.join(os.path.curdir, 'tweets')\n",
      "\n",
      "# query = 'hobbit desolation smaug'\n",
      "# query = 'hobbit'\n",
      "# query = 'Anchorman 2 The Legend Continues'\n",
      "# query = 'Anchorman'\n",
      "query = 'Hunger Games'\n",
      "\n",
      "manager = twitter.Search_Manager(session, query, path_query)"
     ],
     "language": "python",
     "metadata": {},
     "outputs": [],
     "prompt_number": 26
    },
    {
     "cell_type": "code",
     "collapsed": false,
     "input": [
      "print('\\nStatus')\n",
      "print('------')\n",
      "print('client_id:  {:s}'.format(session.client_id.client_id))\n",
      "print('Limit:      {:d}'.format(manager.api_limit))\n",
      "print('Remaining:  {:d}'.format(manager.api_remaining))\n",
      "print('Minutes:  {:5.2f}'.format(manager.api_minutes))\n",
      "\n",
      "print()\n",
      "print('Count: {:d}'.format(manager.count))"
     ],
     "language": "python",
     "metadata": {},
     "outputs": [
      {
       "output_type": "stream",
       "stream": "stdout",
       "text": [
        "\n",
        "Status\n",
        "------\n",
        "client_id:  JxUV7dXAvXigyxyWafOGUA\n",
        "Limit:      450\n",
        "Remaining:  130\n",
        "Minutes:   1.02\n",
        "\n",
        "Count: 240047\n"
       ]
      }
     ],
     "prompt_number": 27
    },
    {
     "cell_type": "code",
     "collapsed": false,
     "input": [
      "manager.search_continuous()"
     ],
     "language": "python",
     "metadata": {},
     "outputs": [
      {
       "output_type": "stream",
       "stream": "stdout",
       "text": [
        "\n",
        "Count: 240047\n",
        "Search ended."
       ]
      },
      {
       "output_type": "stream",
       "stream": "stdout",
       "text": [
        "\n"
       ]
      }
     ],
     "prompt_number": 28
    },
    {
     "cell_type": "code",
     "collapsed": false,
     "input": [
      "print('\\nStatus')\n",
      "print('------')\n",
      "print('client_id:  {:s}'.format(session.client_id.client_id))\n",
      "print('Limit:      {:d}'.format(manager.api_limit))\n",
      "print('Remaining:  {:d}'.format(manager.api_remaining))\n",
      "print('Minutes:  {:5.2f}'.format(manager.api_minutes))\n",
      "\n",
      "print()\n",
      "print('Count: {:d}'.format(manager.count))"
     ],
     "language": "python",
     "metadata": {},
     "outputs": [
      {
       "output_type": "stream",
       "stream": "stdout",
       "text": [
        "\n",
        "Status\n",
        "------\n",
        "client_id:  JxUV7dXAvXigyxyWafOGUA\n",
        "Limit:      450\n",
        "Remaining:  122\n",
        "Minutes:   0.86\n",
        "\n",
        "Count: 240558\n"
       ]
      }
     ],
     "prompt_number": 29
    },
    {
     "cell_type": "code",
     "collapsed": false,
     "input": [],
     "language": "python",
     "metadata": {},
     "outputs": [
      {
       "metadata": {},
       "output_type": "pyout",
       "prompt_number": 30,
       "text": [
        "u'Hunger Games'"
       ]
      }
     ],
     "prompt_number": 30
    },
    {
     "cell_type": "code",
     "collapsed": false,
     "input": [],
     "language": "python",
     "metadata": {},
     "outputs": []
    }
   ],
   "metadata": {}
  }
 ]
}