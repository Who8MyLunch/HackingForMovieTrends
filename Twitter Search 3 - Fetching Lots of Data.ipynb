{
 "metadata": {
  "name": ""
 },
 "nbformat": 3,
 "nbformat_minor": 0,
 "worksheets": [
  {
   "cells": [
    {
     "cell_type": "markdown",
     "metadata": {},
     "source": [
      "IPython keyboard shortcuts: http://ipython.org/ipython-doc/stable/interactive/notebook.html#keyboard-shortcuts\n"
     ]
    },
    {
     "cell_type": "code",
     "collapsed": false,
     "input": [
      "from __future__ import division, print_function, unicode_literals\n",
      "\n",
      "%matplotlib inline\n",
      "\n",
      "import os\n",
      "\n",
      "import IPython.display\n",
      "import numpy as np\n",
      "import utilities\n",
      "import arrow\n",
      "\n",
      "import twitter"
     ],
     "language": "python",
     "metadata": {},
     "outputs": [],
     "prompt_number": 1
    },
    {
     "cell_type": "code",
     "collapsed": false,
     "input": [
      "session = utilities.authenticate()\n",
      "\n",
      "path_query = os.path.join(os.path.curdir, 'tweets')\n",
      "\n",
      "# query = 'hobbit desolation smaug'\n",
      "query = 'hobbit'\n",
      "# query = 'Anchorman 2 The Legend Continues'\n",
      "# query = 'Anchorman'\n",
      "# query = 'Hunger Games'\n",
      "\n",
      "manager = twitter.Search_Manager(session, query, path_query)"
     ],
     "language": "python",
     "metadata": {},
     "outputs": [],
     "prompt_number": 5
    },
    {
     "cell_type": "code",
     "collapsed": false,
     "input": [
      "print('\\nStatus')\n",
      "print('------')\n",
      "print('client_id:  {:s}'.format(session.client_id.client_id))\n",
      "print('Limit:      {:d}'.format(manager.api_limit))\n",
      "print('Remaining:  {:d}'.format(manager.api_remaining))\n",
      "print('Minutes:  {:5.2f}'.format(manager.api_minutes))\n",
      "\n",
      "print()\n",
      "print('Count: {:d}'.format(manager.count))"
     ],
     "language": "python",
     "metadata": {},
     "outputs": [
      {
       "output_type": "stream",
       "stream": "stdout",
       "text": [
        "\n",
        "Status\n",
        "------\n",
        "client_id:  JxUV7dXAvXigyxyWafOGUA\n",
        "Limit:      450\n",
        "Remaining:  450\n",
        "Minutes:  14.76\n",
        "\n",
        "Count: 55306"
       ]
      },
      {
       "output_type": "stream",
       "stream": "stdout",
       "text": [
        "\n"
       ]
      }
     ],
     "prompt_number": 6
    },
    {
     "cell_type": "code",
     "collapsed": false,
     "input": [
      "manager.search_continuous()"
     ],
     "language": "python",
     "metadata": {},
     "outputs": [
      {
       "output_type": "stream",
       "stream": "stdout",
       "text": [
        "count: 55306\n",
        "Network something what??"
       ]
      },
      {
       "output_type": "stream",
       "stream": "stdout",
       "text": [
        "\n",
        "Waiting:  0:30.0\n",
        "Count: 69976\n",
        "\n",
        "count: 69976"
       ]
      },
      {
       "output_type": "stream",
       "stream": "stdout",
       "text": [
        "\n",
        "count: 69976\n",
        "API rate limit"
       ]
      },
      {
       "output_type": "stream",
       "stream": "stdout",
       "text": [
        "\n",
        "Waiting:  7:9.404774\n",
        "Count: 99899\n",
        "\n",
        "count: 99899"
       ]
      },
      {
       "output_type": "stream",
       "stream": "stdout",
       "text": [
        "\n",
        "count: 99899\n",
        "API rate limit"
       ]
      },
      {
       "output_type": "stream",
       "stream": "stdout",
       "text": [
        "\n",
        "Waiting:  0:0.0\n",
        "Count: 99899\n",
        "\n",
        "count: 99899\n",
        "count: 99899\n",
        "API rate limit"
       ]
      },
      {
       "output_type": "stream",
       "stream": "stdout",
       "text": [
        "\n",
        "Waiting:  0:0.0\n",
        "Count: 99899\n",
        "\n",
        "count: 99899\n",
        "count: 99899\n",
        "API rate limit"
       ]
      },
      {
       "output_type": "stream",
       "stream": "stdout",
       "text": [
        "\n",
        "Waiting:  0:0.0\n",
        "Count: 99899\n",
        "\n",
        "count: 99899\n",
        "count: 99899\n",
        "API rate limit"
       ]
      },
      {
       "output_type": "stream",
       "stream": "stdout",
       "text": [
        "\n",
        "Waiting:  0:0.0\n",
        "Count: 99899\n",
        "\n",
        "count: 99899\n",
        "count: 99899\n",
        "API rate limit"
       ]
      },
      {
       "output_type": "stream",
       "stream": "stdout",
       "text": [
        "\n",
        "Waiting:  0:0.0\n",
        "Count: 99899\n",
        "\n",
        "count: 99899\n",
        "count: 99899\n",
        "API rate limit"
       ]
      },
      {
       "output_type": "stream",
       "stream": "stdout",
       "text": [
        "\n",
        "Waiting:  0:0.0\n",
        "Count: 99899\n",
        "\n",
        "count: 99899\n",
        "count: 99899\n",
        "API rate limit"
       ]
      },
      {
       "output_type": "stream",
       "stream": "stdout",
       "text": [
        "\n",
        "Waiting:  0:0.0\n",
        "Count: 99899\n",
        "\n",
        "count: 99899\n",
        "count: 99899\n",
        "API rate limit"
       ]
      },
      {
       "output_type": "stream",
       "stream": "stdout",
       "text": [
        "\n",
        "Waiting:  0:0.0\n",
        "Count: 99899\n",
        "\n",
        "count: 99899\n",
        "count: 99899\n",
        "API rate limit"
       ]
      },
      {
       "output_type": "stream",
       "stream": "stdout",
       "text": [
        "\n",
        "Waiting:  0:0.0\n",
        "Count: 99899\n",
        "\n",
        "count: 99899\n",
        "count: 99899\n",
        "API rate limit"
       ]
      },
      {
       "output_type": "stream",
       "stream": "stdout",
       "text": [
        "\n",
        "Waiting:  0:0.0\n",
        "Count: 99899\n",
        "\n",
        "count: 99899\n",
        "count: 99899\n",
        "API rate limit"
       ]
      },
      {
       "output_type": "stream",
       "stream": "stdout",
       "text": [
        "\n",
        "Waiting:  0:0.0\n",
        "Count: 99899\n",
        "\n",
        "count: 99899\n",
        "count: 99899\n",
        "API rate limit"
       ]
      },
      {
       "output_type": "stream",
       "stream": "stdout",
       "text": [
        "\n",
        "Waiting:  0:0.0\n",
        "Count: 99899\n",
        "\n",
        "count: 99899\n",
        "count: 99899\n",
        "API rate limit"
       ]
      },
      {
       "output_type": "stream",
       "stream": "stdout",
       "text": [
        "\n",
        "Waiting:  0:0.0\n",
        "Count: 99899\n",
        "\n",
        "count: 99899\n",
        "count: 99899\n",
        "API rate limit"
       ]
      },
      {
       "output_type": "stream",
       "stream": "stdout",
       "text": [
        "\n",
        "Waiting:  0:0.0\n",
        "Count: 99899\n",
        "\n",
        "count: 99899\n",
        "count: 99899\n",
        "API rate limit"
       ]
      },
      {
       "output_type": "stream",
       "stream": "stdout",
       "text": [
        "\n",
        "Waiting:  0:0.0\n",
        "Count: 99899\n",
        "\n",
        "count: 99899\n",
        "count: 99899\n",
        "API rate limit"
       ]
      },
      {
       "output_type": "stream",
       "stream": "stdout",
       "text": [
        "\n",
        "Waiting:  0:0.0\n",
        "Count: 99899\n",
        "\n",
        "count: 99899\n",
        "count: 99899\n",
        "API rate limit"
       ]
      },
      {
       "output_type": "stream",
       "stream": "stdout",
       "text": [
        "\n",
        "Waiting:  0:0.0\n",
        "Count: 99899\n",
        "\n",
        "count: 99899\n",
        "count: 99899\n",
        "API rate limit"
       ]
      },
      {
       "output_type": "stream",
       "stream": "stdout",
       "text": [
        "\n",
        "Waiting:  0:0.0\n",
        "Count: 99899\n",
        "\n",
        "count: 99899\n",
        "count: 99899\n",
        "API rate limit"
       ]
      },
      {
       "output_type": "stream",
       "stream": "stdout",
       "text": [
        "\n",
        "Waiting:  0:0.0\n",
        "Count: 99899\n",
        "\n",
        "count: 99899\n",
        "count: 99899\n",
        "API rate limit"
       ]
      },
      {
       "output_type": "stream",
       "stream": "stdout",
       "text": [
        "\n",
        "Waiting:  0:0.0\n",
        "Count: 99899\n",
        "\n",
        "count: 99899\n",
        "count: 99899\n",
        "API rate limit"
       ]
      },
      {
       "output_type": "stream",
       "stream": "stdout",
       "text": [
        "\n",
        "Waiting:  0:0.0\n",
        "Count: 99899\n",
        "\n",
        "count: 99899\n",
        "count: 99899\n",
        "API rate limit"
       ]
      },
      {
       "output_type": "stream",
       "stream": "stdout",
       "text": [
        "\n",
        "Waiting:  0:0.0\n",
        "Count: 99899\n",
        "\n",
        "count: 99899\n",
        "count: 99899\n",
        "API rate limit"
       ]
      },
      {
       "output_type": "stream",
       "stream": "stdout",
       "text": [
        "\n",
        "Waiting:  0:0.0\n",
        "Count: 99899\n",
        "\n",
        "count: 99899\n",
        "count: 99899\n",
        "API rate limit"
       ]
      },
      {
       "output_type": "stream",
       "stream": "stdout",
       "text": [
        "\n",
        "Waiting:  0:0.0\n",
        "Count: 99899\n",
        "\n",
        "count: 99899\n",
        "count: 99899\n",
        "API rate limit"
       ]
      },
      {
       "output_type": "stream",
       "stream": "stdout",
       "text": [
        "\n",
        "Waiting:  0:0.0\n",
        "Count: 99899\n",
        "\n",
        "count: 99899\n",
        "count: 99899\n",
        "API rate limit"
       ]
      },
      {
       "output_type": "stream",
       "stream": "stdout",
       "text": [
        "\n",
        "Waiting:  0:0.0\n",
        "Count: 99899\n",
        "\n",
        "count: 99899\n",
        "count: 99899\n",
        "API rate limit"
       ]
      },
      {
       "output_type": "stream",
       "stream": "stdout",
       "text": [
        "\n",
        "Waiting:  0:0.0\n",
        "Count: 99899\n",
        "\n",
        "count: 99899\n",
        "count: 99899\n",
        "API rate limit"
       ]
      },
      {
       "output_type": "stream",
       "stream": "stdout",
       "text": [
        "\n",
        "Waiting:  0:0.0\n",
        "Count: 99899\n",
        "\n",
        "count: 99899\n",
        "count: 99899\n",
        "API rate limit"
       ]
      },
      {
       "output_type": "stream",
       "stream": "stdout",
       "text": [
        "\n",
        "Waiting:  0:0.0\n",
        "Count: 99899\n",
        "\n",
        "count: 99899\n",
        "count: 99899\n",
        "API rate limit"
       ]
      },
      {
       "output_type": "stream",
       "stream": "stdout",
       "text": [
        "\n",
        "Waiting:  0:0.0\n",
        "Count: 99899\n",
        "\n",
        "count: 99899\n",
        "count: 99899\n",
        "API rate limit"
       ]
      },
      {
       "output_type": "stream",
       "stream": "stdout",
       "text": [
        "\n",
        "Waiting:  0:0.0\n",
        "Count: 99899\n",
        "\n",
        "count: 99899\n",
        "count: 99899\n",
        "API rate limit"
       ]
      },
      {
       "output_type": "stream",
       "stream": "stdout",
       "text": [
        "\n",
        "Waiting:  0:0.0\n",
        "Count: 99899\n",
        "\n",
        "count: 99899\n",
        "count: 99899\n",
        "API rate limit"
       ]
      },
      {
       "output_type": "stream",
       "stream": "stdout",
       "text": [
        "\n",
        "Waiting:  0:0.0\n",
        "Count: 99899\n",
        "\n",
        "count: 99899\n",
        "count: 99899\n",
        "API rate limit"
       ]
      },
      {
       "output_type": "stream",
       "stream": "stdout",
       "text": [
        "\n",
        "Waiting:  0:0.0\n",
        "Count: 99899\n",
        "\n",
        "count: 99899\n",
        "count: 99899\n",
        "API rate limit"
       ]
      },
      {
       "output_type": "stream",
       "stream": "stdout",
       "text": [
        "\n",
        "Waiting:  0:0.0\n",
        "Count: 99899\n",
        "\n",
        "count: 99899\n",
        "count: 99899\n",
        "API rate limit"
       ]
      },
      {
       "output_type": "stream",
       "stream": "stdout",
       "text": [
        "\n",
        "Waiting:  0:0.0\n",
        "Count: 99899\n",
        "\n",
        "count: 99899\n",
        "count: 99899\n",
        "API rate limit"
       ]
      },
      {
       "output_type": "stream",
       "stream": "stdout",
       "text": [
        "\n",
        "Waiting:  0:0.0\n",
        "Count: 99899\n",
        "\n",
        "count: 99899\n",
        "count: 99899\n",
        "API rate limit"
       ]
      },
      {
       "output_type": "stream",
       "stream": "stdout",
       "text": [
        "\n",
        "Waiting:  0:0.0\n",
        "Count: 99899\n",
        "\n",
        "count: 99899\n",
        "count: 99899\n",
        "API rate limit"
       ]
      },
      {
       "output_type": "stream",
       "stream": "stdout",
       "text": [
        "\n",
        "Waiting:  0:0.0\n",
        "Count: 99899\n",
        "\n",
        "count: 99899\n",
        "count: 99899\n",
        "API rate limit"
       ]
      },
      {
       "output_type": "stream",
       "stream": "stdout",
       "text": [
        "\n",
        "Waiting:  0:0.0\n",
        "Count: 99899\n",
        "\n",
        "count: 99899\n",
        "count: 99899\n",
        "API rate limit"
       ]
      },
      {
       "output_type": "stream",
       "stream": "stdout",
       "text": [
        "\n",
        "Waiting:  0:0.0\n",
        "Count: 99899\n",
        "\n",
        "count: 99899\n",
        "count: 99899\n",
        "API rate limit"
       ]
      },
      {
       "output_type": "stream",
       "stream": "stdout",
       "text": [
        "\n",
        "Waiting:  0:0.0\n",
        "Count: 99899\n",
        "\n",
        "count: 99899\n",
        "count: 99899\n",
        "API rate limit"
       ]
      },
      {
       "output_type": "stream",
       "stream": "stdout",
       "text": [
        "\n",
        "Waiting:  0:0.0\n",
        "Count: 99899\n",
        "\n",
        "count: 99899\n",
        "count: 99899\n",
        "API rate limit"
       ]
      },
      {
       "output_type": "stream",
       "stream": "stdout",
       "text": [
        "\n",
        "Waiting:  0:0.0\n",
        "Count: 99899\n",
        "\n",
        "count: 99899\n",
        "count: 99899\n",
        "API rate limit"
       ]
      },
      {
       "output_type": "stream",
       "stream": "stdout",
       "text": [
        "\n",
        "Waiting:  0:0.0\n",
        "Count: 99899\n",
        "\n",
        "count: 99899\n",
        "count: 99899\n",
        "API rate limit"
       ]
      },
      {
       "output_type": "stream",
       "stream": "stdout",
       "text": [
        "\n",
        "Waiting:  0:0.0\n",
        "Count: 99899\n",
        "\n",
        "count: 99899\n",
        "count: 99899\n",
        "API rate limit"
       ]
      },
      {
       "output_type": "stream",
       "stream": "stdout",
       "text": [
        "\n",
        "Waiting:  0:0.0\n",
        "Count: 99899\n",
        "\n",
        "count: 99899\n",
        "count: 99899\n",
        "API rate limit"
       ]
      },
      {
       "output_type": "stream",
       "stream": "stdout",
       "text": [
        "\n",
        "Waiting:  0:0.0\n",
        "Count: 99899\n",
        "\n",
        "count: 99899\n",
        "count: 99899\n",
        "API rate limit"
       ]
      },
      {
       "output_type": "stream",
       "stream": "stdout",
       "text": [
        "\n",
        "Waiting:  0:0.0\n",
        "Count: 99899\n",
        "\n",
        "count: 99899\n",
        "count: 99899\n",
        "API rate limit"
       ]
      },
      {
       "output_type": "stream",
       "stream": "stdout",
       "text": [
        "\n",
        "Waiting:  0:0.0\n",
        "Count: 99899\n",
        "\n",
        "count: 99899\n",
        "count: 99899\n",
        "API rate limit"
       ]
      },
      {
       "output_type": "stream",
       "stream": "stdout",
       "text": [
        "\n",
        "Waiting:  0:0.0\n",
        "Count: 99899\n",
        "\n",
        "count: 99899\n",
        "count: 99899\n",
        "API rate limit"
       ]
      },
      {
       "output_type": "stream",
       "stream": "stdout",
       "text": [
        "\n",
        "Waiting:  0:0.0\n",
        "Count: 99899\n",
        "\n",
        "count: 99899\n",
        "count: 99899\n",
        "API rate limit"
       ]
      },
      {
       "output_type": "stream",
       "stream": "stdout",
       "text": [
        "\n",
        "Waiting:  0:0.0\n",
        "Count: 99899\n",
        "\n",
        "count: 99899\n",
        "count: 99899\n",
        "API rate limit"
       ]
      },
      {
       "output_type": "stream",
       "stream": "stdout",
       "text": [
        "\n",
        "Waiting:  0:0.0\n",
        "Count: 99899\n",
        "\n",
        "count: 99899\n",
        "count: 99899\n",
        "API rate limit"
       ]
      },
      {
       "output_type": "stream",
       "stream": "stdout",
       "text": [
        "\n",
        "Waiting:  0:0.0\n",
        "Count: 99899\n",
        "\n",
        "count: 99899\n",
        "count: 99899\n",
        "API rate limit"
       ]
      },
      {
       "output_type": "stream",
       "stream": "stdout",
       "text": [
        "\n",
        "Waiting:  0:0.0\n",
        "Count: 99899\n",
        "\n",
        "count: 99899\n",
        "count: 99899\n",
        "API rate limit"
       ]
      },
      {
       "output_type": "stream",
       "stream": "stdout",
       "text": [
        "\n",
        "Waiting:  0:0.0\n",
        "Count: 99899\n",
        "\n",
        "count: 99899\n",
        "count: 99899\n",
        "API rate limit"
       ]
      },
      {
       "output_type": "stream",
       "stream": "stdout",
       "text": [
        "\n",
        "Waiting:  0:0.0\n",
        "Count: 99899\n",
        "\n",
        "count: 99899\n",
        "count: 99899\n",
        "API rate limit"
       ]
      },
      {
       "output_type": "stream",
       "stream": "stdout",
       "text": [
        "\n",
        "Waiting:  0:0.0\n",
        "Count: 99899\n",
        "\n",
        "count: 99899\n",
        "count: 99899\n",
        "API rate limit"
       ]
      },
      {
       "output_type": "stream",
       "stream": "stdout",
       "text": [
        "\n",
        "Waiting:  0:0.0\n",
        "Count: 99899\n",
        "\n",
        "count: 99899\n",
        "count: 99899\n",
        "API rate limit"
       ]
      },
      {
       "output_type": "stream",
       "stream": "stdout",
       "text": [
        "\n",
        "Waiting:  0:0.0\n",
        "Count: 99899\n",
        "\n",
        "count: 99899\n",
        "count: 99899\n",
        "API rate limit"
       ]
      },
      {
       "output_type": "stream",
       "stream": "stdout",
       "text": [
        "\n",
        "Waiting:  0:0.0\n",
        "Count: 99899\n",
        "\n",
        "count: 99899\n",
        "count: 99899\n",
        "API rate limit"
       ]
      },
      {
       "output_type": "stream",
       "stream": "stdout",
       "text": [
        "\n",
        "Waiting:  0:0.0\n",
        "Count: 99899\n",
        "\n",
        "count: 99899\n",
        "count: 99899\n",
        "API rate limit"
       ]
      },
      {
       "output_type": "stream",
       "stream": "stdout",
       "text": [
        "\n",
        "Waiting:  0:0.0\n",
        "Count: 99899\n",
        "\n",
        "count: 99899\n",
        "count: 99899\n",
        "API rate limit"
       ]
      },
      {
       "output_type": "stream",
       "stream": "stdout",
       "text": [
        "\n",
        "Waiting:  0:0.0\n",
        "Count: 99899\n",
        "\n",
        "count: 99899\n",
        "count: 99899\n",
        "API rate limit"
       ]
      },
      {
       "output_type": "stream",
       "stream": "stdout",
       "text": [
        "\n",
        "Waiting:  0:0.0\n",
        "Count: 99899\n",
        "\n",
        "count: 99899\n",
        "count: 99899\n",
        "API rate limit\n",
        "Waiting:  0:0.0\n",
        "Count: 99899\n",
        "\n",
        "count: 99899\n",
        "count: 99899\n",
        "API rate limit"
       ]
      },
      {
       "output_type": "stream",
       "stream": "stdout",
       "text": [
        "\n",
        "Waiting:  0:0.0\n",
        "Count: 99899\n",
        "\n",
        "count: 99899\n",
        "count: 99899\n",
        "API rate limit"
       ]
      },
      {
       "output_type": "stream",
       "stream": "stdout",
       "text": [
        "\n",
        "Waiting:  0:0.0\n",
        "Count: 99899\n",
        "\n",
        "count: 99899\n",
        "count: 99899\n",
        "API rate limit"
       ]
      },
      {
       "output_type": "stream",
       "stream": "stdout",
       "text": [
        "\n",
        "Waiting:  0:0.0\n",
        "Count: 99899\n",
        "\n",
        "count: 99899\n",
        "count: 99899\n",
        "API rate limit"
       ]
      },
      {
       "output_type": "stream",
       "stream": "stdout",
       "text": [
        "\n",
        "Waiting:  0:0.0\n",
        "Count: 99899\n",
        "\n",
        "count: 99899\n",
        "count: 99899\n",
        "API rate limit"
       ]
      },
      {
       "output_type": "stream",
       "stream": "stdout",
       "text": [
        "\n",
        "Waiting:  0:0.0\n",
        "Count: 99899\n",
        "\n",
        "count: 99899\n",
        "count: 99899\n",
        "API rate limit"
       ]
      },
      {
       "output_type": "stream",
       "stream": "stdout",
       "text": [
        "\n",
        "Waiting:  0:0.0\n",
        "Count: 99899\n",
        "\n",
        "count: 99899\n",
        "count: 99899\n",
        "API rate limit"
       ]
      },
      {
       "output_type": "stream",
       "stream": "stdout",
       "text": [
        "\n",
        "Waiting:  0:0.0\n",
        "Count: 99899\n",
        "\n",
        "count: 99899\n",
        "count: 99899\n",
        "API rate limit"
       ]
      },
      {
       "output_type": "stream",
       "stream": "stdout",
       "text": [
        "\n",
        "Waiting:  0:0.0\n",
        "Count: 99899\n",
        "\n",
        "count: 99899\n",
        "count: 99899\n",
        "API rate limit"
       ]
      },
      {
       "output_type": "stream",
       "stream": "stdout",
       "text": [
        "\n",
        "Waiting:  0:0.0\n",
        "Count: 99899\n",
        "\n",
        "count: 99899\n",
        "count: 99899\n",
        "API rate limit"
       ]
      },
      {
       "output_type": "stream",
       "stream": "stdout",
       "text": [
        "\n",
        "Waiting:  0:0.0\n",
        "Count: 99899\n",
        "\n",
        "count: 99899\n",
        "count: 99899\n",
        "API rate limit"
       ]
      },
      {
       "output_type": "stream",
       "stream": "stdout",
       "text": [
        "\n",
        "Waiting:  0:0.0\n",
        "Count: 99899\n",
        "\n",
        "count: 99899\n",
        "count: 99899\n",
        "API rate limit"
       ]
      },
      {
       "output_type": "stream",
       "stream": "stdout",
       "text": [
        "\n",
        "Waiting:  0:0.0\n",
        "Count: 99899\n",
        "\n",
        "count: 99899\n",
        "count: 99899\n",
        "API rate limit"
       ]
      },
      {
       "output_type": "stream",
       "stream": "stdout",
       "text": [
        "\n",
        "Waiting:  0:0.0\n",
        "Count: 99899\n",
        "\n",
        "count: 99899\n",
        "count: 99899\n",
        "API rate limit"
       ]
      },
      {
       "output_type": "stream",
       "stream": "stdout",
       "text": [
        "\n",
        "Waiting:  0:0.0\n",
        "Count: 99899\n",
        "\n",
        "count: 99899\n",
        "count: 99899\n",
        "API rate limit"
       ]
      },
      {
       "output_type": "stream",
       "stream": "stdout",
       "text": [
        "\n",
        "Waiting:  0:0.0\n",
        "Count: 99899\n",
        "\n",
        "count: 99899\n",
        "count: 99899\n",
        "API rate limit"
       ]
      },
      {
       "output_type": "stream",
       "stream": "stdout",
       "text": [
        "\n",
        "Waiting:  0:0.0\n",
        "Count: 99899\n",
        "\n",
        "count: 99899\n",
        "count: 99899\n",
        "API rate limit"
       ]
      },
      {
       "output_type": "stream",
       "stream": "stdout",
       "text": [
        "\n",
        "Waiting:  0:0.0\n",
        "Count: 99899\n",
        "\n",
        "count: 99899\n",
        "count: 99899\n",
        "API rate limit"
       ]
      },
      {
       "output_type": "stream",
       "stream": "stdout",
       "text": [
        "\n",
        "Waiting:  0:0.0\n",
        "Count: 99899\n",
        "\n",
        "count: 99899\n",
        "count: 99899\n",
        "API rate limit"
       ]
      },
      {
       "output_type": "stream",
       "stream": "stdout",
       "text": [
        "\n",
        "Waiting:  0:0.0\n",
        "Count: 99899\n",
        "\n",
        "count: 99899\n",
        "count: 99899\n",
        "API rate limit"
       ]
      },
      {
       "output_type": "stream",
       "stream": "stdout",
       "text": [
        "\n",
        "Waiting:  0:0.0\n",
        "Count: 99899\n",
        "\n",
        "count: 99899\n",
        "count: 99899\n",
        "API rate limit"
       ]
      },
      {
       "output_type": "stream",
       "stream": "stdout",
       "text": [
        "\n",
        "Waiting:  0:0.0\n",
        "Count: 99899\n",
        "\n",
        "count: 99899\n",
        "count: 99899\n",
        "API rate limit"
       ]
      },
      {
       "output_type": "stream",
       "stream": "stdout",
       "text": [
        "\n",
        "Waiting:  0:0.0\n",
        "Count: 99899\n",
        "\n",
        "count: 99899\n",
        "count: 99899\n",
        "API rate limit"
       ]
      },
      {
       "output_type": "stream",
       "stream": "stdout",
       "text": [
        "\n",
        "Waiting:  0:0.0\n",
        "Count: 99899\n",
        "\n",
        "count: 99899\n",
        "count: 99899\n",
        "API rate limit"
       ]
      },
      {
       "output_type": "stream",
       "stream": "stdout",
       "text": [
        "\n",
        "Waiting:  0:0.0\n",
        "Count: 99899\n",
        "\n",
        "count: 99899\n",
        "count: 99899\n",
        "API rate limit"
       ]
      },
      {
       "output_type": "stream",
       "stream": "stdout",
       "text": [
        "\n",
        "Waiting:  0:0.0\n",
        "Count: 99899\n",
        "\n",
        "count: 99899\n",
        "count: 99899\n",
        "API rate limit"
       ]
      },
      {
       "output_type": "stream",
       "stream": "stdout",
       "text": [
        "\n",
        "Waiting:  0:0.0\n",
        "Count: 99899\n",
        "\n",
        "count: 99899\n",
        "count: 99899\n",
        "API rate limit"
       ]
      },
      {
       "output_type": "stream",
       "stream": "stdout",
       "text": [
        "\n",
        "Waiting:  0:0.0\n",
        "Count: 99899\n",
        "\n",
        "count: 99899\n",
        "count: 99899\n",
        "API rate limit"
       ]
      },
      {
       "output_type": "stream",
       "stream": "stdout",
       "text": [
        "\n",
        "Waiting:  0:0.0\n",
        "Count: 99899\n",
        "\n",
        "count: 99899\n",
        "count: 99899\n",
        "API rate limit"
       ]
      },
      {
       "output_type": "stream",
       "stream": "stdout",
       "text": [
        "\n",
        "Waiting:  0:0.0\n",
        "Count: 99899\n",
        "\n",
        "count: 99899\n",
        "count: 99899\n",
        "API rate limit"
       ]
      },
      {
       "output_type": "stream",
       "stream": "stdout",
       "text": [
        "\n",
        "Waiting:  0:0.0\n",
        "Count: 99899\n",
        "\n",
        "count: 99899\n",
        "count: 99899\n",
        "API rate limit"
       ]
      },
      {
       "output_type": "stream",
       "stream": "stdout",
       "text": [
        "\n",
        "Waiting:  0:0.0\n",
        "Count: 99899\n",
        "\n",
        "count: 99899\n",
        "count: 99899\n",
        "API rate limit"
       ]
      },
      {
       "output_type": "stream",
       "stream": "stdout",
       "text": [
        "\n",
        "Waiting:  0:0.0\n",
        "Count: 99899\n",
        "\n",
        "count: 99899\n",
        "count: 99899\n",
        "API rate limit"
       ]
      },
      {
       "output_type": "stream",
       "stream": "stdout",
       "text": [
        "\n",
        "Waiting:  0:0.0\n",
        "Count: 99899\n",
        "\n",
        "count: 99899\n",
        "count: 99899\n",
        "API rate limit"
       ]
      },
      {
       "output_type": "stream",
       "stream": "stdout",
       "text": [
        "\n",
        "Waiting:  0:0.0\n",
        "Count: 99899\n",
        "\n",
        "count: 99899\n",
        "count: 99899\n",
        "API rate limit"
       ]
      },
      {
       "output_type": "stream",
       "stream": "stdout",
       "text": [
        "\n",
        "Waiting:  0:0.0\n",
        "Count: 99899\n",
        "\n",
        "count: 99899\n",
        "count: 99899\n",
        "API rate limit"
       ]
      },
      {
       "output_type": "stream",
       "stream": "stdout",
       "text": [
        "\n",
        "Waiting:  0:0.0\n",
        "Count: 99899\n",
        "\n",
        "count: 99899\n",
        "count: 99899\n",
        "API rate limit"
       ]
      },
      {
       "output_type": "stream",
       "stream": "stdout",
       "text": [
        "\n",
        "Waiting:  0:0.0\n",
        "Count: 99899\n",
        "\n",
        "count: 99899\n",
        "count: 99899\n",
        "API rate limit"
       ]
      },
      {
       "output_type": "stream",
       "stream": "stdout",
       "text": [
        "\n",
        "Waiting:  0:0.0\n",
        "Count: 99899\n",
        "\n",
        "count: 99899\n",
        "count: 99899\n",
        "API rate limit"
       ]
      },
      {
       "output_type": "stream",
       "stream": "stdout",
       "text": [
        "\n",
        "Waiting:  0:0.0\n",
        "Count: 99899\n",
        "\n",
        "count: 99899\n",
        "count: 99899\n",
        "API rate limit"
       ]
      },
      {
       "output_type": "stream",
       "stream": "stdout",
       "text": [
        "\n",
        "Waiting:  0:0.0\n",
        "Count: 99899\n",
        "\n",
        "count: 99899\n",
        "count: 99899\n",
        "API rate limit"
       ]
      },
      {
       "output_type": "stream",
       "stream": "stdout",
       "text": [
        "\n",
        "Waiting:  0:0.0\n",
        "Count: 99899\n",
        "\n",
        "count: 99899\n",
        "count: 99899\n",
        "API rate limit"
       ]
      },
      {
       "output_type": "stream",
       "stream": "stdout",
       "text": [
        "\n",
        "Waiting:  0:0.0\n",
        "Count: 99899\n",
        "\n",
        "count: 99899\n",
        "count: 99899\n",
        "API rate limit"
       ]
      },
      {
       "output_type": "stream",
       "stream": "stdout",
       "text": [
        "\n",
        "Waiting:  0:0.0\n",
        "Count: 99899\n",
        "\n",
        "count: 99899\n",
        "count: 99899\n",
        "API rate limit"
       ]
      },
      {
       "output_type": "stream",
       "stream": "stdout",
       "text": [
        "\n",
        "Waiting:  0:0.0\n",
        "Count: 99899\n",
        "\n",
        "count: 99899\n",
        "count: 99899\n",
        "API rate limit"
       ]
      },
      {
       "output_type": "stream",
       "stream": "stdout",
       "text": [
        "\n",
        "Waiting:  0:0.0\n",
        "Count: 99899\n",
        "\n",
        "count: 99899\n",
        "count: 99899\n",
        "API rate limit"
       ]
      },
      {
       "output_type": "stream",
       "stream": "stdout",
       "text": [
        "\n",
        "Waiting:  0:0.0\n",
        "Count: 99899\n",
        "\n",
        "count: 99899\n",
        "count: 99899\n",
        "API rate limit\n",
        "Waiting:  0:0.0\n",
        "Count: 99899\n",
        "\n",
        "count: 99899\n",
        "count: 99899\n",
        "API rate limit"
       ]
      },
      {
       "output_type": "stream",
       "stream": "stdout",
       "text": [
        "\n",
        "Waiting:  0:0.0\n",
        "Count: 99899\n",
        "\n",
        "count: 99899\n",
        "count: 99899\n",
        "API rate limit"
       ]
      },
      {
       "output_type": "stream",
       "stream": "stdout",
       "text": [
        "\n",
        "Waiting:  0:0.0\n",
        "Count: 99899\n",
        "\n",
        "count: 99899\n",
        "count: 99899\n",
        "API rate limit"
       ]
      },
      {
       "output_type": "stream",
       "stream": "stdout",
       "text": [
        "\n",
        "Waiting:  0:0.0\n",
        "Count: 99899\n",
        "\n",
        "count: 99899\n",
        "count: 99899\n",
        "API rate limit"
       ]
      },
      {
       "output_type": "stream",
       "stream": "stdout",
       "text": [
        "\n",
        "Waiting:  0:0.0\n",
        "Count: 99899\n",
        "\n",
        "count: 99899\n",
        "count: 99899\n",
        "API rate limit\n",
        "Waiting:  0:0.0\n",
        "Count: 99899\n",
        "\n",
        "count: 99899\n",
        "count: 99899\n",
        "API rate limit"
       ]
      },
      {
       "output_type": "stream",
       "stream": "stdout",
       "text": [
        "\n",
        "Waiting:  0:0.0\n",
        "Count: 99899\n",
        "\n",
        "count: 99899\n",
        "count: 99899\n",
        "API rate limit"
       ]
      },
      {
       "output_type": "stream",
       "stream": "stdout",
       "text": [
        "\n",
        "Waiting:  0:0.0\n",
        "Count: 99899\n",
        "\n",
        "count: 99899\n",
        "count: 99899\n",
        "API rate limit"
       ]
      },
      {
       "output_type": "stream",
       "stream": "stdout",
       "text": [
        "\n",
        "Waiting:  0:0.0\n",
        "Count: 99899\n",
        "\n",
        "count: 99899\n",
        "count: 99899\n",
        "API rate limit"
       ]
      },
      {
       "output_type": "stream",
       "stream": "stdout",
       "text": [
        "\n",
        "Waiting:  0:0.0\n",
        "Count: 99899\n",
        "\n",
        "count: 99899\n",
        "count: 99899\n",
        "API rate limit\n",
        "Waiting:  0:0.0\n",
        "Count: 99899\n",
        "\n",
        "count: 99899\n",
        "count: 99899\n",
        "API rate limit"
       ]
      },
      {
       "output_type": "stream",
       "stream": "stdout",
       "text": [
        "\n",
        "Waiting:  0:0.0\n",
        "Count: 99899\n",
        "\n",
        "count: 99899\n",
        "count: 99899\n",
        "API rate limit"
       ]
      },
      {
       "output_type": "stream",
       "stream": "stdout",
       "text": [
        "\n",
        "Waiting:  0:0.0\n",
        "Count: 99899\n",
        "\n",
        "count: 99899\n",
        "count: 99899\n",
        "API rate limit\n",
        "Waiting:  0:0.0\n",
        "Count: 99899\n",
        "\n",
        "count: 99899\n",
        "count: 99899\n",
        "API rate limit"
       ]
      },
      {
       "output_type": "stream",
       "stream": "stdout",
       "text": [
        "\n",
        "Waiting:  0:0.0\n",
        "Count: 99899\n",
        "\n",
        "count: 99899\n",
        "count: 99899\n",
        "API rate limit"
       ]
      },
      {
       "output_type": "stream",
       "stream": "stdout",
       "text": [
        "\n",
        "Waiting:  0:0.0\n",
        "Count: 99899\n",
        "\n",
        "count: 99899\n",
        "count: 99899\n",
        "API rate limit"
       ]
      },
      {
       "output_type": "stream",
       "stream": "stdout",
       "text": [
        "\n",
        "Waiting:  0:0.0\n",
        "Count: 99899\n",
        "\n",
        "count: 99899\n",
        "count: 99899\n",
        "API rate limit"
       ]
      },
      {
       "output_type": "stream",
       "stream": "stdout",
       "text": [
        "\n",
        "Waiting:  0:0.0\n",
        "Count: 99899\n",
        "\n",
        "count: 99899\n",
        "count: 99899\n",
        "API rate limit\n",
        "Waiting:  0:0.0\n",
        "Count: 99899\n",
        "\n",
        "count: 99899\n",
        "count: 99899\n",
        "API rate limit"
       ]
      },
      {
       "output_type": "stream",
       "stream": "stdout",
       "text": [
        "\n",
        "Waiting:  0:0.0\n",
        "Count: 99899\n",
        "\n",
        "count: 99899\n",
        "count: 99899\n",
        "API rate limit\n",
        "Waiting:  0:0.0\n",
        "Count: 99899\n",
        "\n",
        "count: 99899\n",
        "count: 99899\n",
        "API rate limit"
       ]
      },
      {
       "output_type": "stream",
       "stream": "stdout",
       "text": [
        "\n",
        "Waiting:  0:0.0\n",
        "Count: 99899\n",
        "\n",
        "count: 99899\n",
        "count: 99899\n",
        "API rate limit"
       ]
      },
      {
       "output_type": "stream",
       "stream": "stdout",
       "text": [
        "\n",
        "Waiting:  0:0.0\n",
        "Count: 99899\n",
        "\n",
        "count: 99899\n",
        "count: 99899\n",
        "API rate limit"
       ]
      },
      {
       "output_type": "stream",
       "stream": "stdout",
       "text": [
        "\n",
        "Waiting:  0:0.0\n",
        "Count: 99899\n",
        "\n",
        "count: 99899\n",
        "count: 99899\n",
        "API rate limit"
       ]
      },
      {
       "output_type": "stream",
       "stream": "stdout",
       "text": [
        "\n",
        "Waiting:  0:0.0\n",
        "Count: 99899\n",
        "\n",
        "count: 99899\n",
        "count: 99899\n",
        "API rate limit"
       ]
      },
      {
       "output_type": "stream",
       "stream": "stdout",
       "text": [
        "\n",
        "Waiting:  0:0.0\n",
        "Count: 99899\n",
        "\n",
        "count: 99899\n",
        "count: 99899\n",
        "API rate limit"
       ]
      },
      {
       "output_type": "stream",
       "stream": "stdout",
       "text": [
        "\n",
        "Waiting:  0:0.0\n",
        "Count: 99899\n",
        "\n",
        "count: 99899\n",
        "count: 99899\n",
        "API rate limit"
       ]
      },
      {
       "output_type": "stream",
       "stream": "stdout",
       "text": [
        "\n",
        "Waiting:  0:0.0\n",
        "Count: 99899\n",
        "\n",
        "count: 99899\n",
        "count: 99899\n",
        "API rate limit"
       ]
      },
      {
       "output_type": "stream",
       "stream": "stdout",
       "text": [
        "\n",
        "Waiting:  0:0.0\n",
        "Count: 99899\n",
        "\n",
        "count: 99899\n",
        "count: 99899\n",
        "API rate limit\n",
        "Waiting:  0:0.0\n",
        "Count: 99899\n",
        "\n",
        "count: 99899\n",
        "count: 99899\n",
        "API rate limit"
       ]
      },
      {
       "output_type": "stream",
       "stream": "stdout",
       "text": [
        "\n",
        "Waiting:  0:0.0\n",
        "Count: 99899\n",
        "\n",
        "count: 99899\n",
        "count: 99899\n",
        "API rate limit"
       ]
      },
      {
       "output_type": "stream",
       "stream": "stdout",
       "text": [
        "\n",
        "Waiting:  0:0.0\n",
        "Count: 99899\n",
        "\n",
        "count: 99899\n",
        "count: 99899\n",
        "API rate limit"
       ]
      },
      {
       "output_type": "stream",
       "stream": "stdout",
       "text": [
        "\n",
        "Waiting:  0:0.0\n",
        "Count: 99899\n",
        "\n",
        "count: 99899\n",
        "count: 99899\n",
        "API rate limit\n",
        "Waiting:  0:0.0\n",
        "Count: 99899\n",
        "\n",
        "count: 99899\n",
        "count: 99899\n",
        "API rate limit"
       ]
      },
      {
       "output_type": "stream",
       "stream": "stdout",
       "text": [
        "\n",
        "Waiting:  0:0.0\n",
        "Count: 99899\n",
        "\n",
        "count: 99899\n",
        "count: 99899\n",
        "API rate limit"
       ]
      },
      {
       "output_type": "stream",
       "stream": "stdout",
       "text": [
        "\n",
        "Waiting:  0:0.0\n",
        "Count: 99899\n",
        "\n",
        "count: 99899\n",
        "count: 99899\n",
        "API rate limit"
       ]
      },
      {
       "output_type": "stream",
       "stream": "stdout",
       "text": [
        "\n",
        "Waiting:  0:0.0\n",
        "Count: 99899\n",
        "\n",
        "count: 99899\n",
        "count: 99899\n",
        "API rate limit"
       ]
      },
      {
       "output_type": "stream",
       "stream": "stdout",
       "text": [
        "\n",
        "Waiting:  0:0.0\n",
        "Count: 99899\n",
        "\n",
        "count: 99899\n",
        "count: 99899\n",
        "API rate limit"
       ]
      },
      {
       "output_type": "stream",
       "stream": "stdout",
       "text": [
        "\n",
        "Waiting:  0:0.0\n",
        "Count: 99899\n",
        "\n",
        "count: 99899\n",
        "count: 99899\n",
        "API rate limit"
       ]
      },
      {
       "output_type": "stream",
       "stream": "stdout",
       "text": [
        "\n",
        "Waiting:  0:0.0\n",
        "Count: 99899\n",
        "\n",
        "count: 99899\n",
        "count: 99899\n",
        "API rate limit\n",
        "Waiting:  0:0.0\n",
        "Count: 99899\n",
        "\n",
        "count: 99899\n",
        "count: 99899\n",
        "API rate limit"
       ]
      },
      {
       "output_type": "stream",
       "stream": "stdout",
       "text": [
        "\n",
        "Waiting:  0:0.0\n",
        "Count: 99899\n",
        "\n",
        "count: 99899\n",
        "count: 99899\n",
        "API rate limit"
       ]
      },
      {
       "output_type": "stream",
       "stream": "stdout",
       "text": [
        "\n",
        "Waiting:  0:0.0\n",
        "Count: 99899\n",
        "\n",
        "count: 99899\n",
        "count: 99899\n",
        "API rate limit"
       ]
      },
      {
       "output_type": "stream",
       "stream": "stdout",
       "text": [
        "\n",
        "Waiting:  0:0.0\n",
        "Count: 99899\n",
        "\n",
        "count: 99899\n",
        "count: 99899\n",
        "API rate limit"
       ]
      },
      {
       "output_type": "stream",
       "stream": "stdout",
       "text": [
        "\n",
        "Waiting:  0:0.0\n",
        "Count: 99899\n",
        "\n",
        "count: 99899\n",
        "count: 99899\n",
        "API rate limit"
       ]
      },
      {
       "output_type": "stream",
       "stream": "stdout",
       "text": [
        "\n",
        "Waiting:  0:0.0\n",
        "Count: 99899\n",
        "\n",
        "count: 99899\n",
        "count: 99899\n",
        "API rate limit\n",
        "Waiting:  0:0.0\n",
        "Count: 99899\n",
        "\n",
        "count: 99899\n",
        "count: 99899\n",
        "API rate limit"
       ]
      },
      {
       "output_type": "stream",
       "stream": "stdout",
       "text": [
        "\n",
        "Waiting:  0:0.0\n",
        "Count: 99899\n",
        "\n",
        "count: 99899\n",
        "count: 99899\n",
        "API rate limit"
       ]
      },
      {
       "output_type": "stream",
       "stream": "stdout",
       "text": [
        "\n",
        "Waiting:  0:0.0\n",
        "Count: 99899\n",
        "\n",
        "count: 99899\n",
        "count: 99899\n",
        "API rate limit"
       ]
      },
      {
       "output_type": "stream",
       "stream": "stdout",
       "text": [
        "\n",
        "Waiting:  0:0.0\n",
        "Count: 99899\n",
        "\n",
        "count: 99899\n",
        "count: 99899\n",
        "API rate limit"
       ]
      },
      {
       "output_type": "stream",
       "stream": "stdout",
       "text": [
        "\n",
        "Waiting:  0:0.0\n",
        "Count: 99899\n",
        "\n",
        "count: 99899\n",
        "count: 99899\n",
        "API rate limit"
       ]
      },
      {
       "output_type": "stream",
       "stream": "stdout",
       "text": [
        "\n",
        "Waiting:  0:0.0\n",
        "Count: 99899\n",
        "\n",
        "count: 99899\n",
        "count: 99899\n",
        "API rate limit"
       ]
      },
      {
       "output_type": "stream",
       "stream": "stdout",
       "text": [
        "\n",
        "Waiting:  0:0.0\n",
        "Count: 99899\n",
        "\n",
        "count: 99899\n",
        "count: 99899\n",
        "API rate limit\n",
        "Waiting:  0:0.0\n",
        "Count: 99899\n",
        "\n",
        "count: 99899\n",
        "count: 99899\n",
        "API rate limit"
       ]
      },
      {
       "output_type": "stream",
       "stream": "stdout",
       "text": [
        "\n",
        "Waiting:  0:0.0\n",
        "Count: 99899\n",
        "\n",
        "count: 99899\n",
        "count: 99899\n",
        "API rate limit"
       ]
      },
      {
       "output_type": "stream",
       "stream": "stdout",
       "text": [
        "\n",
        "Waiting:  0:0.0\n",
        "Count: 99899\n",
        "\n",
        "count: 99899\n",
        "count: 99899\n",
        "API rate limit"
       ]
      },
      {
       "output_type": "stream",
       "stream": "stdout",
       "text": [
        "\n",
        "Waiting:  0:0.0\n",
        "Count: 99899\n",
        "\n",
        "count: 99899\n",
        "count: 99899\n",
        "API rate limit"
       ]
      },
      {
       "output_type": "stream",
       "stream": "stdout",
       "text": [
        "\n",
        "Waiting:  0:0.0\n",
        "Count: 99899\n",
        "\n",
        "count: 99899\n",
        "count: 99899\n",
        "API rate limit"
       ]
      },
      {
       "output_type": "stream",
       "stream": "stdout",
       "text": [
        "\n",
        "Waiting:  0:0.0\n",
        "Count: 99899\n",
        "\n",
        "count: 99899\n",
        "count: 99899\n",
        "API rate limit\n",
        "Waiting:  0:0.0\n",
        "Count: 99899\n",
        "\n",
        "count: 99899\n",
        "count: 99899\n",
        "API rate limit"
       ]
      },
      {
       "output_type": "stream",
       "stream": "stdout",
       "text": [
        "\n",
        "Waiting:  0:0.0\n",
        "Count: 99899\n",
        "\n",
        "count: 99899\n",
        "count: 99899\n",
        "API rate limit"
       ]
      },
      {
       "output_type": "stream",
       "stream": "stdout",
       "text": [
        "\n",
        "Waiting:  0:0.0\n",
        "Count: 99899\n",
        "\n",
        "count: 99899\n",
        "count: 99899\n",
        "API rate limit"
       ]
      },
      {
       "output_type": "stream",
       "stream": "stdout",
       "text": [
        "\n",
        "Waiting:  0:0.0\n",
        "Count: 99899\n",
        "\n",
        "count: 99899\n",
        "count: 99899\n",
        "API rate limit"
       ]
      },
      {
       "output_type": "stream",
       "stream": "stdout",
       "text": [
        "\n",
        "Waiting:  0:0.0\n",
        "Count: 99899\n",
        "\n",
        "count: 99899\n",
        "count: 99899\n",
        "API rate limit"
       ]
      },
      {
       "output_type": "stream",
       "stream": "stdout",
       "text": [
        "\n",
        "Waiting:  0:0.0\n",
        "Count: 99899\n",
        "\n",
        "count: 99899\n",
        "count: 99899\n",
        "API rate limit"
       ]
      },
      {
       "output_type": "stream",
       "stream": "stdout",
       "text": [
        "\n",
        "Waiting:  0:0.0\n",
        "Count: 99899\n",
        "\n",
        "count: 99899\n",
        "count: 99899\n",
        "API rate limit"
       ]
      },
      {
       "output_type": "stream",
       "stream": "stdout",
       "text": [
        "\n",
        "Waiting:  0:0.0\n",
        "Count: 99899\n",
        "\n",
        "count: 99899\n",
        "count: 99899\n",
        "API rate limit"
       ]
      },
      {
       "output_type": "stream",
       "stream": "stdout",
       "text": [
        "\n",
        "Waiting:  0:0.0\n",
        "Count: 99899\n",
        "\n",
        "count: 99899\n",
        "count: 99899\n",
        "API rate limit"
       ]
      },
      {
       "output_type": "stream",
       "stream": "stdout",
       "text": [
        "\n",
        "Waiting:  0:0.0\n",
        "Count: 99899\n",
        "\n",
        "count: 99899\n",
        "count: 99899\n",
        "API rate limit"
       ]
      },
      {
       "output_type": "stream",
       "stream": "stdout",
       "text": [
        "\n",
        "Waiting:  0:0.0\n",
        "Count: 99899\n",
        "\n",
        "count: 99899\n",
        "count: 99899\n",
        "API rate limit"
       ]
      },
      {
       "output_type": "stream",
       "stream": "stdout",
       "text": [
        "\n",
        "Waiting:  0:0.0\n",
        "Count: 99899\n",
        "\n",
        "count: 99899\n",
        "count: 99899\n",
        "API rate limit"
       ]
      },
      {
       "output_type": "stream",
       "stream": "stdout",
       "text": [
        "\n",
        "Waiting:  0:0.0\n",
        "Count: 99899\n",
        "\n",
        "count: 99899\n",
        "count: 99899\n",
        "API rate limit"
       ]
      },
      {
       "output_type": "stream",
       "stream": "stdout",
       "text": [
        "\n",
        "Waiting:  0:0.0\n",
        "Count: 99899\n",
        "\n",
        "count: 99899\n",
        "count: 99899\n",
        "API rate limit"
       ]
      },
      {
       "output_type": "stream",
       "stream": "stdout",
       "text": [
        "\n",
        "Waiting:  0:0.0\n",
        "Count: 99899\n",
        "\n",
        "count: 99899\n",
        "count: 99899\n",
        "API rate limit"
       ]
      },
      {
       "output_type": "stream",
       "stream": "stdout",
       "text": [
        "\n",
        "Waiting:  0:0.0\n",
        "Count: 99899\n",
        "\n",
        "count: 99899\n",
        "count: 99899\n",
        "API rate limit"
       ]
      },
      {
       "output_type": "stream",
       "stream": "stdout",
       "text": [
        "\n",
        "Waiting:  0:0.0\n",
        "Count: 99899\n",
        "\n",
        "count: 99899\n",
        "count: 99899\n",
        "API rate limit"
       ]
      },
      {
       "output_type": "stream",
       "stream": "stdout",
       "text": [
        "\n",
        "Waiting:  0:0.0\n",
        "Count: 99899\n",
        "\n",
        "count: 99899\n",
        "count: 99899\n",
        "API rate limit"
       ]
      },
      {
       "output_type": "stream",
       "stream": "stdout",
       "text": [
        "\n",
        "Waiting:  0:0.0\n",
        "Count: 99899\n",
        "\n",
        "count: 99899\n",
        "count: 99899\n",
        "API rate limit"
       ]
      },
      {
       "output_type": "stream",
       "stream": "stdout",
       "text": [
        "\n",
        "Waiting:  0:0.0\n",
        "Count: 99899\n",
        "\n",
        "count: 99899\n",
        "count: 99899\n",
        "API rate limit"
       ]
      },
      {
       "output_type": "stream",
       "stream": "stdout",
       "text": [
        "\n",
        "Waiting:  0:0.0\n",
        "Count: 99899\n",
        "\n",
        "count: 99899\n",
        "count: 99899\n",
        "API rate limit\n",
        "Waiting:  0:0.0\n",
        "Count: 99899\n",
        "\n",
        "count: 99899\n",
        "count: 99899\n",
        "API rate limit"
       ]
      },
      {
       "output_type": "stream",
       "stream": "stdout",
       "text": [
        "\n",
        "Waiting:  0:0.0\n",
        "Count: 99899\n",
        "\n",
        "count: 99899\n",
        "count: 99899\n",
        "API rate limit"
       ]
      },
      {
       "output_type": "stream",
       "stream": "stdout",
       "text": [
        "\n",
        "Waiting:  0:0.0\n",
        "Count: 99899\n",
        "\n",
        "count: 99899\n",
        "count: 99899\n",
        "API rate limit"
       ]
      },
      {
       "output_type": "stream",
       "stream": "stdout",
       "text": [
        "\n",
        "Waiting:  0:0.0\n",
        "Count: 99899\n",
        "\n",
        "count: 99899\n",
        "count: 99899\n",
        "API rate limit"
       ]
      },
      {
       "output_type": "stream",
       "stream": "stdout",
       "text": [
        "\n",
        "Waiting:  0:0.0\n",
        "Count: 99899\n",
        "\n",
        "count: 99899\n",
        "count: 99899\n",
        "API rate limit"
       ]
      },
      {
       "output_type": "stream",
       "stream": "stdout",
       "text": [
        "\n",
        "Waiting:  0:0.0\n",
        "Count: 99899\n",
        "\n",
        "count: 99899\n",
        "count: 99899\n",
        "API rate limit"
       ]
      },
      {
       "output_type": "stream",
       "stream": "stdout",
       "text": [
        "\n",
        "Waiting:  0:0.0\n",
        "Count: 99899\n",
        "\n",
        "count: 99899\n",
        "count: 99899\n",
        "API rate limit"
       ]
      },
      {
       "output_type": "stream",
       "stream": "stdout",
       "text": [
        "\n",
        "Waiting:  0:0.0\n",
        "Count: 99899\n",
        "\n",
        "count: 99899\n",
        "count: 99899\n",
        "API rate limit"
       ]
      },
      {
       "output_type": "stream",
       "stream": "stdout",
       "text": [
        "\n",
        "Waiting:  0:0.0\n",
        "Count: 99899\n",
        "\n",
        "count: 99899\n",
        "count: 99899\n",
        "API rate limit\n",
        "Waiting:  0:0.0\n",
        "Count: 99899\n",
        "\n",
        "count: 99899\n",
        "count: 99899\n",
        "API rate limit"
       ]
      },
      {
       "output_type": "stream",
       "stream": "stdout",
       "text": [
        "\n",
        "Waiting:  0:0.0\n",
        "Count: 99899\n",
        "\n",
        "count: 99899\n",
        "count: 99899\n",
        "API rate limit"
       ]
      },
      {
       "output_type": "stream",
       "stream": "stdout",
       "text": [
        "\n",
        "Waiting:  0:0.0\n",
        "Count: 99899\n",
        "\n",
        "count: 99899\n",
        "count: 99899\n",
        "API rate limit"
       ]
      },
      {
       "output_type": "stream",
       "stream": "stdout",
       "text": [
        "\n",
        "Waiting:  0:0.0\n",
        "Count: 99899\n",
        "\n",
        "count: 99899\n",
        "count: 99899\n",
        "API rate limit"
       ]
      },
      {
       "output_type": "stream",
       "stream": "stdout",
       "text": [
        "\n",
        "Waiting:  0:0.0\n",
        "Count: 99899\n",
        "\n",
        "count: 99899\n",
        "count: 99899\n",
        "API rate limit"
       ]
      },
      {
       "output_type": "stream",
       "stream": "stdout",
       "text": [
        "\n",
        "Waiting:  8:0.331676\n",
        "Count: 144424\n",
        "\n",
        "count: 144424"
       ]
      },
      {
       "output_type": "stream",
       "stream": "stdout",
       "text": [
        "\n",
        "count: 144424\n",
        "API rate limit"
       ]
      },
      {
       "output_type": "stream",
       "stream": "stdout",
       "text": [
        "\n",
        "Waiting:  0:0.0\n",
        "Count: 144424\n",
        "\n",
        "count: 144424\n",
        "count: 144424\n",
        "API rate limit"
       ]
      },
      {
       "output_type": "stream",
       "stream": "stdout",
       "text": [
        "\n",
        "Waiting:  0:0.0\n",
        "Count: 144424\n",
        "\n",
        "count: 144424\n",
        "count: 144424\n",
        "API rate limit"
       ]
      },
      {
       "output_type": "stream",
       "stream": "stdout",
       "text": [
        "\n",
        "Waiting:  0:0.0\n",
        "Count: 144424\n",
        "\n",
        "count: 144424\n",
        "count: 144424\n",
        "API rate limit"
       ]
      },
      {
       "output_type": "stream",
       "stream": "stdout",
       "text": [
        "\n",
        "Waiting:  0:0.0\n",
        "Count: 144424\n",
        "\n",
        "count: 144424\n",
        "count: 144424\n",
        "API rate limit"
       ]
      },
      {
       "output_type": "stream",
       "stream": "stdout",
       "text": [
        "\n",
        "Waiting:  0:0.0\n",
        "Count: 144424\n",
        "\n",
        "count: 144424\n",
        "count: 144424\n",
        "API rate limit"
       ]
      },
      {
       "output_type": "stream",
       "stream": "stdout",
       "text": [
        "\n",
        "Waiting:  0:0.0\n",
        "Count: 144424\n",
        "\n",
        "count: 144424\n",
        "count: 144424\n",
        "API rate limit"
       ]
      },
      {
       "output_type": "stream",
       "stream": "stdout",
       "text": [
        "\n",
        "Waiting:  0:0.0\n",
        "Count: 144424\n",
        "\n",
        "count: 144424\n",
        "count: 144424\n",
        "API rate limit"
       ]
      },
      {
       "output_type": "stream",
       "stream": "stdout",
       "text": [
        "\n",
        "Waiting:  0:0.0\n",
        "Count: 144424\n",
        "\n",
        "count: 144424\n",
        "count: 144424\n",
        "API rate limit"
       ]
      },
      {
       "output_type": "stream",
       "stream": "stdout",
       "text": [
        "\n",
        "Waiting:  0:0.0\n",
        "Count: 144424\n",
        "\n",
        "count: 144424\n",
        "count: 144424\n",
        "API rate limit"
       ]
      },
      {
       "output_type": "stream",
       "stream": "stdout",
       "text": [
        "\n",
        "Waiting:  0:0.0\n",
        "Count: 144424\n",
        "\n",
        "count: 144424\n",
        "count: 144424\n",
        "API rate limit"
       ]
      },
      {
       "output_type": "stream",
       "stream": "stdout",
       "text": [
        "\n",
        "Waiting:  0:0.0\n",
        "Count: 144424\n",
        "\n",
        "count: 144424\n",
        "count: 144424\n",
        "API rate limit\n",
        "Waiting:  0:0.0\n",
        "Count: 144424\n",
        "\n",
        "count: 144424\n",
        "count: 144424\n",
        "API rate limit"
       ]
      },
      {
       "output_type": "stream",
       "stream": "stdout",
       "text": [
        "\n",
        "Waiting:  0:0.0\n",
        "Count: 144424\n",
        "\n",
        "count: 144424\n",
        "count: 144424\n",
        "API rate limit"
       ]
      },
      {
       "output_type": "stream",
       "stream": "stdout",
       "text": [
        "\n",
        "Waiting:  0:0.0\n",
        "Count: 144424\n",
        "\n",
        "count: 144424\n",
        "count: 144424\n",
        "API rate limit"
       ]
      },
      {
       "output_type": "stream",
       "stream": "stdout",
       "text": [
        "\n",
        "Waiting:  0:0.0\n",
        "Count: 144424\n",
        "\n",
        "count: 144424\n",
        "count: 144424\n",
        "API rate limit\n",
        "Waiting:  0:0.0\n",
        "Count: 144424\n",
        "\n",
        "count: 144424\n",
        "count: 144424\n",
        "API rate limit"
       ]
      },
      {
       "output_type": "stream",
       "stream": "stdout",
       "text": [
        "\n",
        "Waiting:  0:0.0\n",
        "Count: 144424\n",
        "\n",
        "count: 144424\n",
        "count: 144424\n",
        "API rate limit"
       ]
      },
      {
       "output_type": "stream",
       "stream": "stdout",
       "text": [
        "\n",
        "Waiting:  0:0.0\n",
        "Count: 144424\n",
        "\n",
        "count: 144424\n",
        "count: 144424\n",
        "API rate limit"
       ]
      },
      {
       "output_type": "stream",
       "stream": "stdout",
       "text": [
        "\n",
        "Waiting:  0:0.0\n",
        "Count: 144424\n",
        "\n",
        "count: 144424\n",
        "count: 144424\n",
        "API rate limit"
       ]
      },
      {
       "output_type": "stream",
       "stream": "stdout",
       "text": [
        "\n",
        "Waiting:  0:0.0\n",
        "Count: 144424\n",
        "\n",
        "count: 144424\n",
        "count: 144424\n",
        "API rate limit\n",
        "Waiting:  0:0.0\n",
        "Count: 144424\n",
        "\n",
        "count: 144424\n",
        "count: 144424\n",
        "API rate limit"
       ]
      },
      {
       "output_type": "stream",
       "stream": "stdout",
       "text": [
        "\n",
        "Waiting:  0:0.0\n",
        "Count: 144424\n",
        "\n",
        "count: 144424\n",
        "count: 144424\n",
        "API rate limit"
       ]
      },
      {
       "output_type": "stream",
       "stream": "stdout",
       "text": [
        "\n",
        "Waiting:  0:0.0\n",
        "Count: 144424\n",
        "\n",
        "count: 144424\n",
        "count: 144424\n",
        "API rate limit\n",
        "Waiting:  0:0.0\n",
        "Count: 144424\n",
        "\n",
        "count: 144424\n",
        "count: 144424\n",
        "API rate limit"
       ]
      },
      {
       "output_type": "stream",
       "stream": "stdout",
       "text": [
        "\n",
        "Waiting:  0:0.0\n",
        "Count: 144424\n",
        "\n",
        "count: 144424\n",
        "count: 144424\n",
        "API rate limit"
       ]
      },
      {
       "output_type": "stream",
       "stream": "stdout",
       "text": [
        "\n",
        "Waiting:  0:0.0\n",
        "Count: 144424\n",
        "\n",
        "count: 144424\n",
        "count: 144424\n",
        "API rate limit"
       ]
      },
      {
       "output_type": "stream",
       "stream": "stdout",
       "text": [
        "\n",
        "Waiting:  0:0.0\n",
        "Count: 144424\n",
        "\n",
        "count: 144424\n",
        "count: 144424\n",
        "API rate limit"
       ]
      },
      {
       "output_type": "stream",
       "stream": "stdout",
       "text": [
        "\n",
        "Waiting:  0:0.0\n",
        "Count: 144424\n",
        "\n",
        "count: 144424\n",
        "count: 144424\n",
        "API rate limit"
       ]
      },
      {
       "output_type": "stream",
       "stream": "stdout",
       "text": [
        "\n",
        "Waiting:  0:0.0\n",
        "Count: 144424\n",
        "\n",
        "count: 144424\n",
        "count: 144424\n",
        "API rate limit\n",
        "Waiting:  0:0.0\n",
        "Count: 144424\n",
        "\n",
        "count: 144424\n",
        "count: 144424\n",
        "API rate limit"
       ]
      },
      {
       "output_type": "stream",
       "stream": "stdout",
       "text": [
        "\n",
        "Waiting:  0:0.0\n",
        "Count: 144424\n",
        "\n",
        "count: 144424\n",
        "count: 144424\n",
        "API rate limit"
       ]
      },
      {
       "output_type": "stream",
       "stream": "stdout",
       "text": [
        "\n",
        "Waiting:  0:0.0\n",
        "Count: 144424\n",
        "\n",
        "count: 144424\n",
        "count: 144424\n",
        "API rate limit\n",
        "Waiting:  0:0.0\n",
        "Count: 144424\n",
        "\n",
        "count: 144424\n"
       ]
      },
      {
       "output_type": "stream",
       "stream": "stdout",
       "text": [
        "count: 144424\n",
        "API rate limit"
       ]
      },
      {
       "output_type": "stream",
       "stream": "stdout",
       "text": [
        "\n",
        "Waiting:  0:0.0\n",
        "Count: 144424\n",
        "\n",
        "count: 144424\n",
        "count: 144424\n",
        "API rate limit"
       ]
      },
      {
       "output_type": "stream",
       "stream": "stdout",
       "text": [
        "\n",
        "Waiting:  0:0.0\n",
        "Count: 144424\n",
        "\n",
        "count: 144424\n",
        "count: 144424\n",
        "API rate limit"
       ]
      },
      {
       "output_type": "stream",
       "stream": "stdout",
       "text": [
        "\n",
        "Waiting:  0:0.0\n",
        "Count: 144424\n",
        "\n",
        "count: 144424\n",
        "count: 144424\n",
        "API rate limit"
       ]
      },
      {
       "output_type": "stream",
       "stream": "stdout",
       "text": [
        "\n",
        "Waiting:  0:0.0\n",
        "Count: 144424\n",
        "\n",
        "count: 144424\n",
        "count: 144424\n",
        "API rate limit"
       ]
      },
      {
       "output_type": "stream",
       "stream": "stdout",
       "text": [
        "\n",
        "Waiting:  0:0.0\n",
        "Count: 144424\n",
        "\n",
        "count: 144424\n",
        "count: 144424\n",
        "API rate limit"
       ]
      },
      {
       "output_type": "stream",
       "stream": "stdout",
       "text": [
        "\n",
        "Waiting:  0:0.0\n",
        "Count: 144424\n",
        "\n",
        "count: 144424\n",
        "count: 144424\n",
        "API rate limit"
       ]
      },
      {
       "output_type": "stream",
       "stream": "stdout",
       "text": [
        "\n",
        "Waiting:  0:0.0\n",
        "Count: 144424\n",
        "\n",
        "count: 144424\n",
        "count: 144424\n",
        "API rate limit"
       ]
      },
      {
       "output_type": "stream",
       "stream": "stdout",
       "text": [
        "\n",
        "Waiting:  0:0.0\n",
        "Count: 144424\n",
        "\n",
        "count: 144424\n",
        "count: 144424\n",
        "API rate limit"
       ]
      },
      {
       "output_type": "stream",
       "stream": "stdout",
       "text": [
        "\n",
        "Waiting:  0:0.0\n",
        "Count: 144424\n",
        "\n",
        "count: 144424\n",
        "count: 144424\n",
        "API rate limit"
       ]
      },
      {
       "output_type": "stream",
       "stream": "stdout",
       "text": [
        "\n",
        "Waiting:  0:0.0\n",
        "Count: 144424\n",
        "\n",
        "count: 144424\n",
        "count: 144424\n",
        "API rate limit"
       ]
      },
      {
       "output_type": "stream",
       "stream": "stdout",
       "text": [
        "\n",
        "Waiting:  0:0.0\n",
        "Count: 144424\n",
        "\n",
        "count: 144424\n",
        "count: 144424\n",
        "API rate limit"
       ]
      },
      {
       "output_type": "stream",
       "stream": "stdout",
       "text": [
        "\n",
        "Waiting:  0:0.0\n",
        "Count: 144424\n",
        "\n",
        "count: 144424\n",
        "count: 144424\n",
        "API rate limit"
       ]
      },
      {
       "output_type": "stream",
       "stream": "stdout",
       "text": [
        "\n",
        "Waiting:  0:0.0\n",
        "Count: 144424\n",
        "\n",
        "count: 144424\n",
        "count: 144424\n",
        "API rate limit"
       ]
      },
      {
       "output_type": "stream",
       "stream": "stdout",
       "text": [
        "\n",
        "Waiting:  0:0.0\n",
        "Count: 144424\n",
        "\n",
        "count: 144424\n",
        "count: 144424\n",
        "API rate limit"
       ]
      },
      {
       "output_type": "stream",
       "stream": "stdout",
       "text": [
        "\n",
        "Waiting:  0:0.0\n",
        "Count: 144424\n",
        "\n",
        "count: 144424\n",
        "count: 144424\n",
        "API rate limit"
       ]
      },
      {
       "output_type": "stream",
       "stream": "stdout",
       "text": [
        "\n",
        "Waiting:  0:0.0\n",
        "Count: 144424\n",
        "\n",
        "count: 144424\n",
        "count: 144424\n",
        "API rate limit"
       ]
      },
      {
       "output_type": "stream",
       "stream": "stdout",
       "text": [
        "\n",
        "Waiting:  0:0.0\n",
        "Count: 144424\n",
        "\n",
        "count: 144424\n",
        "count: 144424\n",
        "API rate limit"
       ]
      },
      {
       "output_type": "stream",
       "stream": "stdout",
       "text": [
        "\n",
        "Waiting:  0:0.0\n",
        "Count: 144424\n",
        "\n",
        "count: 144424\n",
        "count: 144424\n",
        "API rate limit"
       ]
      },
      {
       "output_type": "stream",
       "stream": "stdout",
       "text": [
        "\n",
        "Waiting:  0:0.0\n",
        "Count: 144424\n",
        "\n",
        "count: 144424\n",
        "count: 144424\n",
        "API rate limit"
       ]
      },
      {
       "output_type": "stream",
       "stream": "stdout",
       "text": [
        "\n",
        "Waiting:  0:0.0\n",
        "Count: 144424\n",
        "\n",
        "count: 144424\n",
        "count: 144424\n",
        "API rate limit"
       ]
      },
      {
       "output_type": "stream",
       "stream": "stdout",
       "text": [
        "\n",
        "Waiting:  0:0.0\n",
        "Count: 144424\n",
        "\n",
        "count: 144424\n",
        "count: 144424\n",
        "API rate limit"
       ]
      },
      {
       "output_type": "stream",
       "stream": "stdout",
       "text": [
        "\n",
        "Waiting:  0:0.0\n",
        "Count: 144424\n",
        "\n",
        "count: 144424\n",
        "count: 144424\n",
        "API rate limit"
       ]
      },
      {
       "output_type": "stream",
       "stream": "stdout",
       "text": [
        "\n",
        "Waiting:  0:0.0\n",
        "Count: 144424\n",
        "\n",
        "count: 144424\n",
        "count: 144424\n",
        "API rate limit"
       ]
      },
      {
       "output_type": "stream",
       "stream": "stdout",
       "text": [
        "\n",
        "Waiting:  0:0.0\n",
        "Count: 144424\n",
        "\n",
        "count: 144424\n",
        "count: 144424\n",
        "API rate limit"
       ]
      },
      {
       "output_type": "stream",
       "stream": "stdout",
       "text": [
        "\n",
        "Waiting:  0:0.0\n",
        "Count: 144424\n",
        "\n",
        "count: 144424\n",
        "count: 144424\n",
        "API rate limit"
       ]
      },
      {
       "output_type": "stream",
       "stream": "stdout",
       "text": [
        "\n",
        "Waiting:  0:0.0\n",
        "Count: 144424\n",
        "\n",
        "count: 144424\n",
        "count: 144424\n",
        "API rate limit"
       ]
      },
      {
       "output_type": "stream",
       "stream": "stdout",
       "text": [
        "\n",
        "Waiting:  0:0.0\n",
        "Count: 144424\n",
        "\n",
        "count: 144424\n",
        "count: 144424\n",
        "API rate limit"
       ]
      },
      {
       "output_type": "stream",
       "stream": "stdout",
       "text": [
        "\n",
        "Waiting:  0:0.0\n",
        "Count: 144424\n",
        "\n",
        "count: 144424\n",
        "count: 144424\n",
        "API rate limit"
       ]
      },
      {
       "output_type": "stream",
       "stream": "stdout",
       "text": [
        "\n",
        "Waiting:  0:0.0\n",
        "Count: 144424\n",
        "\n",
        "count: 144424\n",
        "count: 144424\n",
        "API rate limit\n",
        "Waiting:  0:0.0\n",
        "Count: 144424\n",
        "\n",
        "count: 144424\n",
        "count: 144424\n",
        "API rate limit"
       ]
      },
      {
       "output_type": "stream",
       "stream": "stdout",
       "text": [
        "\n",
        "Waiting:  0:0.0\n",
        "Count: 144424\n",
        "\n",
        "count: 144424\n",
        "count: 144424\n",
        "API rate limit"
       ]
      },
      {
       "output_type": "stream",
       "stream": "stdout",
       "text": [
        "\n",
        "Waiting:  0:0.0\n",
        "Count: 144424\n",
        "\n",
        "count: 144424\n",
        "count: 144424\n",
        "API rate limit"
       ]
      },
      {
       "output_type": "stream",
       "stream": "stdout",
       "text": [
        "\n",
        "Waiting:  0:0.0\n",
        "Count: 144424\n",
        "\n",
        "count: 144424\n",
        "count: 144424\n",
        "API rate limit"
       ]
      },
      {
       "output_type": "stream",
       "stream": "stdout",
       "text": [
        "\n",
        "Waiting:  0:0.0\n",
        "Count: 144424\n",
        "\n",
        "count: 144424\n",
        "count: 144424\n",
        "API rate limit"
       ]
      },
      {
       "output_type": "stream",
       "stream": "stdout",
       "text": [
        "\n",
        "Waiting:  0:0.0\n",
        "Count: 144424\n",
        "\n",
        "count: 144424\n",
        "count: 144424\n",
        "API rate limit"
       ]
      },
      {
       "output_type": "stream",
       "stream": "stdout",
       "text": [
        "\n",
        "Waiting:  0:0.0\n",
        "Count: 144424\n",
        "\n",
        "count: 144424\n",
        "count: 144424\n",
        "API rate limit"
       ]
      },
      {
       "output_type": "stream",
       "stream": "stdout",
       "text": [
        "\n",
        "Waiting:  0:0.0\n",
        "Count: 144424\n",
        "\n",
        "count: 144424\n",
        "count: 144424\n",
        "API rate limit"
       ]
      },
      {
       "output_type": "stream",
       "stream": "stdout",
       "text": [
        "\n",
        "Waiting:  0:0.0\n",
        "Count: 144424\n",
        "\n",
        "count: 144424\n",
        "count: 144424\n",
        "API rate limit"
       ]
      },
      {
       "output_type": "stream",
       "stream": "stdout",
       "text": [
        "\n",
        "Waiting:  0:0.0\n",
        "Count: 144424\n",
        "\n",
        "count: 144424\n",
        "count: 144424\n",
        "API rate limit"
       ]
      },
      {
       "output_type": "stream",
       "stream": "stdout",
       "text": [
        "\n",
        "Waiting:  0:0.0\n",
        "Count: 144424\n",
        "\n",
        "count: 144424\n",
        "count: 144424\n",
        "API rate limit"
       ]
      },
      {
       "output_type": "stream",
       "stream": "stdout",
       "text": [
        "\n",
        "Waiting:  0:0.0\n",
        "Count: 144424\n",
        "\n",
        "count: 144424\n",
        "count: 144424\n",
        "API rate limit"
       ]
      },
      {
       "output_type": "stream",
       "stream": "stdout",
       "text": [
        "\n",
        "Waiting:  0:0.0\n",
        "Count: 144424\n",
        "\n",
        "count: 144424\n",
        "count: 144424\n",
        "API rate limit"
       ]
      },
      {
       "output_type": "stream",
       "stream": "stdout",
       "text": [
        "\n",
        "Waiting:  0:0.0\n",
        "Count: 144424\n",
        "\n",
        "count: 144424\n",
        "count: 144424\n",
        "API rate limit"
       ]
      },
      {
       "output_type": "stream",
       "stream": "stdout",
       "text": [
        "\n",
        "Waiting:  0:0.0\n",
        "Count: 144424\n",
        "\n",
        "count: 144424\n",
        "count: 144424\n",
        "API rate limit"
       ]
      },
      {
       "output_type": "stream",
       "stream": "stdout",
       "text": [
        "\n",
        "Waiting:  0:0.0\n",
        "Count: 144424\n",
        "\n",
        "count: 144424\n",
        "count: 144424\n",
        "API rate limit"
       ]
      },
      {
       "output_type": "stream",
       "stream": "stdout",
       "text": [
        "\n",
        "Waiting:  0:0.0\n",
        "Count: 144424\n",
        "\n",
        "count: 144424\n",
        "count: 144424\n",
        "API rate limit"
       ]
      },
      {
       "output_type": "stream",
       "stream": "stdout",
       "text": [
        "\n",
        "Waiting:  0:0.0\n",
        "Count: 144424\n",
        "\n",
        "count: 144424\n",
        "count: 144424\n",
        "API rate limit"
       ]
      },
      {
       "output_type": "stream",
       "stream": "stdout",
       "text": [
        "\n",
        "Waiting:  0:0.0\n",
        "Count: 144424\n",
        "\n",
        "count: 144424\n",
        "count: 144424\n",
        "API rate limit"
       ]
      },
      {
       "output_type": "stream",
       "stream": "stdout",
       "text": [
        "\n",
        "Waiting:  0:0.0\n",
        "Count: 144424\n",
        "\n",
        "count: 144424\n",
        "count: 144424\n",
        "API rate limit"
       ]
      },
      {
       "output_type": "stream",
       "stream": "stdout",
       "text": [
        "\n",
        "Waiting:  0:0.0\n",
        "Count: 144424\n",
        "\n",
        "count: 144424\n",
        "count: 144424\n",
        "API rate limit"
       ]
      },
      {
       "output_type": "stream",
       "stream": "stdout",
       "text": [
        "\n",
        "Waiting:  0:0.0\n",
        "Count: 144424\n",
        "\n",
        "count: 144424\n",
        "count: 144424\n",
        "API rate limit"
       ]
      },
      {
       "output_type": "stream",
       "stream": "stdout",
       "text": [
        "\n",
        "Waiting:  0:0.0\n",
        "Count: 144424\n",
        "\n",
        "count: 144424\n",
        "count: 144424\n",
        "API rate limit"
       ]
      },
      {
       "output_type": "stream",
       "stream": "stdout",
       "text": [
        "\n",
        "Waiting:  0:0.0\n",
        "Count: 144424\n",
        "\n",
        "count: 144424\n",
        "count: 144424\n",
        "API rate limit"
       ]
      },
      {
       "output_type": "stream",
       "stream": "stdout",
       "text": [
        "\n",
        "Waiting:  0:0.0\n",
        "Count: 144424\n",
        "\n",
        "count: 144424\n",
        "count: 144424\n",
        "API rate limit"
       ]
      },
      {
       "output_type": "stream",
       "stream": "stdout",
       "text": [
        "\n",
        "Waiting:  0:0.0\n",
        "Count: 144424\n",
        "\n",
        "count: 144424\n",
        "count: 144424\n",
        "API rate limit"
       ]
      },
      {
       "output_type": "stream",
       "stream": "stdout",
       "text": [
        "\n",
        "Waiting:  0:0.0\n",
        "Count: 144424\n",
        "\n",
        "count: 144424\n",
        "count: 144424\n",
        "API rate limit"
       ]
      },
      {
       "output_type": "stream",
       "stream": "stdout",
       "text": [
        "\n",
        "Waiting:  0:0.0\n",
        "Count: 144424\n",
        "\n",
        "count: 144424\n",
        "count: 144424\n",
        "API rate limit"
       ]
      },
      {
       "output_type": "stream",
       "stream": "stdout",
       "text": [
        "\n",
        "Waiting:  0:0.0\n",
        "Count: 144424\n",
        "\n",
        "count: 144424\n",
        "count: 144424\n",
        "API rate limit"
       ]
      },
      {
       "output_type": "stream",
       "stream": "stdout",
       "text": [
        "\n",
        "Waiting:  0:0.0\n",
        "Count: 144424\n",
        "\n",
        "count: 144424\n",
        "count: 144424\n",
        "API rate limit"
       ]
      },
      {
       "output_type": "stream",
       "stream": "stdout",
       "text": [
        "\n",
        "Waiting:  0:0.0\n",
        "Count: 144424\n",
        "\n",
        "count: 144424\n",
        "count: 144424\n",
        "API rate limit"
       ]
      },
      {
       "output_type": "stream",
       "stream": "stdout",
       "text": [
        "\n",
        "Waiting:  0:0.0\n",
        "Count: 144424\n",
        "\n",
        "count: 144424\n",
        "count: 144424\n",
        "API rate limit"
       ]
      },
      {
       "output_type": "stream",
       "stream": "stdout",
       "text": [
        "\n",
        "Waiting:  0:0.0\n",
        "Count: 144424\n",
        "\n",
        "count: 144424\n",
        "count: 144424\n",
        "API rate limit"
       ]
      },
      {
       "output_type": "stream",
       "stream": "stdout",
       "text": [
        "\n",
        "Waiting:  0:0.0\n",
        "Count: 144424\n",
        "\n",
        "count: 144424\n",
        "count: 144424\n",
        "API rate limit"
       ]
      },
      {
       "output_type": "stream",
       "stream": "stdout",
       "text": [
        "\n",
        "Waiting:  0:0.0\n",
        "Count: 144424\n",
        "\n",
        "count: 144424\n",
        "count: 144424\n",
        "API rate limit"
       ]
      },
      {
       "output_type": "stream",
       "stream": "stdout",
       "text": [
        "\n",
        "Waiting:  0:0.0\n",
        "Count: 144424\n",
        "\n",
        "count: 144424\n",
        "count: 144424\n",
        "API rate limit"
       ]
      },
      {
       "output_type": "stream",
       "stream": "stdout",
       "text": [
        "\n",
        "Waiting:  0:0.0\n",
        "Count: 144424\n",
        "\n",
        "count: 144424\n",
        "count: 144424\n",
        "API rate limit"
       ]
      },
      {
       "output_type": "stream",
       "stream": "stdout",
       "text": [
        "\n",
        "Waiting:  0:0.0\n",
        "Count: 144424\n",
        "\n",
        "count: 144424\n",
        "count: 144424\n",
        "API rate limit"
       ]
      },
      {
       "output_type": "stream",
       "stream": "stdout",
       "text": [
        "\n",
        "Waiting:  0:0.0\n",
        "Count: 144424\n",
        "\n",
        "count: 144424\n",
        "count: 144424\n",
        "API rate limit"
       ]
      },
      {
       "output_type": "stream",
       "stream": "stdout",
       "text": [
        "\n",
        "Waiting:  0:0.0\n",
        "Count: 144424\n",
        "\n",
        "count: 144424\n",
        "count: 144424\n",
        "API rate limit"
       ]
      },
      {
       "output_type": "stream",
       "stream": "stdout",
       "text": [
        "\n",
        "Waiting:  0:0.0\n",
        "Count: 144424\n",
        "\n",
        "count: 144424\n",
        "count: 144424\n",
        "API rate limit"
       ]
      },
      {
       "output_type": "stream",
       "stream": "stdout",
       "text": [
        "\n",
        "Waiting:  0:0.0\n",
        "Count: 144424\n",
        "\n",
        "count: 144424\n",
        "count: 144424\n",
        "API rate limit"
       ]
      },
      {
       "output_type": "stream",
       "stream": "stdout",
       "text": [
        "\n",
        "Waiting:  0:0.0\n",
        "Count: 144424\n",
        "\n",
        "count: 144424\n",
        "count: 144424\n",
        "API rate limit"
       ]
      },
      {
       "output_type": "stream",
       "stream": "stdout",
       "text": [
        "\n",
        "Waiting:  0:0.0\n",
        "Count: 144424\n",
        "\n",
        "count: 144424\n",
        "count: 144424\n",
        "API rate limit"
       ]
      },
      {
       "output_type": "stream",
       "stream": "stdout",
       "text": [
        "\n",
        "Waiting:  0:0.0\n",
        "Count: 144424\n",
        "\n",
        "count: 144424\n",
        "count: 144424\n",
        "API rate limit"
       ]
      },
      {
       "output_type": "stream",
       "stream": "stdout",
       "text": [
        "\n",
        "Waiting:  0:0.0\n",
        "Count: 144424\n",
        "\n",
        "count: 144424\n",
        "count: 144424\n",
        "API rate limit"
       ]
      },
      {
       "output_type": "stream",
       "stream": "stdout",
       "text": [
        "\n",
        "Waiting:  0:0.0\n",
        "Count: 144424\n",
        "\n",
        "count: 144424\n",
        "count: 144424\n",
        "API rate limit\n",
        "Waiting:  0:0.0\n",
        "Count: 144424\n",
        "\n",
        "count: 144424\n",
        "count: 144424\n",
        "API rate limit"
       ]
      },
      {
       "output_type": "stream",
       "stream": "stdout",
       "text": [
        "\n",
        "Waiting:  0:0.0\n",
        "Count: 144424\n",
        "\n",
        "count: 144424\n",
        "count: 144424\n",
        "API rate limit\n",
        "Waiting:  0:0.0\n",
        "Count: 144424\n",
        "\n",
        "count: 144424\n",
        "count: 144424\n",
        "API rate limit"
       ]
      },
      {
       "output_type": "stream",
       "stream": "stdout",
       "text": [
        "\n",
        "Waiting:  0:0.0\n",
        "Count: 144424\n",
        "\n",
        "count: 144424\n",
        "count: 144424\n",
        "API rate limit"
       ]
      },
      {
       "output_type": "stream",
       "stream": "stdout",
       "text": [
        "\n",
        "Waiting:  0:0.0\n",
        "Count: 144424\n",
        "\n",
        "count: 144424\n",
        "count: 144424\n",
        "API rate limit\n",
        "Waiting:  0:0.0\n",
        "Count: 144424\n",
        "\n",
        "count: 144424\n",
        "count: 144424\n",
        "API rate limit"
       ]
      },
      {
       "output_type": "stream",
       "stream": "stdout",
       "text": [
        "\n",
        "Waiting:  0:0.0\n",
        "Count: 144424\n",
        "\n",
        "count: 144424\n",
        "count: 144424\n",
        "API rate limit"
       ]
      },
      {
       "output_type": "stream",
       "stream": "stdout",
       "text": [
        "\n",
        "Waiting:  0:0.0\n",
        "Count: 144424\n",
        "\n",
        "count: 144424\n",
        "count: 144424\n",
        "API rate limit\n",
        "Waiting:  0:0.0\n",
        "Count: 144424\n",
        "\n",
        "count: 144424\n",
        "count: 144424\n",
        "API rate limit"
       ]
      },
      {
       "output_type": "stream",
       "stream": "stdout",
       "text": [
        "\n",
        "Waiting:  0:0.0\n",
        "Count: 144424\n",
        "\n",
        "count: 144424\n",
        "count: 144424\n",
        "API rate limit"
       ]
      },
      {
       "output_type": "stream",
       "stream": "stdout",
       "text": [
        "\n",
        "Waiting:  0:0.0\n",
        "Count: 144424\n",
        "\n",
        "count: 144424\n",
        "count: 144424\n",
        "API rate limit"
       ]
      },
      {
       "output_type": "stream",
       "stream": "stdout",
       "text": [
        "\n",
        "Waiting:  0:0.0\n",
        "Count: 144424\n",
        "\n",
        "count: 144424\n",
        "count: 144424\n",
        "API rate limit\n",
        "Waiting:  0:0.0\n",
        "Count: 144424\n",
        "\n",
        "count: 144424\n",
        "count: 144424\n",
        "API rate limit"
       ]
      },
      {
       "output_type": "stream",
       "stream": "stdout",
       "text": [
        "\n",
        "Waiting:  0:0.0\n",
        "Count: 144424\n",
        "\n",
        "count: 144424\n",
        "count: 144424\n",
        "API rate limit\n",
        "Waiting:  0:0.0\n",
        "Count: 144424\n",
        "\n",
        "count: 144424\n",
        "count: 144424\n",
        "API rate limit"
       ]
      },
      {
       "output_type": "stream",
       "stream": "stdout",
       "text": [
        "\n",
        "Waiting:  0:0.0\n",
        "Count: 144424\n",
        "\n",
        "count: 144424\n",
        "count: 144424\n",
        "API rate limit"
       ]
      },
      {
       "output_type": "stream",
       "stream": "stdout",
       "text": [
        "\n",
        "Waiting:  0:0.0\n",
        "Count: 144424\n",
        "\n",
        "count: 144424\n",
        "count: 144424\n",
        "API rate limit\n",
        "Waiting:  0:0.0"
       ]
      },
      {
       "output_type": "stream",
       "stream": "stdout",
       "text": [
        "\n",
        "Count: 144424\n",
        "\n",
        "count: 144424\n",
        "count: 144424\n",
        "API rate limit\n",
        "Waiting:  0:0.0\n",
        "Count: 144424\n",
        "\n",
        "count: 144424\n",
        "count: 144424\n",
        "API rate limit"
       ]
      },
      {
       "output_type": "stream",
       "stream": "stdout",
       "text": [
        "\n",
        "Waiting:  0:0.0\n",
        "Count: 144424\n",
        "\n",
        "count: 144424\n",
        "count: 144424\n",
        "API rate limit\n",
        "Waiting:  0:0.0\n",
        "Count: 144424\n",
        "\n",
        "count: 144424\n",
        "count: 144424\n",
        "API rate limit"
       ]
      },
      {
       "output_type": "stream",
       "stream": "stdout",
       "text": [
        "\n",
        "Waiting:  0:0.0\n",
        "Count: 144424\n",
        "\n",
        "count: 144424\n",
        "count: 144424\n",
        "API rate limit\n",
        "Waiting:  0:0.0\n",
        "Count: 144424\n",
        "\n",
        "count: 144424\n",
        "count: 144424\n",
        "API rate limit"
       ]
      },
      {
       "output_type": "stream",
       "stream": "stdout",
       "text": [
        "\n",
        "Waiting:  0:0.0\n",
        "Count: 144424\n",
        "\n",
        "count: 144424\n",
        "count: 144424\n",
        "API rate limit\n",
        "Waiting:  0:0.0\n",
        "Count: 144424\n",
        "\n",
        "count: 144424\n",
        "count: 144424\n",
        "API rate limit"
       ]
      },
      {
       "output_type": "stream",
       "stream": "stdout",
       "text": [
        "\n",
        "Waiting:  0:0.0\n",
        "Count: 144424\n",
        "\n",
        "count: 144424\n",
        "count: 144424\n",
        "API rate limit"
       ]
      },
      {
       "output_type": "stream",
       "stream": "stdout",
       "text": [
        "\n",
        "Waiting:  0:0.0\n",
        "Count: 144424\n",
        "\n",
        "count: 144424\n",
        "count: 144424\n",
        "API rate limit\n",
        "Waiting:  0:0.0\n",
        "Count: 144424\n",
        "\n",
        "count: 144424\n",
        "count: 144424\n",
        "API rate limit"
       ]
      },
      {
       "output_type": "stream",
       "stream": "stdout",
       "text": [
        "\n",
        "Waiting:  0:0.0\n",
        "Count: 144424\n",
        "\n",
        "count: 144424\n",
        "count: 144424\n",
        "API rate limit"
       ]
      },
      {
       "output_type": "stream",
       "stream": "stdout",
       "text": [
        "\n",
        "Waiting:  0:0.0\n",
        "Count: 144424\n",
        "\n",
        "count: 144424\n",
        "count: 144424\n",
        "API rate limit\n",
        "Waiting:  0:0.0\n",
        "Count: 144424\n",
        "\n",
        "count: 144424\n",
        "count: 144424\n",
        "API rate limit"
       ]
      },
      {
       "output_type": "stream",
       "stream": "stdout",
       "text": [
        "\n",
        "Waiting:  0:0.0\n",
        "Count: 144424\n",
        "\n",
        "count: 144424\n",
        "count: 144424\n",
        "API rate limit"
       ]
      },
      {
       "output_type": "stream",
       "stream": "stdout",
       "text": [
        "\n",
        "Waiting:  0:0.0\n",
        "Count: 144424\n",
        "\n",
        "count: 144424\n",
        "count: 144424\n",
        "API rate limit\n",
        "Waiting:  0:0.0\n",
        "Count: 144424\n",
        "\n",
        "count: 144424\n",
        "count: 144424\n",
        "API rate limit"
       ]
      },
      {
       "output_type": "stream",
       "stream": "stdout",
       "text": [
        "\n",
        "Waiting:  0:0.0\n",
        "Count: 144424\n",
        "\n",
        "count: 144424\n",
        "count: 144424\n",
        "API rate limit\n",
        "Waiting:  0:0.0\n",
        "Count: 144424\n",
        "\n",
        "count: 144424\n",
        "count: 144424\n",
        "API rate limit"
       ]
      },
      {
       "output_type": "stream",
       "stream": "stdout",
       "text": [
        "\n",
        "Waiting:  0:0.0\n",
        "Count: 144424\n",
        "\n",
        "count: 144424\n",
        "count: 144424\n",
        "API rate limit"
       ]
      },
      {
       "output_type": "stream",
       "stream": "stdout",
       "text": [
        "\n",
        "Waiting:  0:0.0\n",
        "Count: 144424\n",
        "\n",
        "count: 144424\n",
        "count: 144424\n",
        "API rate limit\n",
        "Waiting:  0:0.0\n",
        "Count: 144424\n",
        "\n",
        "count: 144424\n",
        "count: 144424\n",
        "API rate limit"
       ]
      },
      {
       "output_type": "stream",
       "stream": "stdout",
       "text": [
        "\n",
        "Waiting:  0:0.0\n",
        "Count: 144424\n",
        "\n",
        "count: 144424\n",
        "count: 144424\n",
        "API rate limit"
       ]
      },
      {
       "output_type": "stream",
       "stream": "stdout",
       "text": [
        "\n",
        "Waiting:  0:0.0\n",
        "Count: 144424\n",
        "\n",
        "count: 144424\n",
        "count: 144424\n",
        "API rate limit"
       ]
      },
      {
       "output_type": "stream",
       "stream": "stdout",
       "text": [
        "\n",
        "Waiting:  0:0.0\n",
        "Count: 144424\n",
        "\n",
        "count: 144424\n",
        "count: 144424\n",
        "API rate limit"
       ]
      },
      {
       "output_type": "stream",
       "stream": "stdout",
       "text": [
        "\n",
        "Waiting:  0:0.0\n",
        "Count: 144424\n",
        "\n",
        "count: 144424\n",
        "count: 144424\n",
        "API rate limit"
       ]
      },
      {
       "output_type": "stream",
       "stream": "stdout",
       "text": [
        "\n",
        "Waiting:  0:0.0\n",
        "Count: 144424\n",
        "\n",
        "count: 144424\n",
        "count: 144424\n",
        "API rate limit"
       ]
      },
      {
       "output_type": "stream",
       "stream": "stdout",
       "text": [
        "\n",
        "Waiting:  0:0.0\n",
        "Count: 144424\n",
        "\n",
        "count: 144424\n",
        "count: 144424\n",
        "API rate limit"
       ]
      },
      {
       "output_type": "stream",
       "stream": "stdout",
       "text": [
        "\n",
        "Waiting:  0:0.0\n",
        "Count: 144424\n",
        "\n",
        "count: 144424\n",
        "count: 144424\n",
        "API rate limit"
       ]
      },
      {
       "output_type": "stream",
       "stream": "stdout",
       "text": [
        "\n",
        "Waiting:  0:0.0\n",
        "Count: 144424\n",
        "\n",
        "count: 144424\n",
        "count: 144424\n",
        "API rate limit"
       ]
      },
      {
       "output_type": "stream",
       "stream": "stdout",
       "text": [
        "\n",
        "Waiting:  0:0.0\n",
        "Count: 144424\n",
        "\n",
        "count: 144424\n",
        "count: 144424\n",
        "API rate limit"
       ]
      },
      {
       "output_type": "stream",
       "stream": "stdout",
       "text": [
        "\n",
        "Waiting:  0:0.0\n",
        "Count: 144424\n",
        "\n",
        "count: 144424\n",
        "count: 144424\n",
        "API rate limit"
       ]
      },
      {
       "output_type": "stream",
       "stream": "stdout",
       "text": [
        "\n",
        "Waiting:  0:0.0\n",
        "Count: 144424\n",
        "\n",
        "count: 144424\n",
        "count: 144424\n",
        "API rate limit"
       ]
      },
      {
       "output_type": "stream",
       "stream": "stdout",
       "text": [
        "\n",
        "Waiting:  0:0.0\n",
        "Count: 144424\n",
        "\n",
        "count: 144424\n",
        "count: 144424\n",
        "API rate limit"
       ]
      },
      {
       "output_type": "stream",
       "stream": "stdout",
       "text": [
        "\n",
        "Waiting:  0:0.0\n",
        "Count: 144424\n",
        "\n",
        "count: 144424\n",
        "count: 144424\n",
        "API rate limit"
       ]
      },
      {
       "output_type": "stream",
       "stream": "stdout",
       "text": [
        "\n",
        "Waiting:  0:0.0\n",
        "Count: 144424\n",
        "\n",
        "count: 144424\n",
        "count: 144424\n",
        "API rate limit"
       ]
      },
      {
       "output_type": "stream",
       "stream": "stdout",
       "text": [
        "\n",
        "Waiting:  0:0.0\n",
        "Count: 144424\n",
        "\n",
        "count: 144424\n",
        "count: 144424\n",
        "API rate limit"
       ]
      },
      {
       "output_type": "stream",
       "stream": "stdout",
       "text": [
        "\n",
        "Waiting:  0:0.0\n",
        "Count: 144424\n",
        "\n",
        "count: 144424\n",
        "count: 144424\n",
        "API rate limit"
       ]
      },
      {
       "output_type": "stream",
       "stream": "stdout",
       "text": [
        "\n",
        "Waiting:  0:0.0\n",
        "Count: 144424\n",
        "\n",
        "count: 144424\n",
        "count: 144424\n",
        "API rate limit"
       ]
      },
      {
       "output_type": "stream",
       "stream": "stdout",
       "text": [
        "\n",
        "Waiting:  0:0.0\n",
        "Count: 144424\n",
        "\n",
        "count: 144424\n",
        "count: 144424\n",
        "API rate limit\n",
        "Waiting:  0:0.0\n",
        "Count: 144424\n",
        "\n",
        "count: 144424\n",
        "count: 144424\n",
        "API rate limit"
       ]
      },
      {
       "output_type": "stream",
       "stream": "stdout",
       "text": [
        "\n",
        "Waiting:  0:0.0\n",
        "Count: 144424\n",
        "\n",
        "count: 144424\n",
        "count: 144424\n",
        "API rate limit"
       ]
      },
      {
       "output_type": "stream",
       "stream": "stdout",
       "text": [
        "\n",
        "Waiting:  0:0.0\n",
        "Count: 144424\n",
        "\n",
        "count: 144424\n",
        "count: 144424\n",
        "API rate limit"
       ]
      },
      {
       "output_type": "stream",
       "stream": "stdout",
       "text": [
        "\n",
        "Waiting:  0:0.0\n",
        "Count: 144424\n",
        "\n",
        "count: 144424\n",
        "count: 144424\n",
        "API rate limit\n",
        "Waiting:  0:0.0\n",
        "Count: 144424\n",
        "\n",
        "count: 144424\n",
        "count: 144424\n",
        "API rate limit"
       ]
      },
      {
       "output_type": "stream",
       "stream": "stdout",
       "text": [
        "\n",
        "Waiting:  0:0.0\n",
        "Count: 144424\n",
        "\n",
        "count: 144424\n",
        "count: 144424\n",
        "API rate limit"
       ]
      },
      {
       "output_type": "stream",
       "stream": "stdout",
       "text": [
        "\n",
        "Waiting:  0:0.0\n",
        "Count: 144424\n",
        "\n",
        "count: 144424\n",
        "count: 144424\n",
        "API rate limit"
       ]
      },
      {
       "output_type": "stream",
       "stream": "stdout",
       "text": [
        "\n",
        "Waiting:  0:0.0\n",
        "Count: 144424\n",
        "\n",
        "count: 144424\n",
        "count: 144424\n",
        "API rate limit\n",
        "Waiting:  0:0.0\n",
        "Count: 144424\n",
        "\n",
        "count: 144424\n",
        "count: 144424\n",
        "API rate limit"
       ]
      },
      {
       "output_type": "stream",
       "stream": "stdout",
       "text": [
        "\n",
        "Waiting:  0:0.0\n",
        "Count: 144424\n",
        "\n",
        "count: 144424\n",
        "count: 144424\n",
        "API rate limit"
       ]
      },
      {
       "output_type": "stream",
       "stream": "stdout",
       "text": [
        "\n",
        "Waiting:  0:0.0\n",
        "Count: 144424\n",
        "\n",
        "count: 144424\n",
        "count: 144424\n",
        "API rate limit"
       ]
      },
      {
       "output_type": "stream",
       "stream": "stdout",
       "text": [
        "\n",
        "Waiting:  0:0.0\n",
        "Count: 144424\n",
        "\n",
        "count: 144424\n",
        "count: 144424\n",
        "API rate limit"
       ]
      },
      {
       "output_type": "stream",
       "stream": "stdout",
       "text": [
        "\n",
        "Waiting:  0:0.0\n",
        "Count: 144424\n",
        "\n",
        "count: 144424\n",
        "count: 144424\n",
        "API rate limit"
       ]
      },
      {
       "output_type": "stream",
       "stream": "stdout",
       "text": [
        "\n",
        "Waiting:  0:0.0\n",
        "Count: 144424\n",
        "\n",
        "count: 144424\n",
        "count: 144424\n",
        "API rate limit"
       ]
      },
      {
       "output_type": "stream",
       "stream": "stdout",
       "text": [
        "\n",
        "Waiting:  0:0.0\n",
        "Count: 144424\n",
        "\n",
        "count: 144424\n",
        "count: 144424\n",
        "API rate limit"
       ]
      },
      {
       "output_type": "stream",
       "stream": "stdout",
       "text": [
        "\n",
        "Waiting:  0:0.0\n",
        "Count: 144424\n",
        "\n",
        "count: 144424\n",
        "count: 144424\n",
        "API rate limit"
       ]
      },
      {
       "output_type": "stream",
       "stream": "stdout",
       "text": [
        "\n",
        "Waiting:  0:0.0\n",
        "Count: 144424\n",
        "\n",
        "count: 144424\n",
        "count: 144424\n",
        "API rate limit"
       ]
      },
      {
       "output_type": "stream",
       "stream": "stdout",
       "text": [
        "\n",
        "Waiting:  0:0.0\n",
        "Count: 144424\n",
        "\n",
        "count: 144424\n",
        "count: 144424\n",
        "API rate limit"
       ]
      },
      {
       "output_type": "stream",
       "stream": "stdout",
       "text": [
        "\n",
        "Waiting:  0:0.0\n",
        "Count: 144424\n",
        "\n",
        "count: 144424\n",
        "count: 144424\n",
        "API rate limit"
       ]
      },
      {
       "output_type": "stream",
       "stream": "stdout",
       "text": [
        "\n",
        "Waiting:  0:0.0\n",
        "Count: 144424\n",
        "\n",
        "count: 144424\n",
        "count: 144424\n",
        "API rate limit"
       ]
      },
      {
       "output_type": "stream",
       "stream": "stdout",
       "text": [
        "\n",
        "Waiting:  0:0.0\n",
        "Count: 144424\n",
        "\n",
        "count: 144424\n",
        "count: 144424\n",
        "API rate limit"
       ]
      },
      {
       "output_type": "stream",
       "stream": "stdout",
       "text": [
        "\n",
        "Waiting:  0:0.0\n",
        "Count: 144424\n",
        "\n",
        "count: 144424\n",
        "count: 144424\n",
        "API rate limit"
       ]
      },
      {
       "output_type": "stream",
       "stream": "stdout",
       "text": [
        "\n",
        "Waiting:  0:0.0\n",
        "Count: 144424\n",
        "\n",
        "count: 144424\n",
        "count: 144424\n",
        "API rate limit\n",
        "Waiting:  0:0.0\n",
        "Count: 144424\n",
        "\n",
        "count: 144424\n",
        "count: 144424\n",
        "API rate limit"
       ]
      },
      {
       "output_type": "stream",
       "stream": "stdout",
       "text": [
        "\n",
        "Waiting:  0:0.0\n",
        "Count: 144424\n",
        "\n",
        "count: 144424\n",
        "count: 144424\n",
        "API rate limit"
       ]
      },
      {
       "output_type": "stream",
       "stream": "stdout",
       "text": [
        "\n",
        "Waiting:  0:0.0\n",
        "Count: 144424\n",
        "\n",
        "count: 144424\n",
        "count: 144424\n",
        "API rate limit"
       ]
      },
      {
       "output_type": "stream",
       "stream": "stdout",
       "text": [
        "\n",
        "Waiting:  0:0.0\n",
        "Count: 144424\n",
        "\n",
        "count: 144424\n",
        "count: 144424\n",
        "API rate limit"
       ]
      },
      {
       "output_type": "stream",
       "stream": "stdout",
       "text": [
        "\n",
        "Waiting:  0:0.0\n",
        "Count: 144424\n",
        "\n",
        "count: 144424\n",
        "count: 144424\n",
        "API rate limit\n",
        "Waiting:  0:0.0\n",
        "Count: 144424\n",
        "\n",
        "count: 144424\n",
        "count: 144424\n",
        "API rate limit"
       ]
      },
      {
       "output_type": "stream",
       "stream": "stdout",
       "text": [
        "\n",
        "Waiting:  0:0.0\n",
        "Count: 144424\n",
        "\n",
        "count: 144424\n",
        "count: 144424\n",
        "API rate limit"
       ]
      },
      {
       "output_type": "stream",
       "stream": "stdout",
       "text": [
        "\n",
        "Waiting:  0:0.0\n",
        "Count: 144424\n",
        "\n",
        "count: 144424\n",
        "count: 144424\n",
        "API rate limit"
       ]
      },
      {
       "output_type": "stream",
       "stream": "stdout",
       "text": [
        "\n",
        "Waiting:  0:0.0\n",
        "Count: 144424\n",
        "\n",
        "count: 144424\n",
        "count: 144424\n",
        "API rate limit"
       ]
      },
      {
       "output_type": "stream",
       "stream": "stdout",
       "text": [
        "\n",
        "Waiting:  0:0.0\n",
        "Count: 144424\n",
        "\n",
        "count: 144424\n",
        "count: 144424\n",
        "API rate limit"
       ]
      },
      {
       "output_type": "stream",
       "stream": "stdout",
       "text": [
        "\n",
        "Waiting:  0:0.0\n",
        "Count: 144424\n",
        "\n",
        "count: 144424\n",
        "count: 144424\n",
        "API rate limit"
       ]
      },
      {
       "output_type": "stream",
       "stream": "stdout",
       "text": [
        "\n",
        "Waiting:  0:0.0\n",
        "Count: 144424\n",
        "\n",
        "count: 144424\n",
        "count: 144424\n",
        "API rate limit\n",
        "Waiting:  0:0.0\n",
        "Count: 144424\n",
        "\n",
        "count: 144424\n",
        "count: 144424\n",
        "API rate limit"
       ]
      },
      {
       "output_type": "stream",
       "stream": "stdout",
       "text": [
        "\n",
        "Waiting:  0:0.0\n",
        "Count: 144424\n",
        "\n",
        "count: 144424\n",
        "count: 144424\n",
        "API rate limit"
       ]
      },
      {
       "output_type": "stream",
       "stream": "stdout",
       "text": [
        "\n",
        "Waiting:  0:0.0\n",
        "Count: 144424\n",
        "\n",
        "count: 144424\n",
        "count: 144424\n",
        "API rate limit\n",
        "Waiting:  0:0.0\n",
        "Count: 144424\n",
        "\n",
        "count: 144424\n",
        "count: 144424\n",
        "API rate limit"
       ]
      },
      {
       "output_type": "stream",
       "stream": "stdout",
       "text": [
        "\n",
        "Waiting:  0:0.0\n",
        "Count: 144424\n",
        "\n",
        "count: 144424\n",
        "count: 144424\n",
        "API rate limit"
       ]
      },
      {
       "output_type": "stream",
       "stream": "stdout",
       "text": [
        "\n",
        "Waiting:  0:0.0\n",
        "Count: 144424\n",
        "\n",
        "count: 144424\n",
        "count: 144424\n",
        "API rate limit\n",
        "Waiting:  0:0.0\n",
        "Count: 144424\n",
        "\n",
        "count: 144424\n",
        "count: 144424\n",
        "API rate limit"
       ]
      },
      {
       "output_type": "stream",
       "stream": "stdout",
       "text": [
        "\n",
        "Waiting:  0:0.0\n",
        "Count: 144424\n",
        "\n",
        "count: 144424\n",
        "count: 144424\n",
        "API rate limit"
       ]
      },
      {
       "output_type": "stream",
       "stream": "stdout",
       "text": [
        "\n",
        "Waiting:  0:0.0\n",
        "Count: 144424\n",
        "\n",
        "count: 144424\n",
        "count: 144424\n",
        "API rate limit"
       ]
      },
      {
       "output_type": "stream",
       "stream": "stdout",
       "text": [
        "\n",
        "Waiting:  0:0.0\n",
        "Count: 144424\n",
        "\n",
        "count: 144424\n",
        "count: 144424\n",
        "API rate limit"
       ]
      },
      {
       "output_type": "stream",
       "stream": "stdout",
       "text": [
        "\n",
        "Waiting:  0:0.0\n",
        "Count: 144424\n",
        "\n",
        "count: 144424\n",
        "count: 144424\n",
        "API rate limit"
       ]
      },
      {
       "output_type": "stream",
       "stream": "stdout",
       "text": [
        "\n",
        "Waiting:  0:0.0\n",
        "Count: 144424\n",
        "\n",
        "count: 144424\n",
        "count: 144424\n",
        "API rate limit"
       ]
      },
      {
       "output_type": "stream",
       "stream": "stdout",
       "text": [
        "\n",
        "Waiting:  0:0.0\n",
        "Count: 144424\n",
        "\n",
        "count: 144424\n",
        "count: 144424\n",
        "API rate limit"
       ]
      },
      {
       "output_type": "stream",
       "stream": "stdout",
       "text": [
        "\n",
        "Waiting:  0:0.0\n",
        "Count: 144424\n",
        "\n",
        "count: 144424\n",
        "count: 144424\n",
        "API rate limit\n",
        "Waiting:  0:0.0\n",
        "Count: 144424\n",
        "\n",
        "count: 144424\n",
        "count: 144424\n",
        "User interupt!"
       ]
      },
      {
       "output_type": "stream",
       "stream": "stdout",
       "text": [
        "\n",
        "count: 164417\n"
       ]
      }
     ],
     "prompt_number": 7
    },
    {
     "cell_type": "code",
     "collapsed": false,
     "input": [
      "print('\\nStatus')\n",
      "print('------')\n",
      "print('client_id:  {:s}'.format(session.client_id.client_id))\n",
      "print('Limit:      {:d}'.format(manager.api_limit))\n",
      "print('Remaining:  {:d}'.format(manager.api_remaining))\n",
      "print('Minutes:  {:5.2f}'.format(manager.api_minutes))\n",
      "\n",
      "print()\n",
      "print('Count: {:d}'.format(manager.count))"
     ],
     "language": "python",
     "metadata": {},
     "outputs": [
      {
       "output_type": "stream",
       "stream": "stdout",
       "text": [
        "\n",
        "Status\n",
        "------\n",
        "client_id:  JxUV7dXAvXigyxyWafOGUA\n",
        "Limit:      450\n",
        "Remaining:  0\n",
        "Minutes:   6.26\n",
        "\n",
        "Count: 11075"
       ]
      },
      {
       "output_type": "stream",
       "stream": "stdout",
       "text": [
        "\n"
       ]
      }
     ],
     "prompt_number": 15
    },
    {
     "cell_type": "code",
     "collapsed": false,
     "input": [
      "manager.api_remaining"
     ],
     "language": "python",
     "metadata": {},
     "outputs": [
      {
       "metadata": {},
       "output_type": "pyout",
       "prompt_number": 19,
       "text": [
        "0"
       ]
      }
     ],
     "prompt_number": 19
    },
    {
     "cell_type": "code",
     "collapsed": false,
     "input": [
      "import time"
     ],
     "language": "python",
     "metadata": {},
     "outputs": [],
     "prompt_number": 23
    },
    {
     "cell_type": "code",
     "collapsed": false,
     "input": [
      "time.sleep?"
     ],
     "language": "python",
     "metadata": {},
     "outputs": [],
     "prompt_number": 24
    },
    {
     "cell_type": "code",
     "collapsed": false,
     "input": [],
     "language": "python",
     "metadata": {},
     "outputs": []
    }
   ],
   "metadata": {}
  }
 ]
}