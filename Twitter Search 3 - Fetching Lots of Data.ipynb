{
 "metadata": {
  "name": ""
 },
 "nbformat": 3,
 "nbformat_minor": 0,
 "worksheets": [
  {
   "cells": [
    {
     "cell_type": "markdown",
     "metadata": {},
     "source": [
      "IPython keyboard shortcuts: http://ipython.org/ipython-doc/stable/interactive/notebook.html#keyboard-shortcuts\n"
     ]
    },
    {
     "cell_type": "code",
     "collapsed": false,
     "input": [
      "from __future__ import division, print_function, unicode_literals\n",
      "\n",
      "%matplotlib inline\n",
      "\n",
      "import os\n",
      "\n",
      "import IPython.display\n",
      "import numpy as np\n",
      "import utilities\n",
      "import arrow\n",
      "\n",
      "import twitter"
     ],
     "language": "python",
     "metadata": {},
     "outputs": [],
     "prompt_number": 3
    },
    {
     "cell_type": "code",
     "collapsed": false,
     "input": [
      "session = utilities.authenticate()\n",
      "\n",
      "path_query = os.path.join(os.path.curdir, 'tweets')\n",
      "\n",
      "# query = 'hobbit desolation smaug'\n",
      "# query = 'Anchorman 2 The Legend Continues'\n",
      "query = 'Anchorman'\n",
      "\n",
      "manager = twitter.Search_Manager(session, query, path_query)\n"
     ],
     "language": "python",
     "metadata": {},
     "outputs": [],
     "prompt_number": 14
    },
    {
     "cell_type": "code",
     "collapsed": false,
     "input": [
      "\n",
      "\n",
      "\n",
      "print('\\nStatus')\n",
      "print('------')\n",
      "print('client_id:  {:s}'.format(session.client_id.client_id))\n",
      "print('Limit:      {:d}'.format(manager.api_limit))\n",
      "print('Remaining:  {:d}'.format(manager.api_remaining))\n",
      "print('Minutes:  {:5.2f}'.format(manager.api_minutes))\n",
      "\n",
      "print()\n",
      "print('Count: {:d}'.format(manager.count))"
     ],
     "language": "python",
     "metadata": {},
     "outputs": [
      {
       "output_type": "stream",
       "stream": "stdout",
       "text": [
        "\n",
        "Status\n",
        "------\n",
        "client_id:  JxUV7dXAvXigyxyWafOGUA\n",
        "Limit:      450\n",
        "Remaining:  151\n",
        "Minutes:   2.00\n"
       ]
      }
     ],
     "prompt_number": 19
    },
    {
     "cell_type": "code",
     "collapsed": false,
     "input": [
      "manager.search_continuous()\n"
     ],
     "language": "python",
     "metadata": {},
     "outputs": []
    },
    {
     "cell_type": "code",
     "collapsed": false,
     "input": [],
     "language": "python",
     "metadata": {},
     "outputs": [],
     "prompt_number": 19
    },
    {
     "cell_type": "code",
     "collapsed": false,
     "input": [],
     "language": "python",
     "metadata": {},
     "outputs": [],
     "prompt_number": 8
    }
   ],
   "metadata": {}
  }
 ]
}