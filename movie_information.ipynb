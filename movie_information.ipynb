{
 "metadata": {
  "name": ""
 },
 "nbformat": 3,
 "nbformat_minor": 0,
 "worksheets": [
  {
   "cells": [
    {
     "cell_type": "markdown",
     "metadata": {},
     "source": [
      "Work Notes\n",
      "==========\n",
      "\n",
      "Objective\n",
      "---------\n",
      "\n",
      "My objective for this effort is to demonstrate my data processing and analysis capabilities outside of my tradiational hyperspectral remote sensing work.  I have played in that arena for a long time and picked up a good number of modeling and analysis skills.  This present effort is meant to be a quick example of processing unfamiliar data using new tools and protocols.  This work needs to be quick, efficient, and have a clear punch line.\n",
      "\n",
      "I made a statement a few days ago that I would like to solve new types of problems.  Foe example, I\n",
      "might treat a new movie as a collection of word feature vectors pulled out of a Twitter feed.  I\n",
      "would then make statistical associations with other movies having known performance characteristics\n",
      "such as viewer retention and engagement.  The validity of the association process could be verified\n",
      "by testing with lablled data.  Results from such a process might be useful for someones planning\n",
      "efforts.\n",
      "\n",
      "Early Morning Thinking\n",
      "----------------------\n",
      "\n",
      "Very early this morning I could not sleep as I kept thinking about this effort.  I kept reviewing\n",
      "in my head details of the objective in the section above.  I need a way to make sense of text\n",
      "describing a movie.  A quick search on Github turned up this great Python package:\n",
      "[TextBlob](https://github.com/sloria/TextBlob).  The text from the website says:\n",
      "\n",
      "    A library for processing textual data. It provides a simple API for diving into common natural\n",
      "    language processing (NLP) tasks such as part-of-speech tagging, noun phrase extraction,\n",
      "    sentiment analysis, classification, translation, and more.\n",
      "\n",
      "Behind the scenes it uses [NLTK](http://www.nltk.org/) and\n",
      "[patterns](http://www.clips.ua.ac.be/pages/pattern-en).  I've have not done much with natural\n",
      "language text processing.  This tools will be a great place to start!\n",
      "\n",
      "I found a nice web API for querrying information from IMDb and RottenTomatoes:\n",
      "[The OMDb API](http://www.omdbapi.com/).  For example, this query for information about the movie\n",
      "Star Wars, `http://www.omdbapi.com/?s=Star%20Wars` yields this JSON response:\n",
      "\n",
      "    {\"Search\": [{\"Title\": \"Star Wars\", \"Year\": \"1977\",\n",
      "                 \"imdbID\": \"tt0076759\", \"Type\": \"movie\"},\n",
      "                {\"Title\": \"Star Wars: Episode V - The Empire Strikes Back\", \"Year\": \"1980\",\n",
      "                 \"imdbID\": \"tt0080684\", \"Type\": \"movie\"},\n",
      "                {\"Title\": \"Star Wars: Episode VI - Return of the Jedi\", \"Year\": \"1983\",\n",
      "                 \"imdbID\": \"tt0086190\", \"Type\": \"movie\"},\n",
      "                {\"Title\": \"Star Wars: Episode I - The Phantom Menace\", \"Year\": \"1999\",\n",
      "                 \"imdbID\": \"tt0120915\", \"Type\": \"movie\"},\n",
      "                {\"Title\": \"Star Wars: Episode III - Revenge of the Sith\", \"Year\": \"2005\",\n",
      "                 \"imdbID\": \"tt0121766\", \"Type\": \"movie\"},\n",
      "                {\"Title\": \"Star Wars: Episode II - Attack of the Clones\", \"Year\": \"2002\",\n",
      "                 \"imdbID\": \"tt0121765\", \"Type\": \"movie\"},\n",
      "                {\"Title\": \"Star Wars: The Clone Wars\", \"Year\": \"2008\",\n",
      "                 \"imdbID\": \"tt1185834\", \"Type\": \"movie\"},\n",
      "                {\"Title\": \"Star Wars: The Clone Wars\", \"Year\": \"2008\",\n",
      "                \"imdbID\": \"tt0458290\", \"Type\": \"series\"},\n",
      "                {\"Title\": \"Star Wars: Clone Wars\", \"Year\": \"2003\",\n",
      "                 \"imdbID\": \"tt0361243\", \"Type\": \"series\"},\n",
      "                {\"Title\": \"The Star Wars Holiday Special\", \"Year\": \"1978\",\n",
      "                 \"imdbID\": \"tt0193524\", \"Type\": \"movie\"}]}\n",
      "\n",
      "Its just a bit more work to also retrieve information from RottenTomatoes using the imdbID as a\n",
      "reference number.\n",
      "\n",
      "I found two nice Python packages on Github for Twitter's API service: https://github.com/geduldig/TwitterAPI and https://github.com/ryanmcgrath/twython.  They are both activey maintained, but just from reading over each package, I really like Twython's minimalistic interface.  I will probably go with that.\n",
      "\n",
      "Next I wanted a list of interesting movies to play with.  I found this list of titles from 2012 for\n",
      "sequels of popular movies: [Sequel Movies 2012](http://www.movieinsider.com/movies/sequel/2012).  I\n",
      "figure I'll need to manipulate some of that data by hand just to get it done quickly.  I would\n",
      "normally write some code to automate this step, but right now this is a one-time deal.\n",
      "\n",
      "Once the data is all assembled into a useable form, then I plan to compare words using the [Bag-of-Words](http://en.wikipedia.org/wiki/Bag-of-words_model) approach.  This involves computing histograms of word frequencies for some ensemble of words (e.g. words collected from Tweets).  There are several ways to compare histograms with the goal of computing a similarity metric.  My favorite is the [Earth-Mover distance](http://en.wikipedia.org/wiki/Earth_mover's_distance).  It's like this: given two diffrent histograms with the same bins, think of the two distributions as two piles of dirt.  Then the EMD metric is the minimum amount of work a bulldozer have to do in order to make one pile of counts look like the other.  Last year I wrapped up this [Fast C++ EMD](http://www.seas.upenn.edu/~ofirpele/FastEMD/code/) implementation as a Python extension for another project.  In this other project the distance between bins was simple: just the [Euclidean distance](http://en.wikipedia.org/wiki/Euclidean_distance) between them in bin space.\n",
      "\n",
      "Now in this task I am dealing with words as labels for each bin.  There is no physical meaning associated with which word is handled in the adjacent bin.  The words might be sorted alphabetically, or by size, or just at random.  About ten years ago I implemented the [Levenshtein Distance](http://en.wikipedia.org/wiki/Levenshtein_distance) in [IDL](http://www.exelisvis.com/ProductsServices/IDL.aspx), way before I started using Python.  I could translate that version over to Python, but it was actually easier to just go Googling for a Python implementation. One of the first results on my page was: [py-editdist](https://code.google.com/p/py-editdist/).  This package has a single easy-to-use function:"
     ]
    },
    {
     "cell_type": "code",
     "collapsed": false,
     "input": [
      "import editdist\n",
      "\n",
      "d1 = editdist.distance('abcd', 'abcd')\n",
      "d2 = editdist.distance('abcd', 'abcf')\n",
      "d3 = editdist.distance('abcd', 'ah!')\n",
      "d4 = editdist.distance('abcd', 'eh!')\n",
      "d5 = editdist.distance('abcd', 'trampoline')\n",
      "\n",
      "print(d1, d2, d3, d4, d5)"
     ],
     "language": "python",
     "metadata": {},
     "outputs": [
      {
       "output_type": "stream",
       "stream": "stdout",
       "text": [
        "(0, 1, 3, 4, 9)\n"
       ]
      }
     ],
     "prompt_number": 29
    },
    {
     "cell_type": "markdown",
     "metadata": {},
     "source": [
      "The idea here is to compute a cost metric between all pairs of words used in this analysis.  So let's says my complete list of words is this:"
     ]
    },
    {
     "cell_type": "code",
     "collapsed": false,
     "input": [
      "words = ['apple', 'pear', 'peach', 'banana', 'raspberry']"
     ],
     "language": "python",
     "metadata": {},
     "outputs": [],
     "prompt_number": 30
    },
    {
     "cell_type": "markdown",
     "metadata": {},
     "source": [
      "I can next compute the edit distance between all word pairs as:"
     ]
    },
    {
     "cell_type": "code",
     "collapsed": false,
     "input": [
      "N = len(words)\n",
      "cost = np.zeros((N, N))\n",
      "\n",
      "for i in range(N):\n",
      "    w_i = words[i]\n",
      "    for j in range(N):\n",
      "        w_j = words[j]\n",
      "        \n",
      "        dist_ij = editdist.distance(w_i, w_j)\n",
      "        cost[i, j] = dist_ij"
     ],
     "language": "python",
     "metadata": {},
     "outputs": [],
     "prompt_number": 41
    },
    {
     "cell_type": "code",
     "collapsed": false,
     "input": [
      "cost"
     ],
     "language": "python",
     "metadata": {},
     "outputs": [
      {
       "metadata": {},
       "output_type": "pyout",
       "prompt_number": 42,
       "text": [
        "array([[ 0.,  4.,  5.,  5.,  6.],\n",
        "       [ 4.,  0.,  2.,  5.,  6.],\n",
        "       [ 5.,  2.,  0.,  5.,  7.],\n",
        "       [ 5.,  5.,  5.,  0.,  8.],\n",
        "       [ 6.,  6.,  7.,  8.,  0.]])"
       ]
      }
     ],
     "prompt_number": 42
    },
    {
     "cell_type": "markdown",
     "metadata": {},
     "source": [
      "The symmetric array above shows the number of character edits it will take to make the $i^{th}$ word in my set look like the $j^{th}$ word. For example, it takes 4 edits to make the word `\"pear\"` ($i=1$) look like `\"apple\"` ($j=0$)."
     ]
    },
    {
     "cell_type": "markdown",
     "metadata": {},
     "source": [
      "Work Plan\n",
      "---------\n",
      "\n",
      "Focus on acquiring data from various sources and aggregate into a form suitable for visualization and analysis.  I don't think I'll have today for any exhaustive analysis.  The most I want to get done today is a nice visualization that will make it clear something smart can be done with the data.\n",
      "\n",
      "1. Install necesary packages.\n",
      "2. Get Twitter feed connected and running: Oauth2, API key, etc.\n",
      "3. Browse through the Sequel Movies 2012 web site and make a list of interesting movies to play with.\n",
      "4. Automate looking up movie details from OMDb site.  I want information about IMDbID, plus RottenTomatoes user feedback.\n",
      "5. Work with Twitter API.  I want to search for each of these movies over two time periods: a few months prior to release data, and a few months just after release date.\n",
      "6. Apply TextBlob methods to text data pulled from RottenTomatoes and from Twitter search results.  TextBlob will return two metrics describing the sentiment of a chunk of text: **Polarity** and **Subjectivity**.  Those two numbers will be a great starting point for visualizing this stuff.\n",
      "7. Aggregate Twitter text for each movie (keeping before and after sets separate).  Compute histograms of occurance of each word as basis for [Bag-of-Words](http://en.wikipedia.org/wiki/Bag-of-words_model) style model for cross-comparing multiple sets of words.   \n",
      "\n"
     ]
    },
    {
     "cell_type": "code",
     "collapsed": false,
     "input": [
      "%matplotlib inline"
     ],
     "language": "python",
     "metadata": {},
     "outputs": [],
     "prompt_number": 3
    },
    {
     "cell_type": "code",
     "collapsed": false,
     "input": [
      "plt.plot(np.arange(50))"
     ],
     "language": "python",
     "metadata": {},
     "outputs": [
      {
       "metadata": {},
       "output_type": "pyout",
       "prompt_number": 4,
       "text": [
        "[<matplotlib.lines.Line2D at 0x4279390>]"
       ]
      },
      {
       "metadata": {},
       "output_type": "display_data",
       "png": "[encoded data removed]",
       "text": [
        "<matplotlib.figure.Figure at 0x3f25f50>"
       ]
      }
     ],
     "prompt_number": 4
    }
   ],
   "metadata": {}
  }
 ]
}