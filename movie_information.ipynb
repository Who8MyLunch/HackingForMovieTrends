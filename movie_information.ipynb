{
 "metadata": {
  "name": ""
 },
 "nbformat": 3,
 "nbformat_minor": 0,
 "worksheets": [
  {
   "cells": [
    {
     "cell_type": "code",
     "collapsed": false,
     "input": [
      "from __future__ import division, print_function, unicode_literals\n",
      "\n",
      "%matplotlib inline\n",
      "\n",
      "import numpy as np\n",
      "import matplotlib.pyplot as plt\n",
      "\n",
      "import data_io\n",
      "import twython\n",
      "import textblob\n",
      "import requests\n"
     ],
     "language": "python",
     "metadata": {},
     "outputs": [],
     "prompt_number": 59
    },
    {
     "cell_type": "markdown",
     "metadata": {},
     "source": [
      "# Task Objective\n",
      "\n",
      "My objective for this effort is to demonstrate my data processing and analysis capabilities outside of my tradiational hyperspectral remote sensing work.  I have played in that arena for a long time and picked up a good number of modeling and analysis skills.  This present effort is meant to be a quick example of processing unfamiliar data using new tools and protocols.  This work needs to be quick, efficient, and have a clear punch line.\n",
      "\n",
      "I made a statement a few days ago indicating that I would like to solve new types of problems.  For example, I might treat a new movie as a collection of word feature vectors pulled out of a Twitter feed.  I would then make statistical associations with other movies having known performance characteristics such as viewer retention and engagement.  The validity of the association process could be verified by testing with lablled data.  Results from such a process might be useful for someone's planning efforts.\n",
      "\n",
      "# Early Morning Thoughts\n",
      "\n",
      "## TextBlob\n",
      "\n",
      "Very very early this morning I could not sleep as I kept thinking about this little task.  I kept reviewing in my head details of the objective in the section above.  I need a way to make sense of text describing a movie.  A quick search on Github turned up this great Python package:\n",
      "[TextBlob](https://github.com/sloria/TextBlob).  The text from the website says:\n",
      "\n",
      "    A library for processing textual data. It provides a simple API for diving into common natural\n",
      "    language processing (NLP) tasks such as part-of-speech tagging, noun phrase extraction,\n",
      "    sentiment analysis, classification, translation, and more.\n",
      "\n",
      "Behind the scenes it uses the packages [NLTK](http://www.nltk.org/) and\n",
      "[patterns](http://www.clips.ua.ac.be/pages/pattern-en).  I haven't done much at all with natural\n",
      "language text processing, but this tool looks like a great place to start!  TextBlob will return two metrics describing the sentiment of a chunk of text: **Polarity** and **Subjectivity**.  Those two numbers will be a great starting point for visualizing this stuff.\n",
      "\n",
      "## Open Movie Database API: IMDb and RottenTomatoes\n",
      "\n",
      "Next, I found a nice web API for querrying information from both IMDb and RottenTomatoes:\n",
      "[The OMDb API](http://www.omdbapi.com/).  This site used to reside at this other address http://imdbapi.com/, but not anymore.  Take a look over there for an interesting writeup of the site owner's interaction with IMDb.com's lawyers.  Very clever!\n",
      "\n",
      "Anyhow, you can use this service to very easily search for movie information.  For example, a query  about the movie title \"Star Wars\" http://www.omdbapi.com/?s=Star%20Wars yields this JSON response:\n",
      "\n",
      "    {\"Search\": [{\"Title\": \"Star Wars\", \"Year\": \"1977\",\n",
      "                 \"imdbID\": \"tt0076759\", \"Type\": \"movie\"},\n",
      "                {\"Title\": \"Star Wars: Episode V - The Empire Strikes Back\", \"Year\": \"1980\",\n",
      "                 \"imdbID\": \"tt0080684\", \"Type\": \"movie\"},\n",
      "                {\"Title\": \"Star Wars: Episode VI - Return of the Jedi\", \"Year\": \"1983\",\n",
      "                 \"imdbID\": \"tt0086190\", \"Type\": \"movie\"},\n",
      "                {\"Title\": \"Star Wars: Episode I - The Phantom Menace\", \"Year\": \"1999\",\n",
      "                 \"imdbID\": \"tt0120915\", \"Type\": \"movie\"},\n",
      "                {\"Title\": \"Star Wars: Episode III - Revenge of the Sith\", \"Year\": \"2005\",\n",
      "            Morning     \"imdbID\": \"tt0121766\", \"Type\": \"movie\"},\n",
      "                {\"Title\": \"Star Wars: Episode II - Attack of the Clones\", \"Year\": \"2002\",\n",
      "                 \"imdbID\": \"tt0121765\", \"Type\": \"movie\"},\n",
      "                {\"Title\": \"Star Wars: The Clone Wars\", \"Year\": \"2008\",\n",
      "                 \"imdbID\": \"tt1185834\", \"Type\": \"movie\"},\n",
      "                {\"Title\": \"Star Wars: The Clone Wars\", \"Year\": \"2008\",\n",
      "                \"imdbID\": \"tt0458290\", \"Type\": \"series\"},\n",
      "                {\"Title\": \"Star Wars: Clone Wars\", \"Year\": \"2003\",\n",
      "                 \"imdbID\": \"tt0361243\", \"Type\": \"series\"},\n",
      "                {\"Title\": \"The Star Wars Holiday Special\", \"Year\": \"1978\",\n",
      "                 \"imdbID\": \"tt0193524\", \"Type\": \"movie\"}]}\n",
      "\n",
      "Its just a bit more work to also retrieve information from RottenTomatoes using the imdbID as a\n",
      "reference number.\n",
      "\n",
      "## Twitter API\n",
      "\n",
      "I found several Python packages on Github searching for Twitter's API service, here are two that seem most well-maintained: https://github.com/geduldig/TwitterAPI and https://github.com/ryanmcgrath/twython.  Just from reading over each package, I really like Twython's minimalistic interface.  I will probably go with that.\n",
      "\n",
      "Sign up for Twitter developer API at https://dev.twitter.com/apps.  I named my app MovieInfoPierredemo.  That name is so goofy, but I felt rushed!  Once it's setup I need to grab the `Consumer Key` and the `Consumer Secret`.  Its a bit confusing sorting through all the authentiction options.  The Twython documentation finally had [great advice](https://twython.readthedocs.org/en/latest/usage/starting_out.html#oauth-2-application-authentication) if all one cares about is read access to Twitter: use **Oauth2**!\n",
      "\n",
      "## Some Interesting Movie Lists\n",
      "\n",
      "Next I wanted a list of interesting movies to play with.  I found this list of titles from 2012 for\n",
      "sequels of popular movies: [Sequel Movies 2012](http://www.movieinsider.com/movies/sequel/2012).  I\n",
      "figure I'll need to manipulate some of that data by hand just to get it done quickly.  I would\n",
      "normally write some code to automate this step, but right now this is a one-time deal.\n",
      "\n",
      "## Comparing Words\n",
      "\n",
      "Once the data is all assembled into a useable form, my plan is to compare words using the [Bag-of-Words](http://en.wikipedia.org/wiki/Bag-of-words_model) approach.  This involves computing histograms of word frequencies for some ensemble of words (e.g. words collected from Tweets).  There are several ways to compare histograms with the goal of computing a similarity metric.  My favorite is the [Earth-Mover distance](http://en.wikipedia.org/wiki/Earth_mover's_distance).  It's like this: given two diffrent histograms with the same bins, think of the two distributions as two piles of dirt.  Then the EMD metric is the minimum amount of work a bulldozer have to do in order to make one pile of counts look like the other.  Last year I wrapped up this [Fast C++ EMD](http://www.seas.upenn.edu/~ofirpele/FastEMD/code/) implementation as a Python extension for a work project.\n",
      "\n",
      "In that project the distance between bins was simple: just the [Euclidean distance](http://en.wikipedia.org/wiki/Euclidean_distance) between them in bin space.   But in this task I am dealing with words as labels for each bin.  There is no physical meaning associated with which word is represented in the adjacent bin.  The words might be sorted alphabetically, or by size, or just at random.\n",
      "\n",
      "About ten years ago I implemented the [Levenshtein Distance](http://en.wikipedia.org/wiki/Levenshtein_distance) in [IDL](http://www.exelisvis.com/ProductsServices/IDL.aspx), way before I ever started using Python.  I could have translated that older IDL version over to Python, but it was actually easier to just go Googling for a Python implementation. One of the first results that came back was [py-editdist](https://code.google.com/p/py-editdist/).  That's what I love about Python: if you need a new function there's a good chance somebody already implemented something similar and made their repo publicly-available.\n",
      "\n",
      "## Random Ideas\n",
      "\n",
      "1. Maybe I can show correlationn between Twitter data and IMDb / RottenTomatoes reviews.\n",
      "1. It's not clear if EMD will be all that usefull here.\n",
      "1. compute sentiment from before/after Twitter data.  change in values after release date?\n",
      "1. potential to show temporal dependence from Twitter data, asuuming sufficient volume of tweets per day or week.\n",
      "1. curious idea for visualizing temporal sentiment.  each week compute 2D vector averaged over tweets.  Concatenate vectors into form of a chain. \n",
      "1. I am going to focus on just the sentiment stuff from TextBlob.  forget about EMD / Bad-of-Words stuff for now."
     ]
    },
    {
     "cell_type": "markdown",
     "metadata": {},
     "source": [
      "# Work Plan\n",
      "\n",
      "Given all the brainstorming information above, let's make a plan of action!\n",
      "\n",
      "I am going to focus on acquiring data from various sources and aggregate it into a form suitable for visualization and analysis.  I don't think I'll have enough time for any exhaustive analysis.  The most I want to get done then is generating a nice visualization.\n",
      "\n",
      "1. Install necesary software packages on my laptop.\n",
      "1. Get Twitter feed connected and running: Oauth2, API key, etc.\n",
      "1. Browse through the Sequel Movies 2012 web site and make a list of interesting movies to play with.\n",
      "1. Automate looking up movie details from OMDb site.  I want information about IMDbID plus RottenTomatoes viewer feedback.  Use [Requests](http://requests.readthedocs.org/en/latest/) package.\n",
      "1. Work with Twitter API: Search for tweets about these movies over two time different periods: the months just prior to, and just after release date.\n",
      "1. Aggregate Twitter feed text for each movie (keeping before and after sets as separate collections).\n",
      "   1. what about a time period just after the sequel is announced?\n",
      "1. Apply TextBlob methods to text data pulled from RottenTomatoes and from Twitter search results.  \n",
      "1. Generate graphics (scatterplots) showing before and after sentiment(s) for original movie and sequel.\n",
      "1. Stop here.\n",
      "\n",
      "\n",
      "\n"
     ]
    },
    {
     "cell_type": "markdown",
     "metadata": {},
     "source": [
      "## Quick Example with Earth-Mover Distance\n",
      "\n",
      "*Note*: I wrote this little section before I decided to do away with EMD.  Not really relevant anymore.  Get ride of it?  Stick it in another notebook?\n",
      "\n",
      "Compute histograms of occurance of each word as basis for [Bag-of-Words](http://en.wikipedia.org/wiki/Bag-of-words_model) style model for cross-comparing multiple sets of words.  Use EMD metric as basis for quantifying similarity of two histograms.  The idea here is to compute a cost metric between all pairs of words used in this analysis.  So let's says my complete list of words is this:"
     ]
    },
    {
     "cell_type": "code",
     "collapsed": false,
     "input": [
      "words = ['apple', 'pear', 'peach', 'banana', 'raspberry']"
     ],
     "language": "python",
     "metadata": {},
     "outputs": [],
     "prompt_number": 2
    },
    {
     "cell_type": "markdown",
     "metadata": {},
     "source": [
      "I can next compute the edit distance between all word pairs as:"
     ]
    },
    {
     "cell_type": "code",
     "collapsed": false,
     "input": [
      "import editdist\n",
      "\n",
      "d1 = editdist.distance('abcd', 'abcd')\n",
      "d2 = editdist.distance('abcd', 'abcf')\n",
      "d3 = editdist.distance('abcd', 'ah!')\n",
      "d4 = editdist.distance('abcd', 'eh!')\n",
      "d5 = editdist.distance('abcd', 'trampoline')\n",
      "\n",
      "print(d1, d2, d3, d4, d5)"
     ],
     "language": "python",
     "metadata": {},
     "outputs": [
      {
       "output_type": "stream",
       "stream": "stdout",
       "text": [
        "(0, 1, 3, 4, 9)\n"
       ]
      }
     ],
     "prompt_number": 3
    },
    {
     "cell_type": "code",
     "collapsed": false,
     "input": [
      "N = len(words)\n",
      "cost = np.zeros((N, N))\n",
      "\n",
      "for i in range(N):\n",
      "    w_i = words[i]\n",
      "    for j in range(N):\n",
      "        w_j = words[j]\n",
      "        \n",
      "        dist_ij = editdist.distance(w_i, w_j)\n",
      "        cost[i, j] = dist_ij\n",
      "        \n",
      "print(cost)"
     ],
     "language": "python",
     "metadata": {},
     "outputs": [
      {
       "output_type": "stream",
       "stream": "stdout",
       "text": [
        "[[ 0.  4.  5.  5.  6.]\n",
        " [ 4.  0.  2.  5.  6.]\n",
        " [ 5.  2.  0.  5.  7.]\n",
        " [ 5.  5.  5.  0.  8.]\n",
        " [ 6.  6.  7.  8.  0.]]\n"
       ]
      }
     ],
     "prompt_number": 4
    },
    {
     "cell_type": "markdown",
     "metadata": {},
     "source": [
      "The symmetric array above shows the number of character edits it will take to make the $i^{th}$ word in my set look like the $j^{th}$ word. For example, it takes 4 edits to make the word \"raspberry\" ($i=4$) look like \"peach\" ($j=2$)."
     ]
    },
    {
     "cell_type": "markdown",
     "metadata": {},
     "source": [
      "# List of Interesting Movies\n",
      "I manually grabbed a select set of movie sequls from the listing on this page: http://www.movieinsider.com/movies/sequel/2012.  I stored those movie details in a simple YAML text file named `movies.yml`."
     ]
    },
    {
     "cell_type": "code",
     "collapsed": false,
     "input": [
      "fname_movies = 'movies.yml'\n",
      "\n",
      "info_movies, meta = data_io.read(fname_movies)\n",
      "# movie_names = info_movies.keys()\n",
      "\n",
      "for name, movie_pair in info_movies.items():\n",
      "    print()\n",
      "    for entry in movie_pair:\n",
      "        print('{1} - {0}'.format(entry['name'], entry['year']))\n",
      "        \n"
     ],
     "language": "python",
     "metadata": {},
     "outputs": [
      {
       "output_type": "stream",
       "stream": "stdout",
       "text": [
        "\n",
        "2002 - Men in Black II\n",
        "2012 - Men in Black III\n",
        "\n",
        "2008 - Madagascar: Escape 2 Africa\n",
        "2012 - Madagascar 3: Europes Most Wanted\n",
        "\n",
        "2009 - Underworld: Rise of the Lycans\n",
        "2012 - Underworld: Awakening\n",
        "\n",
        "2008 - The Dark Knight\n",
        "2012 - The Dark Knight Rises\n",
        "\n",
        "2008 - Quantum of Solace\n",
        "2012 - Skyfall\n",
        "\n",
        "2011 - Diary of a Wimpy Kid: Rodrick Rules\n",
        "2012 - Diary of a Wimpy Kid: Dog Days\n",
        "\n",
        "2007 - The Bourne Ultimatum\n",
        "2012 - The Bourne Legacy\n",
        "\n",
        "2009 - Ice Age: Dawn of the Dinosaurs\n",
        "2012 - Ice Age: Continental Drift\n",
        "\n",
        "2008 - Journey to the Center of the Earth\n",
        "2012 - Journey 2: The Mysterious Island\n",
        "\n",
        "2008 - Taken\n",
        "2012 - Taken 2\n",
        "\n",
        "2011 - Paranormal Activity 3\n",
        "2012 - Paranormal Activity 4\n",
        "\n",
        "2007 - Ghost Rider\n",
        "2012 - Ghost Rider: Spirit of Vengence\n",
        "\n",
        "2010 - The Expendables\n",
        "2012 - The Expendables 2\n"
       ]
      }
     ],
     "prompt_number": 82
    },
    {
     "cell_type": "code",
     "collapsed": false,
     "input": [
      "# Run this sets of lines to view the text contents of my movie file.  Or just open up the file in your tet editor.\n",
      "# with open(fname_movies) as fi:\n",
      "#     for v in fi.readlines():\n",
      "#         print(v.rstrip())\n",
      "        "
     ],
     "language": "python",
     "metadata": {},
     "outputs": [],
     "prompt_number": 84
    },
    {
     "cell_type": "code",
     "collapsed": false,
     "input": [],
     "language": "python",
     "metadata": {},
     "outputs": [],
     "prompt_number": 80
    },
    {
     "cell_type": "code",
     "collapsed": false,
     "input": [],
     "language": "python",
     "metadata": {},
     "outputs": [],
     "prompt_number": 81
    },
    {
     "cell_type": "code",
     "collapsed": false,
     "input": [],
     "language": "python",
     "metadata": {},
     "outputs": [
      {
       "output_type": "stream",
       "stream": "stdout",
       "text": [
        "\n",
        "2002 - Men in Black II\n",
        "2012 - Men in Black III\n",
        "\n",
        "2008 - Madagascar: Escape 2 Africa\n",
        "2012 - Madagascar 3: Europes Most Wanted\n",
        "\n",
        "2009 - Underworld: Rise of the Lycans\n",
        "2012 - Underworld: Awakening\n",
        "\n",
        "2008 - The Dark Knight\n",
        "2012 - The Dark Knight Rises\n",
        "\n",
        "2008 - Quantum of Solace\n",
        "2012 - Skyfall\n",
        "\n",
        "2011 - Diary of a Wimpy Kid: Rodrick Rules\n",
        "2012 - Diary of a Wimpy Kid: Dog Days\n",
        "\n",
        "2007 - The Bourne Ultimatum\n",
        "2012 - The Bourne Legacy\n",
        "\n",
        "2009 - Ice Age: Dawn of the Dinosaurs\n",
        "2012 - Ice Age: Continental Drift\n",
        "\n",
        "2008 - Journey to the Center of the Earth\n",
        "2012 - Journey 2: The Mysterious Island\n",
        "\n",
        "2008 - Taken\n",
        "2012 - Taken 2\n",
        "\n",
        "2011 - Paranormal Activity 3\n",
        "2012 - Paranormal Activity 4\n",
        "\n",
        "2007 - Ghost Rider\n",
        "2012 - Ghost Rider: Spirit of Vengence\n",
        "\n",
        "2010 - The Expendables\n",
        "2012 - The Expendables 2\n"
       ]
      }
     ],
     "prompt_number": 67
    },
    {
     "cell_type": "code",
     "collapsed": false,
     "input": [
      "v"
     ],
     "language": "python",
     "metadata": {},
     "outputs": [
      {
       "metadata": {},
       "output_type": "pyout",
       "prompt_number": 53,
       "text": [
        "[{'name': 'Men in Black II', 'year': 2002},\n",
        " {'name': 'Men in Black III', 'year': 2012}]"
       ]
      }
     ],
     "prompt_number": 53
    },
    {
     "cell_type": "markdown",
     "metadata": {},
     "source": [
      "# Twitter Search API\n",
      "\n",
      "Following very helpful instructions from [Twython](https://twython.readthedocs.org/en/latest/usage/starting_out.html#oauth-2-application-authentication) documentation and using my own general-purpose `data_io` module.  This part is **so much** easier if all you need is access to the search API, and not access to any personal info."
     ]
    },
    {
     "cell_type": "code",
     "collapsed": false,
     "input": [
      "flag_get_new_token = False  # Set this True when you need to generate a new access token.\n",
      "\n",
      "fname_twitter_api = 'twitter_api.yml'\n",
      "\n",
      "# Load Twitter API details.\n",
      "twitter_api, meta = data_io.read(fname_twitter_api)\n",
      "\n",
      "if flag_get_new_token:\n",
      "    # Use my credentials to fetch a new access token.\n",
      "    twitter = twython.Twython(twitter_api['consumer_key'], twitter_api['consumer_secret'], oauth_version=2)\n",
      "    \n",
      "    print('fetching new token...')\n",
      "    access_token = twitter.obtain_access_token()\n",
      "\n",
      "    # Store the token for later use.\n",
      "    twitter_api['access_token'] = access_token\n",
      "    data_io.write(fname_twitter_api, twitter_api)\n",
      "\n",
      "\n",
      "twitter = twython.Twython(twitter_api['consumer_key'], access_token=twitter_api['access_token'])\n"
     ],
     "language": "python",
     "metadata": {},
     "outputs": [],
     "prompt_number": 27
    },
    {
     "cell_type": "markdown",
     "metadata": {},
     "source": [
      "Now let's build and run a search query: [overview](https://dev.twitter.com/docs/using-search) and [API details](https://dev.twitter.com/docs/api/1.1/get/search/tweets).\n"
     ]
    },
    {
     "cell_type": "code",
     "collapsed": false,
     "input": [
      "twitter.search(q='python')"
     ],
     "language": "python",
     "metadata": {},
     "outputs": [
      {
       "metadata": {},
       "output_type": "pyout",
       "prompt_number": 18,
       "text": [
        "u'AAAAAAAAAAAAAAAAAAAAAGrvUwAAAAAA5HPdlebK3K8QwiCONI63YiuL9CY%3DoAzKljIpp86AqqagCMIpOUwg1CPpyga1DgF38yrQdXkboeWwn8'"
       ]
      }
     ],
     "prompt_number": 18
    },
    {
     "cell_type": "code",
     "collapsed": false,
     "input": [
      "twitter.search??"
     ],
     "language": "python",
     "metadata": {},
     "outputs": [],
     "prompt_number": 25
    },
    {
     "cell_type": "code",
     "collapsed": false,
     "input": [],
     "language": "python",
     "metadata": {},
     "outputs": []
    },
    {
     "cell_type": "code",
     "collapsed": false,
     "input": [
      "fig, axes = plt.subplots(figsize=(12,5))\n",
      "\n",
      "axes.plot(range(50), 'r')\n",
      "axes.set_xlabel('x')\n",
      "axes.set_ylabel('y')\n",
      "axes.set_title('title')"
     ],
     "language": "python",
     "metadata": {},
     "outputs": [
      {
       "metadata": {},
       "output_type": "pyout",
       "prompt_number": 5,
       "text": [
        "<matplotlib.text.Text at 0x4dff910>"
       ]
      },
      {
       "metadata": {},
       "output_type": "display_data",
       "png": "[encoded data removed]",
       "text": [
        "<matplotlib.figure.Figure at 0x4ab3050>"
       ]
      }
     ],
     "prompt_number": 5
    },
    {
     "cell_type": "code",
     "collapsed": false,
     "input": [],
     "language": "python",
     "metadata": {},
     "outputs": [],
     "prompt_number": 5
    }
   ],
   "metadata": {}
  }
 ]
}